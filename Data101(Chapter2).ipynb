{
  "nbformat": 4,
  "nbformat_minor": 0,
  "metadata": {
    "colab": {
      "name": "Data101(Chapter2).ipynb",
      "provenance": [],
      "authorship_tag": "ABX9TyO33AEQQL9lScNDGKTsZfbV",
      "include_colab_link": true
    },
    "kernelspec": {
      "name": "python3",
      "display_name": "Python 3"
    },
    "language_info": {
      "name": "python"
    }
  },
  "cells": [
    {
      "cell_type": "markdown",
      "metadata": {
        "id": "view-in-github",
        "colab_type": "text"
      },
      "source": [
        "<a href=\"https://colab.research.google.com/github/moneypitak/DWDM21/blob/main/Data101(Chapter2).ipynb\" target=\"_parent\"><img src=\"https://colab.research.google.com/assets/colab-badge.svg\" alt=\"Open In Colab\"/></a>"
      ]
    },
    {
      "cell_type": "code",
      "metadata": {
        "id": "GTtS5jOysCRI"
      },
      "source": [
        "import pandas #การเรียกใช้ package = import ตามด้วย package"
      ],
      "execution_count": 4,
      "outputs": []
    },
    {
      "cell_type": "code",
      "metadata": {
        "id": "FDPAJ3kls42S"
      },
      "source": [
        "import pandas as pd"
      ],
      "execution_count": 5,
      "outputs": []
    },
    {
      "cell_type": "markdown",
      "metadata": {
        "id": "sY5VqwkWxHbo"
      },
      "source": [
        "ไฟล์ csv จะเน้นใช้งานเป็นหลักในวิชานี้"
      ]
    },
    {
      "cell_type": "code",
      "metadata": {
        "id": "ZfZ5lUEau0tW"
      },
      "source": [
        "data_df = pd.read_csv('data.csv')"
      ],
      "execution_count": 6,
      "outputs": []
    },
    {
      "cell_type": "code",
      "metadata": {
        "id": "xqhGJFuSxvEJ",
        "colab": {
          "base_uri": "https://localhost:8080/",
          "height": 142
        },
        "outputId": "fa9f028e-7a91-4041-b507-2d4b06e14269"
      },
      "source": [
        "data_df"
      ],
      "execution_count": 7,
      "outputs": [
        {
          "output_type": "execute_result",
          "data": {
            "text/html": [
              "<div>\n",
              "<style scoped>\n",
              "    .dataframe tbody tr th:only-of-type {\n",
              "        vertical-align: middle;\n",
              "    }\n",
              "\n",
              "    .dataframe tbody tr th {\n",
              "        vertical-align: top;\n",
              "    }\n",
              "\n",
              "    .dataframe thead th {\n",
              "        text-align: right;\n",
              "    }\n",
              "</style>\n",
              "<table border=\"1\" class=\"dataframe\">\n",
              "  <thead>\n",
              "    <tr style=\"text-align: right;\">\n",
              "      <th></th>\n",
              "      <th>name</th>\n",
              "      <th>age</th>\n",
              "      <th>city</th>\n",
              "    </tr>\n",
              "  </thead>\n",
              "  <tbody>\n",
              "    <tr>\n",
              "      <th>0</th>\n",
              "      <td>tom</td>\n",
              "      <td>27</td>\n",
              "      <td>KhonKaen</td>\n",
              "    </tr>\n",
              "    <tr>\n",
              "      <th>1</th>\n",
              "      <td>Paul</td>\n",
              "      <td>15</td>\n",
              "      <td>Bangkok</td>\n",
              "    </tr>\n",
              "    <tr>\n",
              "      <th>2</th>\n",
              "      <td>Sarah</td>\n",
              "      <td>49</td>\n",
              "      <td>London</td>\n",
              "    </tr>\n",
              "  </tbody>\n",
              "</table>\n",
              "</div>"
            ],
            "text/plain": [
              "    name  age      city\n",
              "0    tom   27  KhonKaen\n",
              "1   Paul   15   Bangkok\n",
              "2  Sarah   49    London"
            ]
          },
          "metadata": {
            "tags": []
          },
          "execution_count": 7
        }
      ]
    },
    {
      "cell_type": "markdown",
      "metadata": {
        "id": "wLiYW1b60IVP"
      },
      "source": [
        "# Basic python\n",
        "\n",
        "## Variables\n",
        "\n",
        "\n",
        "### ข้อกำหนดในการตั้งชื่อตัวแปร\n",
        "\n",
        "ชื่อห้ามมีเว้นวรรค\n",
        "\n",
        "(พยายาม)ควรใช้ภาษาอังกฤษ\n",
        "\n",
        "ตัวเล็กกับตัวใหญ่แตกต่างกัน (case sensitive)\n",
        "\n",
        "ห้ามใช้ตัวเลขเป็นตัวหน้า"
      ]
    },
    {
      "cell_type": "code",
      "metadata": {
        "id": "HS2oiUrM0SsB"
      },
      "source": [
        "variable_a = 12 # เป็นค่าตัวเลข\n",
        "variable_b = 'abcde' # เรียกว่า quote\n",
        "variable_c = variable_a\n",
        "variable_d = -41.2\n",
        "variable_4 = \"KKU\" # \" เรียกว่า double quote"
      ],
      "execution_count": 8,
      "outputs": []
    },
    {
      "cell_type": "code",
      "metadata": {
        "id": "Y1eEaD4v0VXA",
        "colab": {
          "base_uri": "https://localhost:8080/"
        },
        "outputId": "068fed4f-44a1-4aa4-ea34-e8e3d528482f"
      },
      "source": [
        "variable_a"
      ],
      "execution_count": 9,
      "outputs": [
        {
          "output_type": "execute_result",
          "data": {
            "text/plain": [
              "12"
            ]
          },
          "metadata": {
            "tags": []
          },
          "execution_count": 9
        }
      ]
    },
    {
      "cell_type": "code",
      "metadata": {
        "id": "h-JozYEq1Qvx",
        "colab": {
          "base_uri": "https://localhost:8080/",
          "height": 35
        },
        "outputId": "13e140a4-a15e-4d11-f076-4e73ab7a2b2c"
      },
      "source": [
        "variable_b"
      ],
      "execution_count": 10,
      "outputs": [
        {
          "output_type": "execute_result",
          "data": {
            "application/vnd.google.colaboratory.intrinsic+json": {
              "type": "string"
            },
            "text/plain": [
              "'abcde'"
            ]
          },
          "metadata": {
            "tags": []
          },
          "execution_count": 10
        }
      ]
    },
    {
      "cell_type": "code",
      "metadata": {
        "id": "DNFDYv_u1RTh",
        "colab": {
          "base_uri": "https://localhost:8080/"
        },
        "outputId": "f77ee623-337b-44dd-d7ca-998efd3e92f2"
      },
      "source": [
        "variable_c"
      ],
      "execution_count": 11,
      "outputs": [
        {
          "output_type": "execute_result",
          "data": {
            "text/plain": [
              "12"
            ]
          },
          "metadata": {
            "tags": []
          },
          "execution_count": 11
        }
      ]
    },
    {
      "cell_type": "code",
      "metadata": {
        "id": "gOrm-DAkSA-R",
        "colab": {
          "base_uri": "https://localhost:8080/"
        },
        "outputId": "647887ed-4d94-4267-bd26-c0b604f8f054"
      },
      "source": [
        "variable_x = variable_c + variable_d # ตัวเลขกับตัวหนังสือบวกกันไม่ได้\n",
        "print(variable_x)"
      ],
      "execution_count": 12,
      "outputs": [
        {
          "output_type": "stream",
          "text": [
            "-29.200000000000003\n"
          ],
          "name": "stdout"
        }
      ]
    },
    {
      "cell_type": "code",
      "metadata": {
        "id": "iz6nHZjlSCaH",
        "colab": {
          "base_uri": "https://localhost:8080/"
        },
        "outputId": "12a7e29b-199d-4c84-fc80-a8c3dbd7c9e4"
      },
      "source": [
        "\n",
        "print(variable_b + variable_4)"
      ],
      "execution_count": 13,
      "outputs": [
        {
          "output_type": "stream",
          "text": [
            "abcdeKKU\n"
          ],
          "name": "stdout"
        }
      ]
    },
    {
      "cell_type": "markdown",
      "metadata": {
        "id": "qqq4FSZTSEGm"
      },
      "source": [
        "# Casting int() float() str()"
      ]
    },
    {
      "cell_type": "code",
      "metadata": {
        "id": "LWE3y7M0SFkp",
        "colab": {
          "base_uri": "https://localhost:8080/"
        },
        "outputId": "122bebda-df20-4cf1-8c58-a07d9551d207"
      },
      "source": [
        "print(variable_x)\n",
        "print(int(variable_x))"
      ],
      "execution_count": 14,
      "outputs": [
        {
          "output_type": "stream",
          "text": [
            "-29.200000000000003\n",
            "-29\n"
          ],
          "name": "stdout"
        }
      ]
    },
    {
      "cell_type": "code",
      "metadata": {
        "id": "VvDhc9RsSGoC",
        "colab": {
          "base_uri": "https://localhost:8080/"
        },
        "outputId": "88fb404f-32fc-4368-8313-8b1a83c98f2c"
      },
      "source": [
        "\n",
        "print(str(variable_x))"
      ],
      "execution_count": 15,
      "outputs": [
        {
          "output_type": "stream",
          "text": [
            "-29.200000000000003\n"
          ],
          "name": "stdout"
        }
      ]
    },
    {
      "cell_type": "code",
      "metadata": {
        "id": "N-pxJCHLSHu_",
        "colab": {
          "base_uri": "https://localhost:8080/"
        },
        "outputId": "ebee32b9-7dc1-4286-8f7f-b92fdc112f5a"
      },
      "source": [
        "print(float(variable_x))"
      ],
      "execution_count": 16,
      "outputs": [
        {
          "output_type": "stream",
          "text": [
            "-29.200000000000003\n"
          ],
          "name": "stdout"
        }
      ]
    },
    {
      "cell_type": "code",
      "metadata": {
        "id": "TErFO58bSJEY",
        "colab": {
          "base_uri": "https://localhost:8080/"
        },
        "outputId": "e681ea6d-c4a0-476e-b464-6d68865dab1c"
      },
      "source": [
        "V_X = (str(variable_x))\n",
        "print(V_X)"
      ],
      "execution_count": 17,
      "outputs": [
        {
          "output_type": "stream",
          "text": [
            "-29.200000000000003\n"
          ],
          "name": "stdout"
        }
      ]
    },
    {
      "cell_type": "code",
      "metadata": {
        "id": "1qCb_LCDSKQC",
        "colab": {
          "base_uri": "https://localhost:8080/",
          "height": 35
        },
        "outputId": "3958916d-3405-4766-f26f-76075a0f6e5d"
      },
      "source": [
        "\n",
        "V_X"
      ],
      "execution_count": 18,
      "outputs": [
        {
          "output_type": "execute_result",
          "data": {
            "application/vnd.google.colaboratory.intrinsic+json": {
              "type": "string"
            },
            "text/plain": [
              "'-29.200000000000003'"
            ]
          },
          "metadata": {
            "tags": []
          },
          "execution_count": 18
        }
      ]
    },
    {
      "cell_type": "code",
      "metadata": {
        "id": "9I0v78aRSLMo",
        "colab": {
          "base_uri": "https://localhost:8080/"
        },
        "outputId": "dd6991f2-796f-47ee-ffcd-8c43738c32ac"
      },
      "source": [
        "\n",
        "float(V_X)"
      ],
      "execution_count": 19,
      "outputs": [
        {
          "output_type": "execute_result",
          "data": {
            "text/plain": [
              "-29.200000000000003"
            ]
          },
          "metadata": {
            "tags": []
          },
          "execution_count": 19
        }
      ]
    },
    {
      "cell_type": "markdown",
      "metadata": {
        "id": "tdI8rY83SMs2"
      },
      "source": [
        "# Data structure\n",
        "\n",
        "## list()"
      ]
    },
    {
      "cell_type": "code",
      "metadata": {
        "id": "GvZZZu9XSSwQ"
      },
      "source": [
        "list_a = [1,2,0.2,'abs',] # [] square brackets\n",
        "list_b = [2,'xyz',list_a,[1,2,0.0]]"
      ],
      "execution_count": 20,
      "outputs": []
    },
    {
      "cell_type": "code",
      "metadata": {
        "id": "cDTAeCMjST5Y",
        "colab": {
          "base_uri": "https://localhost:8080/"
        },
        "outputId": "f37e8b42-6885-434f-bd7f-966e1c50ff6c"
      },
      "source": [
        "list_a"
      ],
      "execution_count": 21,
      "outputs": [
        {
          "output_type": "execute_result",
          "data": {
            "text/plain": [
              "[1, 2, 0.2, 'abs']"
            ]
          },
          "metadata": {
            "tags": []
          },
          "execution_count": 21
        }
      ]
    },
    {
      "cell_type": "code",
      "metadata": {
        "id": "ztGYizLGSU6i",
        "colab": {
          "base_uri": "https://localhost:8080/"
        },
        "outputId": "fb0b7b19-60a5-4ba2-c523-63e25c636f35"
      },
      "source": [
        "list_b"
      ],
      "execution_count": 22,
      "outputs": [
        {
          "output_type": "execute_result",
          "data": {
            "text/plain": [
              "[2, 'xyz', [1, 2, 0.2, 'abs'], [1, 2, 0.0]]"
            ]
          },
          "metadata": {
            "tags": []
          },
          "execution_count": 22
        }
      ]
    },
    {
      "cell_type": "code",
      "metadata": {
        "id": "9ZBtEW5eSWHy",
        "colab": {
          "base_uri": "https://localhost:8080/"
        },
        "outputId": "622bedc3-56c8-4d05-a469-0c98c6556024"
      },
      "source": [
        "\n",
        "len(list_b) # len() คือจำนวนสมาชิก"
      ],
      "execution_count": 23,
      "outputs": [
        {
          "output_type": "execute_result",
          "data": {
            "text/plain": [
              "4"
            ]
          },
          "metadata": {
            "tags": []
          },
          "execution_count": 23
        }
      ]
    },
    {
      "cell_type": "code",
      "metadata": {
        "id": "SaxlmD3PSXax",
        "colab": {
          "base_uri": "https://localhost:8080/"
        },
        "outputId": "8a4ea5f1-ad01-4dd4-c929-cfd25b0bd1e1"
      },
      "source": [
        "list_b[3]"
      ],
      "execution_count": 24,
      "outputs": [
        {
          "output_type": "execute_result",
          "data": {
            "text/plain": [
              "[1, 2, 0.0]"
            ]
          },
          "metadata": {
            "tags": []
          },
          "execution_count": 24
        }
      ]
    },
    {
      "cell_type": "code",
      "metadata": {
        "id": "XfmXSza5SYZ_",
        "colab": {
          "base_uri": "https://localhost:8080/"
        },
        "outputId": "0067a790-f4c3-4cdc-8091-70f59dd4e679"
      },
      "source": [
        "list_b[3][1]"
      ],
      "execution_count": 25,
      "outputs": [
        {
          "output_type": "execute_result",
          "data": {
            "text/plain": [
              "2"
            ]
          },
          "metadata": {
            "tags": []
          },
          "execution_count": 25
        }
      ]
    },
    {
      "cell_type": "markdown",
      "metadata": {
        "id": "VSPPOynvSZlw"
      },
      "source": [
        "\n",
        "string คือ list ของตัวหนังสือ"
      ]
    },
    {
      "cell_type": "code",
      "metadata": {
        "id": "JC8cGJyySam5"
      },
      "source": [
        "a = 'Stat KKU'"
      ],
      "execution_count": 26,
      "outputs": []
    },
    {
      "cell_type": "code",
      "metadata": {
        "id": "LO4Cu2yDSbwQ",
        "colab": {
          "base_uri": "https://localhost:8080/",
          "height": 0
        },
        "outputId": "d26c3735-b833-4e69-bf89-60890112a831"
      },
      "source": [
        "a[4]"
      ],
      "execution_count": 27,
      "outputs": [
        {
          "output_type": "execute_result",
          "data": {
            "application/vnd.google.colaboratory.intrinsic+json": {
              "type": "string"
            },
            "text/plain": [
              "' '"
            ]
          },
          "metadata": {
            "tags": []
          },
          "execution_count": 27
        }
      ]
    },
    {
      "cell_type": "markdown",
      "metadata": {
        "id": "vaKPi38BSdEf"
      },
      "source": [
        "\n",
        "วิธีสร้าง list ว่าง"
      ]
    },
    {
      "cell_type": "code",
      "metadata": {
        "id": "Jq526ZCWSeGh"
      },
      "source": [
        "list_c = list() # แบบที่1\n",
        "list_d = [] # แบบที่2"
      ],
      "execution_count": 28,
      "outputs": []
    },
    {
      "cell_type": "code",
      "metadata": {
        "id": "l3TfmpcTSfCH",
        "colab": {
          "base_uri": "https://localhost:8080/"
        },
        "outputId": "1a0dba51-73b3-40ff-f5ed-e5e7c04e6bb4"
      },
      "source": [
        "list_c"
      ],
      "execution_count": 29,
      "outputs": [
        {
          "output_type": "execute_result",
          "data": {
            "text/plain": [
              "[]"
            ]
          },
          "metadata": {
            "tags": []
          },
          "execution_count": 29
        }
      ]
    },
    {
      "cell_type": "code",
      "metadata": {
        "id": "jQcxCzicSf9B",
        "colab": {
          "base_uri": "https://localhost:8080/"
        },
        "outputId": "a4a7cc50-eba7-47c7-b993-64aa8c593d4d"
      },
      "source": [
        "\n",
        "list_d"
      ],
      "execution_count": 30,
      "outputs": [
        {
          "output_type": "execute_result",
          "data": {
            "text/plain": [
              "[]"
            ]
          },
          "metadata": {
            "tags": []
          },
          "execution_count": 30
        }
      ]
    },
    {
      "cell_type": "markdown",
      "metadata": {
        "id": "OPquWPZ8ShGX"
      },
      "source": [
        "\n",
        "เติมค่าลงไปใน list (.append())"
      ]
    },
    {
      "cell_type": "code",
      "metadata": {
        "id": "i1RJYLXcSiO_"
      },
      "source": [
        "\n",
        "list_d.append('a')"
      ],
      "execution_count": 31,
      "outputs": []
    },
    {
      "cell_type": "code",
      "metadata": {
        "id": "bWIi83UBSjaY",
        "colab": {
          "base_uri": "https://localhost:8080/"
        },
        "outputId": "fbebbdc1-84ad-4688-a393-f62c61fd125b"
      },
      "source": [
        "\n",
        "list_d"
      ],
      "execution_count": 32,
      "outputs": [
        {
          "output_type": "execute_result",
          "data": {
            "text/plain": [
              "['a']"
            ]
          },
          "metadata": {
            "tags": []
          },
          "execution_count": 32
        }
      ]
    },
    {
      "cell_type": "code",
      "metadata": {
        "id": "fCdltcQ0Skqg"
      },
      "source": [
        "list_d.append('56')"
      ],
      "execution_count": 33,
      "outputs": []
    },
    {
      "cell_type": "code",
      "metadata": {
        "id": "U9HcF-hiSl-4",
        "colab": {
          "base_uri": "https://localhost:8080/"
        },
        "outputId": "6b50c016-3a6a-4cf0-cae6-a5cba1e2ee82"
      },
      "source": [
        "list_d"
      ],
      "execution_count": 34,
      "outputs": [
        {
          "output_type": "execute_result",
          "data": {
            "text/plain": [
              "['a', '56']"
            ]
          },
          "metadata": {
            "tags": []
          },
          "execution_count": 34
        }
      ]
    },
    {
      "cell_type": "markdown",
      "metadata": {
        "id": "Zdo-BhA-Sn6i"
      },
      "source": [
        "## การชี้ค่าใน list (indexing)\n",
        "\n",
        "ลำดับบในการชี้\n",
        "\n",
        "ลำดับเริ่มจาก 0\n",
        "\n",
        "สามารถชี้จากข้างหลังได้โดยใช้ negative index"
      ]
    },
    {
      "cell_type": "code",
      "metadata": {
        "id": "oll8qeDmSnUK",
        "colab": {
          "base_uri": "https://localhost:8080/"
        },
        "outputId": "395739f1-6a7d-4384-8b97-3b4e0c678734"
      },
      "source": [
        "list_b"
      ],
      "execution_count": 35,
      "outputs": [
        {
          "output_type": "execute_result",
          "data": {
            "text/plain": [
              "[2, 'xyz', [1, 2, 0.2, 'abs'], [1, 2, 0.0]]"
            ]
          },
          "metadata": {
            "tags": []
          },
          "execution_count": 35
        }
      ]
    },
    {
      "cell_type": "code",
      "metadata": {
        "id": "zNsEjlnySt8i",
        "colab": {
          "base_uri": "https://localhost:8080/"
        },
        "outputId": "360cf95c-76cc-455a-cc2d-7d97ac6a8ba7"
      },
      "source": [
        "list_b[-1]"
      ],
      "execution_count": 36,
      "outputs": [
        {
          "output_type": "execute_result",
          "data": {
            "text/plain": [
              "[1, 2, 0.0]"
            ]
          },
          "metadata": {
            "tags": []
          },
          "execution_count": 36
        }
      ]
    },
    {
      "cell_type": "markdown",
      "metadata": {
        "id": "OIAPo5kcSwX6"
      },
      "source": [
        "## list slicing"
      ]
    },
    {
      "cell_type": "code",
      "metadata": {
        "id": "7lf_JuF0Sx56"
      },
      "source": [
        "# วิธีการตัด list"
      ],
      "execution_count": 37,
      "outputs": []
    },
    {
      "cell_type": "code",
      "metadata": {
        "id": "i7TTSxxQSzA_"
      },
      "source": [
        "list_ex = [1,2,3,5,6,8,-1,20,50,0]"
      ],
      "execution_count": 38,
      "outputs": []
    },
    {
      "cell_type": "markdown",
      "metadata": {
        "id": "eFW4vhWSS0If"
      },
      "source": [
        "เราจะตัด list โดยเอาตั้งแต่ [ตัวหน้า:ตัวก่อนตัวหลัง]\n",
        "\n",
        "ถ้าเป็นสัยลักษณ์คณิตศาสตร์ [ตัวหน้า,ตัวหลัง] -> [ตัวหน้า,ตัวหลัง)"
      ]
    },
    {
      "cell_type": "code",
      "metadata": {
        "id": "8EBMvDm-S32Q",
        "colab": {
          "base_uri": "https://localhost:8080/"
        },
        "outputId": "2856ae3f-92c6-432e-cdcb-60492cf1b4b4"
      },
      "source": [
        "list_ex[1:6] # เราจะตัด list โดยเอาตั้งแต่ [ตัวหน้า:ตัวก่อนตัวหลัง]"
      ],
      "execution_count": 39,
      "outputs": [
        {
          "output_type": "execute_result",
          "data": {
            "text/plain": [
              "[2, 3, 5, 6, 8]"
            ]
          },
          "metadata": {
            "tags": []
          },
          "execution_count": 39
        }
      ]
    },
    {
      "cell_type": "code",
      "metadata": {
        "id": "cJzRfEprS5Bv",
        "colab": {
          "base_uri": "https://localhost:8080/"
        },
        "outputId": "bdb91f88-0405-432d-c0ca-0468046a29fe"
      },
      "source": [
        "list_ex[4:]"
      ],
      "execution_count": 40,
      "outputs": [
        {
          "output_type": "execute_result",
          "data": {
            "text/plain": [
              "[6, 8, -1, 20, 50, 0]"
            ]
          },
          "metadata": {
            "tags": []
          },
          "execution_count": 40
        }
      ]
    },
    {
      "cell_type": "code",
      "metadata": {
        "id": "JBfb_O4BS6Gv",
        "colab": {
          "base_uri": "https://localhost:8080/"
        },
        "outputId": "a8f7ed0c-2e22-4e45-f602-af0f3df8a01a"
      },
      "source": [
        "list_ex[:6]"
      ],
      "execution_count": 41,
      "outputs": [
        {
          "output_type": "execute_result",
          "data": {
            "text/plain": [
              "[1, 2, 3, 5, 6, 8]"
            ]
          },
          "metadata": {
            "tags": []
          },
          "execution_count": 41
        }
      ]
    },
    {
      "cell_type": "markdown",
      "metadata": {
        "id": "7NvpmVQGS7IZ"
      },
      "source": [
        "\n",
        "[จุดเริ่มต้น:จุดสุดท้ายขอบเขต:step]"
      ]
    },
    {
      "cell_type": "code",
      "metadata": {
        "id": "Dhb2v6BrS8pA",
        "colab": {
          "base_uri": "https://localhost:8080/"
        },
        "outputId": "97d2a827-af53-4f6b-d38c-56e8e834dd3c"
      },
      "source": [
        "list_ex"
      ],
      "execution_count": 42,
      "outputs": [
        {
          "output_type": "execute_result",
          "data": {
            "text/plain": [
              "[1, 2, 3, 5, 6, 8, -1, 20, 50, 0]"
            ]
          },
          "metadata": {
            "tags": []
          },
          "execution_count": 42
        }
      ]
    },
    {
      "cell_type": "code",
      "metadata": {
        "id": "Zqrd-IggS9rQ",
        "colab": {
          "base_uri": "https://localhost:8080/"
        },
        "outputId": "4d9b761e-3aea-40ea-a763-a62c12609ec9"
      },
      "source": [
        "list_ex[::2]"
      ],
      "execution_count": 43,
      "outputs": [
        {
          "output_type": "execute_result",
          "data": {
            "text/plain": [
              "[1, 3, 6, -1, 50]"
            ]
          },
          "metadata": {
            "tags": []
          },
          "execution_count": 43
        }
      ]
    },
    {
      "cell_type": "code",
      "metadata": {
        "id": "zn6IOaniS-5v",
        "colab": {
          "base_uri": "https://localhost:8080/"
        },
        "outputId": "3bb275f2-020b-436b-e401-45003a9d1785"
      },
      "source": [
        "list_ex[::-1] # การกลับ list"
      ],
      "execution_count": 44,
      "outputs": [
        {
          "output_type": "execute_result",
          "data": {
            "text/plain": [
              "[0, 50, 20, -1, 8, 6, 5, 3, 2, 1]"
            ]
          },
          "metadata": {
            "tags": []
          },
          "execution_count": 44
        }
      ]
    },
    {
      "cell_type": "code",
      "metadata": {
        "id": "67iKMIwwTADf",
        "colab": {
          "base_uri": "https://localhost:8080/",
          "height": 0
        },
        "outputId": "b857f1ac-f9dc-4338-d394-d1679bd6d459"
      },
      "source": [
        "a"
      ],
      "execution_count": 45,
      "outputs": [
        {
          "output_type": "execute_result",
          "data": {
            "application/vnd.google.colaboratory.intrinsic+json": {
              "type": "string"
            },
            "text/plain": [
              "'Stat KKU'"
            ]
          },
          "metadata": {
            "tags": []
          },
          "execution_count": 45
        }
      ]
    },
    {
      "cell_type": "code",
      "metadata": {
        "id": "VkI3texiTBD3",
        "colab": {
          "base_uri": "https://localhost:8080/",
          "height": 0
        },
        "outputId": "201bfffd-9b90-468e-9732-c6febe65f36c"
      },
      "source": [
        "a[5:]"
      ],
      "execution_count": 46,
      "outputs": [
        {
          "output_type": "execute_result",
          "data": {
            "application/vnd.google.colaboratory.intrinsic+json": {
              "type": "string"
            },
            "text/plain": [
              "'KKU'"
            ]
          },
          "metadata": {
            "tags": []
          },
          "execution_count": 46
        }
      ]
    },
    {
      "cell_type": "code",
      "metadata": {
        "id": "of0upnKpTCDH",
        "colab": {
          "base_uri": "https://localhost:8080/",
          "height": 0
        },
        "outputId": "777bcdd3-6b5a-45e2-93d0-df0370bfb817"
      },
      "source": [
        "a[5::]"
      ],
      "execution_count": 47,
      "outputs": [
        {
          "output_type": "execute_result",
          "data": {
            "application/vnd.google.colaboratory.intrinsic+json": {
              "type": "string"
            },
            "text/plain": [
              "'KKU'"
            ]
          },
          "metadata": {
            "tags": []
          },
          "execution_count": 47
        }
      ]
    },
    {
      "cell_type": "code",
      "metadata": {
        "id": "W2vu7qzTTC5y",
        "colab": {
          "base_uri": "https://localhost:8080/",
          "height": 0
        },
        "outputId": "b21e78ae-1970-479f-a36f-03b9f995f8ca"
      },
      "source": [
        "a[-3:]"
      ],
      "execution_count": 48,
      "outputs": [
        {
          "output_type": "execute_result",
          "data": {
            "application/vnd.google.colaboratory.intrinsic+json": {
              "type": "string"
            },
            "text/plain": [
              "'KKU'"
            ]
          },
          "metadata": {
            "tags": []
          },
          "execution_count": 48
        }
      ]
    },
    {
      "cell_type": "code",
      "metadata": {
        "id": "UigvSGgqTD7q",
        "colab": {
          "base_uri": "https://localhost:8080/",
          "height": 0
        },
        "outputId": "d223d8c2-1add-4494-e0d4-d075f8a93aec"
      },
      "source": [
        "\n",
        "a[5:8]"
      ],
      "execution_count": 49,
      "outputs": [
        {
          "output_type": "execute_result",
          "data": {
            "application/vnd.google.colaboratory.intrinsic+json": {
              "type": "string"
            },
            "text/plain": [
              "'KKU'"
            ]
          },
          "metadata": {
            "tags": []
          },
          "execution_count": 49
        }
      ]
    },
    {
      "cell_type": "markdown",
      "metadata": {
        "id": "HNW2yWkkTFb5"
      },
      "source": [
        "list + list"
      ]
    },
    {
      "cell_type": "code",
      "metadata": {
        "id": "y7afCiAATGZi",
        "colab": {
          "base_uri": "https://localhost:8080/"
        },
        "outputId": "1d036158-6f84-4ba7-8a7f-c680414982ba"
      },
      "source": [
        "\n",
        "print(list_a)\n",
        "print(list_b)"
      ],
      "execution_count": 50,
      "outputs": [
        {
          "output_type": "stream",
          "text": [
            "[1, 2, 0.2, 'abs']\n",
            "[2, 'xyz', [1, 2, 0.2, 'abs'], [1, 2, 0.0]]\n"
          ],
          "name": "stdout"
        }
      ]
    },
    {
      "cell_type": "code",
      "metadata": {
        "id": "n31o0299THhz",
        "colab": {
          "base_uri": "https://localhost:8080/"
        },
        "outputId": "decfcb27-b3df-4f57-9dba-3c72973ff349"
      },
      "source": [
        "\n",
        "list_a + list_b"
      ],
      "execution_count": 51,
      "outputs": [
        {
          "output_type": "execute_result",
          "data": {
            "text/plain": [
              "[1, 2, 0.2, 'abs', 2, 'xyz', [1, 2, 0.2, 'abs'], [1, 2, 0.0]]"
            ]
          },
          "metadata": {
            "tags": []
          },
          "execution_count": 51
        }
      ]
    },
    {
      "cell_type": "code",
      "metadata": {
        "id": "ZC_Pr3tlTId6",
        "colab": {
          "base_uri": "https://localhost:8080/"
        },
        "outputId": "1fc3e59d-c748-4e28-d98b-58d4884e5ca4"
      },
      "source": [
        "\n",
        "list_b + list_a"
      ],
      "execution_count": 52,
      "outputs": [
        {
          "output_type": "execute_result",
          "data": {
            "text/plain": [
              "[2, 'xyz', [1, 2, 0.2, 'abs'], [1, 2, 0.0], 1, 2, 0.2, 'abs']"
            ]
          },
          "metadata": {
            "tags": []
          },
          "execution_count": 52
        }
      ]
    },
    {
      "cell_type": "markdown",
      "metadata": {
        "id": "yQs8BYm6TX7A"
      },
      "source": [
        "format string\n",
        "\n",
        "f 'string{ตัวแปร}'\n",
        "\n",
        "{} เรียกว่า curly bracket"
      ]
    },
    {
      "cell_type": "code",
      "metadata": {
        "id": "yjNIXyY2TPNH",
        "colab": {
          "base_uri": "https://localhost:8080/",
          "height": 0
        },
        "outputId": "c79af366-0bda-42d3-8a1f-55ca72dc1268"
      },
      "source": [
        "f'ตัวแปร list_a มีค่าคือ {list_a}'"
      ],
      "execution_count": 53,
      "outputs": [
        {
          "output_type": "execute_result",
          "data": {
            "application/vnd.google.colaboratory.intrinsic+json": {
              "type": "string"
            },
            "text/plain": [
              "\"ตัวแปร list_a มีค่าคือ [1, 2, 0.2, 'abs']\""
            ]
          },
          "metadata": {
            "tags": []
          },
          "execution_count": 53
        }
      ]
    },
    {
      "cell_type": "markdown",
      "metadata": {
        "id": "nWZ__shXCzlf"
      },
      "source": [
        "# Loop"
      ]
    },
    {
      "cell_type": "markdown",
      "metadata": {
        "id": "_9_BcihSTdoo"
      },
      "source": [
        "\n",
        "```python\n",
        "for ตัวแปรที่จะรับค่าจากลิสต์ in ลิสต์ที่จะนำมาวนลูป:\n",
        "    do something\n",
        "    do another thing # in loop\n",
        "```"
      ]
    },
    {
      "cell_type": "code",
      "metadata": {
        "id": "MfwhdRnPTa1o",
        "colab": {
          "base_uri": "https://localhost:8080/"
        },
        "outputId": "8acc7674-7629-45f7-d3a6-27f7bfcdab37"
      },
      "source": [
        "for i in [1,2,3,4,5]:\n",
        "    print(i+1)"
      ],
      "execution_count": 54,
      "outputs": [
        {
          "output_type": "stream",
          "text": [
            "2\n",
            "3\n",
            "4\n",
            "5\n",
            "6\n"
          ],
          "name": "stdout"
        }
      ]
    },
    {
      "cell_type": "code",
      "metadata": {
        "id": "yxcXW8GFTkqD",
        "colab": {
          "base_uri": "https://localhost:8080/"
        },
        "outputId": "b27b1b34-9ebe-4e04-ba7e-11c38ad438a8"
      },
      "source": [
        "for x in [1,2,3,4,5]:\n",
        "  print(f'ค่าตัวแปร x คือ {x} และ x+2={x+2}')"
      ],
      "execution_count": 55,
      "outputs": [
        {
          "output_type": "stream",
          "text": [
            "ค่าตัวแปร x คือ 1 และ x+2=3\n",
            "ค่าตัวแปร x คือ 2 และ x+2=4\n",
            "ค่าตัวแปร x คือ 3 และ x+2=5\n",
            "ค่าตัวแปร x คือ 4 และ x+2=6\n",
            "ค่าตัวแปร x คือ 5 และ x+2=7\n"
          ],
          "name": "stdout"
        }
      ]
    },
    {
      "cell_type": "code",
      "metadata": {
        "id": "XecC7fV9TlrF",
        "colab": {
          "base_uri": "https://localhost:8080/"
        },
        "outputId": "9f840015-8c1c-4167-bf45-cca1e3ccdb53"
      },
      "source": [
        "list5=[1,2,3,4,5]\n",
        "for x in list5:\n",
        "  print(f'ค่าตัวแปรx คือ {x} และ x+2={x+2}')"
      ],
      "execution_count": 56,
      "outputs": [
        {
          "output_type": "stream",
          "text": [
            "ค่าตัวแปรx คือ 1 และ x+2=3\n",
            "ค่าตัวแปรx คือ 2 และ x+2=4\n",
            "ค่าตัวแปรx คือ 3 และ x+2=5\n",
            "ค่าตัวแปรx คือ 4 และ x+2=6\n",
            "ค่าตัวแปรx คือ 5 และ x+2=7\n"
          ],
          "name": "stdout"
        }
      ]
    },
    {
      "cell_type": "code",
      "metadata": {
        "id": "-WVbom4gTnEP",
        "colab": {
          "base_uri": "https://localhost:8080/"
        },
        "outputId": "d0d598ad-f7f5-4e24-e38a-39329b9a570b"
      },
      "source": [
        "list(range(10))\n"
      ],
      "execution_count": 57,
      "outputs": [
        {
          "output_type": "execute_result",
          "data": {
            "text/plain": [
              "[0, 1, 2, 3, 4, 5, 6, 7, 8, 9]"
            ]
          },
          "metadata": {
            "tags": []
          },
          "execution_count": 57
        }
      ]
    },
    {
      "cell_type": "code",
      "metadata": {
        "id": "_xm0OpwZToP3",
        "colab": {
          "base_uri": "https://localhost:8080/"
        },
        "outputId": "ab43557a-f846-4ad8-d511-e694fc67607c"
      },
      "source": [
        "\n",
        "for i in range(2,7):\n",
        "  print(i)"
      ],
      "execution_count": 58,
      "outputs": [
        {
          "output_type": "stream",
          "text": [
            "2\n",
            "3\n",
            "4\n",
            "5\n",
            "6\n"
          ],
          "name": "stdout"
        }
      ]
    },
    {
      "cell_type": "code",
      "metadata": {
        "id": "2E8kuAkPTpOo",
        "colab": {
          "base_uri": "https://localhost:8080/"
        },
        "outputId": "2c64004b-ae1f-4acd-85e1-ebcffaf174de"
      },
      "source": [
        "for i in range(2,7,2):\n",
        "  print(i)"
      ],
      "execution_count": 59,
      "outputs": [
        {
          "output_type": "stream",
          "text": [
            "2\n",
            "4\n",
            "6\n"
          ],
          "name": "stdout"
        }
      ]
    },
    {
      "cell_type": "code",
      "metadata": {
        "id": "Lqsu9My1TqDP",
        "colab": {
          "base_uri": "https://localhost:8080/"
        },
        "outputId": "a5c63f65-3f48-4058-b5b7-0ea964ee9555"
      },
      "source": [
        "for i in range(5):\n",
        "  print('hahaha')"
      ],
      "execution_count": 60,
      "outputs": [
        {
          "output_type": "stream",
          "text": [
            "hahaha\n",
            "hahaha\n",
            "hahaha\n",
            "hahaha\n",
            "hahaha\n"
          ],
          "name": "stdout"
        }
      ]
    },
    {
      "cell_type": "code",
      "metadata": {
        "id": "H1iWaDHmTrOa",
        "colab": {
          "base_uri": "https://localhost:8080/"
        },
        "outputId": "42b5fb8b-d451-4ac8-f6d3-d487c018820e"
      },
      "source": [
        "for i in range(5):\n",
        "  print('hahaha')\n",
        "  x = i + 3\n",
        "  print(f'i={i} x={x}')"
      ],
      "execution_count": 61,
      "outputs": [
        {
          "output_type": "stream",
          "text": [
            "hahaha\n",
            "i=0 x=3\n",
            "hahaha\n",
            "i=1 x=4\n",
            "hahaha\n",
            "i=2 x=5\n",
            "hahaha\n",
            "i=3 x=6\n",
            "hahaha\n",
            "i=4 x=7\n"
          ],
          "name": "stdout"
        }
      ]
    },
    {
      "cell_type": "markdown",
      "metadata": {
        "id": "8W1x7RD1Tsa7"
      },
      "source": [
        "# Nested loop"
      ]
    },
    {
      "cell_type": "code",
      "metadata": {
        "id": "I4bz999ITtkN",
        "colab": {
          "base_uri": "https://localhost:8080/"
        },
        "outputId": "e436fbbc-46a5-482c-c2fa-95e7c8c2af7d"
      },
      "source": [
        "for i in range(3):\n",
        "  print(f'now i = {i}')\n",
        "  print('start j loop')\n",
        "  for j in range(4):\n",
        "    print(f'i ={i}  j ={j}  i+j ={i+j}')\n",
        "  print('end j loop')"
      ],
      "execution_count": 62,
      "outputs": [
        {
          "output_type": "stream",
          "text": [
            "now i = 0\n",
            "start j loop\n",
            "i =0  j =0  i+j =0\n",
            "i =0  j =1  i+j =1\n",
            "i =0  j =2  i+j =2\n",
            "i =0  j =3  i+j =3\n",
            "end j loop\n",
            "now i = 1\n",
            "start j loop\n",
            "i =1  j =0  i+j =1\n",
            "i =1  j =1  i+j =2\n",
            "i =1  j =2  i+j =3\n",
            "i =1  j =3  i+j =4\n",
            "end j loop\n",
            "now i = 2\n",
            "start j loop\n",
            "i =2  j =0  i+j =2\n",
            "i =2  j =1  i+j =3\n",
            "i =2  j =2  i+j =4\n",
            "i =2  j =3  i+j =5\n",
            "end j loop\n"
          ],
          "name": "stdout"
        }
      ]
    },
    {
      "cell_type": "markdown",
      "metadata": {
        "id": "jq0jQJcTTvNT"
      },
      "source": [
        "\n",
        "# Condition (if statement)\n"
      ]
    },
    {
      "cell_type": "markdown",
      "metadata": {
        "id": "gZPQeeuKJtaW"
      },
      "source": [
        "``` python\n",
        "if เงื่อนไขที่จะตรวจสอบ\n",
        "    ถ้าเงื่อนไขเป็นจริง ทำงานที่ 1\n",
        "    ถ้าเงื่อนไขเป็นจริง ทำงานที่ 2\n",
        "\n",
        "```"
      ]
    },
    {
      "cell_type": "code",
      "metadata": {
        "colab": {
          "base_uri": "https://localhost:8080/"
        },
        "id": "0qokkR4AGUs8",
        "outputId": "3d94affb-0955-40af-f93b-c55f2878887f"
      },
      "source": [
        "stringx = 'abcdefghijasdasdasdsasadaklmnop'\n",
        "\n",
        "if len(stringx) > 30:\n",
        "    print(f'{stringx} is longer than 30 characters')"
      ],
      "execution_count": 63,
      "outputs": [
        {
          "output_type": "stream",
          "text": [
            "abcdefghijasdasdasdsasadaklmnop is longer than 30 characters\n"
          ],
          "name": "stdout"
        }
      ]
    },
    {
      "cell_type": "code",
      "metadata": {
        "id": "liwc4B_zHNkW"
      },
      "source": [
        "stringx = 'abcdefghijasdasdasdsasadaklmnop'\n",
        "\n",
        "if len(stringx) > 100:\n",
        "    print(f'{stringx} is longer than 30 characters')"
      ],
      "execution_count": 64,
      "outputs": []
    },
    {
      "cell_type": "markdown",
      "metadata": {
        "id": "jNorRMhTH77k"
      },
      "source": [
        "``` python\n",
        "if เงื่อนไขที่จะตรวจสอบ (โดยใช้สัญลักษณ์ ==,!=,<,>,<=,>=):\n",
        "    ถ้าเงื่อนไขเป็นจริง ทำงานที่ 1\n",
        "    ถ้าเงื่อนไขเป็นจริง ทำงานที่ 2\n",
        "else: #ตรวจสอบเงื่อนไขข้างบนแล้วไม่เป็นจริง\n",
        "    ทำงานที่ X \n",
        "```"
      ]
    },
    {
      "cell_type": "code",
      "metadata": {
        "colab": {
          "base_uri": "https://localhost:8080/"
        },
        "id": "nfAcrs2QIAMP",
        "outputId": "e9669152-379e-4e74-dfcd-07593162ca63"
      },
      "source": [
        "stringx = 'abcdefghijasdasdasdsasadaklmnop'\n",
        "\n",
        "if len(stringx) > 100:\n",
        "    print(f'{stringx} is longer than 30 characters')\n",
        "else:\n",
        "    print(f'{stringx} in {len(stringx)} characters longer')"
      ],
      "execution_count": 65,
      "outputs": [
        {
          "output_type": "stream",
          "text": [
            "abcdefghijasdasdasdsasadaklmnop in 31 characters longer\n"
          ],
          "name": "stdout"
        }
      ]
    },
    {
      "cell_type": "markdown",
      "metadata": {
        "id": "CYu7q302JQJH"
      },
      "source": [
        "``` python\n",
        "if เงื่อนไขที่จะตรวจสอบ (โดยใช้สัญลักษณ์ ==,!=,<,>,<=,>=):\n",
        "    ถ้าเงื่อนไขเป็นจริง ทำงานที่ 1\n",
        "    ถ้าเงื่อนไขเป็นจริง ทำงานที่ 2\n",
        "elif: #เงื่อนไขที่จะตรวจสอบต่อไปถ้าเงื่อนไขข้างบนไม่เป็นจริง\n",
        "    ถ้าเงื่อนไขเป็นจริง ทำงานที่ a1\n",
        "    ถ้าเงื่อนไขเป็นจริง ทำงานที่ a2\n",
        "elif: #เงื่อนไขที่จะตรวจสอบต่อไปถ้าเงื่อนไขข้างบนไม่เป็นจริง\n",
        "    ถ้าเงื่อนไขเป็นจริง ทำงานที่ b1\n",
        "    ถ้าเงื่อนไขเป็นจริง ทำงานที่ b2\n",
        "else: #ตรวจสอบเงื่อนไขข้างบนแล้วไม่เป็นจริง\n",
        "    ทำงานที่ X \n",
        "```"
      ]
    },
    {
      "cell_type": "code",
      "metadata": {
        "colab": {
          "base_uri": "https://localhost:8080/"
        },
        "id": "GErbKFJaLEsf",
        "outputId": "a691d3e9-4588-48b2-fb18-9f612f887b03"
      },
      "source": [
        "password = '12345'\n",
        "\n",
        "input_pass = '123'\n",
        "if input_pass == password:\n",
        "    print('Welcome !')\n",
        "elif len(input_pass) > len(password):\n",
        "    print('Too long, Try again!')\n",
        "elif len(input_pass) < len(password):\n",
        "    print('Too long, Try again!')\n",
        "else:\n",
        "    print('Wrong password, Try again!')"
      ],
      "execution_count": 66,
      "outputs": [
        {
          "output_type": "stream",
          "text": [
            "Too long, Try again!\n"
          ],
          "name": "stdout"
        }
      ]
    },
    {
      "cell_type": "markdown",
      "metadata": {
        "id": "JCG8VEa4K8wJ"
      },
      "source": [
        "Quiz 1 หา min"
      ]
    },
    {
      "cell_type": "code",
      "metadata": {
        "id": "5ci2GAh0NhJo"
      },
      "source": [
        "list_ex = [1,5,9,-19,-2,0] #หาค่าน้อยที่สุดใน list_ex โดยไม่ใช้ function min (commit ก่อน 10:30 :Quiz1)"
      ],
      "execution_count": 67,
      "outputs": []
    },
    {
      "cell_type": "code",
      "metadata": {
        "colab": {
          "base_uri": "https://localhost:8080/"
        },
        "id": "a3K6H1izO-Uz",
        "outputId": "c559cf16-a11e-4c9f-c488-df3a1bd4f244"
      },
      "source": [
        "list_ex = [1,5,9,-19,-2,0]\n",
        "pp = list_ex[0] \n",
        "i = 0\n",
        "for m in list_ex: \n",
        "    if(m<pp): \n",
        "        pp = m \n",
        "        imin = i \n",
        "    i += 1\n",
        "print(min(list_ex))"
      ],
      "execution_count": 68,
      "outputs": [
        {
          "output_type": "stream",
          "text": [
            "-19\n"
          ],
          "name": "stdout"
        }
      ]
    },
    {
      "cell_type": "code",
      "metadata": {
        "colab": {
          "base_uri": "https://localhost:8080/"
        },
        "id": "8bgOZS0zTKXc",
        "outputId": "3d32eec3-5cce-4f1b-d214-50b0fb84fb86"
      },
      "source": [
        "min = 10000000 #เฉลยของอาจารย์\n",
        "for i in list_ex:\n",
        "    if i < min:\n",
        "      min = i\n",
        "print(min)"
      ],
      "execution_count": 69,
      "outputs": [
        {
          "output_type": "stream",
          "text": [
            "-19\n"
          ],
          "name": "stdout"
        }
      ]
    },
    {
      "cell_type": "markdown",
      "metadata": {
        "id": "J3FWshQQV0RC"
      },
      "source": [
        "HW3 ตัดเกรด"
      ]
    },
    {
      "cell_type": "code",
      "metadata": {
        "id": "OKnNGrpRGTt9"
      },
      "source": [
        "score = [49,65,70,95,82,55,89,20,77,77,81,59,10] #ตัดเกรด คะแนนใน list score (ใช้ if กับ for)"
      ],
      "execution_count": 70,
      "outputs": []
    },
    {
      "cell_type": "code",
      "metadata": {
        "colab": {
          "base_uri": "https://localhost:8080/"
        },
        "id": "eH0771jzrrHw",
        "outputId": "1e254ccf-7d88-435b-9927-a0e8f718537c"
      },
      "source": [
        "score = [49,65,70,95,82,55,89,20,77,77,81,59,10]\n",
        "for i in score:\n",
        "  if i >= 80:\n",
        "     print('เกรด A') #เกรดA\n",
        "  elif i >= 75:\n",
        "      print('เกรด B+') #เกรดB+\n",
        "  elif i >= 70:\n",
        "      print('เกรด B') #เกรดB\n",
        "  elif i >= 65:\n",
        "      print('เกรด C+') #เกรดC+\n",
        "  elif i >= 60:\n",
        "      print('เกรด C') #เกรดC\n",
        "  elif i >= 55:\n",
        "      print('เกรด D+') #เกรดD+\n",
        "  elif i >= 50:\n",
        "      print('เกรด D') #เกรดD\n",
        "  else:\n",
        "      print('เกรด F') #เกรดF"
      ],
      "execution_count": 73,
      "outputs": [
        {
          "output_type": "stream",
          "text": [
            "เกรด F\n",
            "เกรด C+\n",
            "เกรด B\n",
            "เกรด A\n",
            "เกรด A\n",
            "เกรด D+\n",
            "เกรด A\n",
            "เกรด F\n",
            "เกรด B+\n",
            "เกรด B+\n",
            "เกรด A\n",
            "เกรด D+\n",
            "เกรด F\n"
          ],
          "name": "stdout"
        }
      ]
    },
    {
      "cell_type": "code",
      "metadata": {
        "id": "OexIcLlHrzw3"
      },
      "source": [
        ""
      ],
      "execution_count": null,
      "outputs": []
    }
  ]
}