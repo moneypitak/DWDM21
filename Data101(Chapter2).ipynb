{
  "nbformat": 4,
  "nbformat_minor": 0,
  "metadata": {
    "colab": {
      "name": "Data101(Chapter2).ipynb",
      "provenance": [],
      "authorship_tag": "ABX9TyMYI77Nru27TKc+1fMWpCW/",
      "include_colab_link": true
    },
    "kernelspec": {
      "name": "python3",
      "display_name": "Python 3"
    },
    "language_info": {
      "name": "python"
    }
  },
  "cells": [
    {
      "cell_type": "markdown",
      "metadata": {
        "id": "view-in-github",
        "colab_type": "text"
      },
      "source": [
        "<a href=\"https://colab.research.google.com/github/moneypitak/DWDM21/blob/main/Data101(Chapter2).ipynb\" target=\"_parent\"><img src=\"https://colab.research.google.com/assets/colab-badge.svg\" alt=\"Open In Colab\"/></a>"
      ]
    },
    {
      "cell_type": "code",
      "metadata": {
        "id": "GTtS5jOysCRI"
      },
      "source": [
        "import pandas #การเรียกใช้ package = import ตามด้วย package"
      ],
      "execution_count": 1,
      "outputs": []
    },
    {
      "cell_type": "code",
      "metadata": {
        "id": "FDPAJ3kls42S"
      },
      "source": [
        "import pandas as pd"
      ],
      "execution_count": 2,
      "outputs": []
    },
    {
      "cell_type": "markdown",
      "metadata": {
        "id": "sY5VqwkWxHbo"
      },
      "source": [
        "ไฟล์ csv จะเน้นใช้งานเป็นหลักในวิชานี้"
      ]
    },
    {
      "cell_type": "code",
      "metadata": {
        "id": "ZfZ5lUEau0tW",
        "colab": {
          "base_uri": "https://localhost:8080/",
          "height": 337
        },
        "outputId": "e24e2228-bd5b-4202-cd90-a4ba96ce83b6"
      },
      "source": [
        "data_df = pd.read_csv('data.csv')"
      ],
      "execution_count": 3,
      "outputs": [
        {
          "output_type": "error",
          "ename": "EmptyDataError",
          "evalue": "ignored",
          "traceback": [
            "\u001b[0;31m---------------------------------------------------------------------------\u001b[0m",
            "\u001b[0;31mEmptyDataError\u001b[0m                            Traceback (most recent call last)",
            "\u001b[0;32m<ipython-input-3-3c6ae9713f57>\u001b[0m in \u001b[0;36m<module>\u001b[0;34m()\u001b[0m\n\u001b[0;32m----> 1\u001b[0;31m \u001b[0mdata_df\u001b[0m \u001b[0;34m=\u001b[0m \u001b[0mpd\u001b[0m\u001b[0;34m.\u001b[0m\u001b[0mread_csv\u001b[0m\u001b[0;34m(\u001b[0m\u001b[0;34m'data.csv'\u001b[0m\u001b[0;34m)\u001b[0m\u001b[0;34m\u001b[0m\u001b[0;34m\u001b[0m\u001b[0m\n\u001b[0m",
            "\u001b[0;32m/usr/local/lib/python3.7/dist-packages/pandas/io/parsers.py\u001b[0m in \u001b[0;36mread_csv\u001b[0;34m(filepath_or_buffer, sep, delimiter, header, names, index_col, usecols, squeeze, prefix, mangle_dupe_cols, dtype, engine, converters, true_values, false_values, skipinitialspace, skiprows, skipfooter, nrows, na_values, keep_default_na, na_filter, verbose, skip_blank_lines, parse_dates, infer_datetime_format, keep_date_col, date_parser, dayfirst, cache_dates, iterator, chunksize, compression, thousands, decimal, lineterminator, quotechar, quoting, doublequote, escapechar, comment, encoding, dialect, error_bad_lines, warn_bad_lines, delim_whitespace, low_memory, memory_map, float_precision)\u001b[0m\n\u001b[1;32m    686\u001b[0m     )\n\u001b[1;32m    687\u001b[0m \u001b[0;34m\u001b[0m\u001b[0m\n\u001b[0;32m--> 688\u001b[0;31m     \u001b[0;32mreturn\u001b[0m \u001b[0m_read\u001b[0m\u001b[0;34m(\u001b[0m\u001b[0mfilepath_or_buffer\u001b[0m\u001b[0;34m,\u001b[0m \u001b[0mkwds\u001b[0m\u001b[0;34m)\u001b[0m\u001b[0;34m\u001b[0m\u001b[0;34m\u001b[0m\u001b[0m\n\u001b[0m\u001b[1;32m    689\u001b[0m \u001b[0;34m\u001b[0m\u001b[0m\n\u001b[1;32m    690\u001b[0m \u001b[0;34m\u001b[0m\u001b[0m\n",
            "\u001b[0;32m/usr/local/lib/python3.7/dist-packages/pandas/io/parsers.py\u001b[0m in \u001b[0;36m_read\u001b[0;34m(filepath_or_buffer, kwds)\u001b[0m\n\u001b[1;32m    452\u001b[0m \u001b[0;34m\u001b[0m\u001b[0m\n\u001b[1;32m    453\u001b[0m     \u001b[0;31m# Create the parser.\u001b[0m\u001b[0;34m\u001b[0m\u001b[0;34m\u001b[0m\u001b[0;34m\u001b[0m\u001b[0m\n\u001b[0;32m--> 454\u001b[0;31m     \u001b[0mparser\u001b[0m \u001b[0;34m=\u001b[0m \u001b[0mTextFileReader\u001b[0m\u001b[0;34m(\u001b[0m\u001b[0mfp_or_buf\u001b[0m\u001b[0;34m,\u001b[0m \u001b[0;34m**\u001b[0m\u001b[0mkwds\u001b[0m\u001b[0;34m)\u001b[0m\u001b[0;34m\u001b[0m\u001b[0;34m\u001b[0m\u001b[0m\n\u001b[0m\u001b[1;32m    455\u001b[0m \u001b[0;34m\u001b[0m\u001b[0m\n\u001b[1;32m    456\u001b[0m     \u001b[0;32mif\u001b[0m \u001b[0mchunksize\u001b[0m \u001b[0;32mor\u001b[0m \u001b[0miterator\u001b[0m\u001b[0;34m:\u001b[0m\u001b[0;34m\u001b[0m\u001b[0;34m\u001b[0m\u001b[0m\n",
            "\u001b[0;32m/usr/local/lib/python3.7/dist-packages/pandas/io/parsers.py\u001b[0m in \u001b[0;36m__init__\u001b[0;34m(self, f, engine, **kwds)\u001b[0m\n\u001b[1;32m    946\u001b[0m             \u001b[0mself\u001b[0m\u001b[0;34m.\u001b[0m\u001b[0moptions\u001b[0m\u001b[0;34m[\u001b[0m\u001b[0;34m\"has_index_names\"\u001b[0m\u001b[0;34m]\u001b[0m \u001b[0;34m=\u001b[0m \u001b[0mkwds\u001b[0m\u001b[0;34m[\u001b[0m\u001b[0;34m\"has_index_names\"\u001b[0m\u001b[0;34m]\u001b[0m\u001b[0;34m\u001b[0m\u001b[0;34m\u001b[0m\u001b[0m\n\u001b[1;32m    947\u001b[0m \u001b[0;34m\u001b[0m\u001b[0m\n\u001b[0;32m--> 948\u001b[0;31m         \u001b[0mself\u001b[0m\u001b[0;34m.\u001b[0m\u001b[0m_make_engine\u001b[0m\u001b[0;34m(\u001b[0m\u001b[0mself\u001b[0m\u001b[0;34m.\u001b[0m\u001b[0mengine\u001b[0m\u001b[0;34m)\u001b[0m\u001b[0;34m\u001b[0m\u001b[0;34m\u001b[0m\u001b[0m\n\u001b[0m\u001b[1;32m    949\u001b[0m \u001b[0;34m\u001b[0m\u001b[0m\n\u001b[1;32m    950\u001b[0m     \u001b[0;32mdef\u001b[0m \u001b[0mclose\u001b[0m\u001b[0;34m(\u001b[0m\u001b[0mself\u001b[0m\u001b[0;34m)\u001b[0m\u001b[0;34m:\u001b[0m\u001b[0;34m\u001b[0m\u001b[0;34m\u001b[0m\u001b[0m\n",
            "\u001b[0;32m/usr/local/lib/python3.7/dist-packages/pandas/io/parsers.py\u001b[0m in \u001b[0;36m_make_engine\u001b[0;34m(self, engine)\u001b[0m\n\u001b[1;32m   1178\u001b[0m     \u001b[0;32mdef\u001b[0m \u001b[0m_make_engine\u001b[0m\u001b[0;34m(\u001b[0m\u001b[0mself\u001b[0m\u001b[0;34m,\u001b[0m \u001b[0mengine\u001b[0m\u001b[0;34m=\u001b[0m\u001b[0;34m\"c\"\u001b[0m\u001b[0;34m)\u001b[0m\u001b[0;34m:\u001b[0m\u001b[0;34m\u001b[0m\u001b[0;34m\u001b[0m\u001b[0m\n\u001b[1;32m   1179\u001b[0m         \u001b[0;32mif\u001b[0m \u001b[0mengine\u001b[0m \u001b[0;34m==\u001b[0m \u001b[0;34m\"c\"\u001b[0m\u001b[0;34m:\u001b[0m\u001b[0;34m\u001b[0m\u001b[0;34m\u001b[0m\u001b[0m\n\u001b[0;32m-> 1180\u001b[0;31m             \u001b[0mself\u001b[0m\u001b[0;34m.\u001b[0m\u001b[0m_engine\u001b[0m \u001b[0;34m=\u001b[0m \u001b[0mCParserWrapper\u001b[0m\u001b[0;34m(\u001b[0m\u001b[0mself\u001b[0m\u001b[0;34m.\u001b[0m\u001b[0mf\u001b[0m\u001b[0;34m,\u001b[0m \u001b[0;34m**\u001b[0m\u001b[0mself\u001b[0m\u001b[0;34m.\u001b[0m\u001b[0moptions\u001b[0m\u001b[0;34m)\u001b[0m\u001b[0;34m\u001b[0m\u001b[0;34m\u001b[0m\u001b[0m\n\u001b[0m\u001b[1;32m   1181\u001b[0m         \u001b[0;32melse\u001b[0m\u001b[0;34m:\u001b[0m\u001b[0;34m\u001b[0m\u001b[0;34m\u001b[0m\u001b[0m\n\u001b[1;32m   1182\u001b[0m             \u001b[0;32mif\u001b[0m \u001b[0mengine\u001b[0m \u001b[0;34m==\u001b[0m \u001b[0;34m\"python\"\u001b[0m\u001b[0;34m:\u001b[0m\u001b[0;34m\u001b[0m\u001b[0;34m\u001b[0m\u001b[0m\n",
            "\u001b[0;32m/usr/local/lib/python3.7/dist-packages/pandas/io/parsers.py\u001b[0m in \u001b[0;36m__init__\u001b[0;34m(self, src, **kwds)\u001b[0m\n\u001b[1;32m   2008\u001b[0m         \u001b[0mkwds\u001b[0m\u001b[0;34m[\u001b[0m\u001b[0;34m\"usecols\"\u001b[0m\u001b[0;34m]\u001b[0m \u001b[0;34m=\u001b[0m \u001b[0mself\u001b[0m\u001b[0;34m.\u001b[0m\u001b[0musecols\u001b[0m\u001b[0;34m\u001b[0m\u001b[0;34m\u001b[0m\u001b[0m\n\u001b[1;32m   2009\u001b[0m \u001b[0;34m\u001b[0m\u001b[0m\n\u001b[0;32m-> 2010\u001b[0;31m         \u001b[0mself\u001b[0m\u001b[0;34m.\u001b[0m\u001b[0m_reader\u001b[0m \u001b[0;34m=\u001b[0m \u001b[0mparsers\u001b[0m\u001b[0;34m.\u001b[0m\u001b[0mTextReader\u001b[0m\u001b[0;34m(\u001b[0m\u001b[0msrc\u001b[0m\u001b[0;34m,\u001b[0m \u001b[0;34m**\u001b[0m\u001b[0mkwds\u001b[0m\u001b[0;34m)\u001b[0m\u001b[0;34m\u001b[0m\u001b[0;34m\u001b[0m\u001b[0m\n\u001b[0m\u001b[1;32m   2011\u001b[0m         \u001b[0mself\u001b[0m\u001b[0;34m.\u001b[0m\u001b[0munnamed_cols\u001b[0m \u001b[0;34m=\u001b[0m \u001b[0mself\u001b[0m\u001b[0;34m.\u001b[0m\u001b[0m_reader\u001b[0m\u001b[0;34m.\u001b[0m\u001b[0munnamed_cols\u001b[0m\u001b[0;34m\u001b[0m\u001b[0;34m\u001b[0m\u001b[0m\n\u001b[1;32m   2012\u001b[0m \u001b[0;34m\u001b[0m\u001b[0m\n",
            "\u001b[0;32mpandas/_libs/parsers.pyx\u001b[0m in \u001b[0;36mpandas._libs.parsers.TextReader.__cinit__\u001b[0;34m()\u001b[0m\n",
            "\u001b[0;31mEmptyDataError\u001b[0m: No columns to parse from file"
          ]
        }
      ]
    },
    {
      "cell_type": "code",
      "metadata": {
        "id": "xqhGJFuSxvEJ"
      },
      "source": [
        "data_df"
      ],
      "execution_count": null,
      "outputs": []
    },
    {
      "cell_type": "markdown",
      "metadata": {
        "id": "wLiYW1b60IVP"
      },
      "source": [
        "# Basic python\n",
        "\n",
        "## Variables\n",
        "\n",
        "\n",
        "### ข้อกำหนดในการตั้งชื่อตัวแปร\n",
        "\n",
        "ชื่อห้ามมีเว้นวรรค\n",
        "\n",
        "(พยายาม)ควรใช้ภาษาอังกฤษ\n",
        "\n",
        "ตัวเล็กกับตัวใหญ่แตกต่างกัน (case sensitive)\n",
        "\n",
        "ห้ามใช้ตัวเลขเป็นตัวหน้า"
      ]
    },
    {
      "cell_type": "code",
      "metadata": {
        "id": "HS2oiUrM0SsB"
      },
      "source": [
        "variable_a = 12 # เป็นค่าตัวเลข\n",
        "variable_b = 'abcde' # เรียกว่า quote\n",
        "variable_c = variable_a\n",
        "variable_d = -41.2\n",
        "variable_4 = \"KKU\" # \" เรียกว่า double quote"
      ],
      "execution_count": null,
      "outputs": []
    },
    {
      "cell_type": "code",
      "metadata": {
        "id": "Y1eEaD4v0VXA"
      },
      "source": [
        "variable_a"
      ],
      "execution_count": null,
      "outputs": []
    },
    {
      "cell_type": "code",
      "metadata": {
        "id": "h-JozYEq1Qvx"
      },
      "source": [
        "variable_b"
      ],
      "execution_count": null,
      "outputs": []
    },
    {
      "cell_type": "code",
      "metadata": {
        "id": "DNFDYv_u1RTh"
      },
      "source": [
        "variable_c"
      ],
      "execution_count": null,
      "outputs": []
    },
    {
      "cell_type": "code",
      "metadata": {
        "id": "gOrm-DAkSA-R"
      },
      "source": [
        "variable_x = variable_c + variable_d # ตัวเลขกับตัวหนังสือบวกกันไม่ได้\n",
        "print(variable_x)"
      ],
      "execution_count": null,
      "outputs": []
    },
    {
      "cell_type": "code",
      "metadata": {
        "id": "iz6nHZjlSCaH"
      },
      "source": [
        "\n",
        "print(variable_b + variable_4)"
      ],
      "execution_count": null,
      "outputs": []
    },
    {
      "cell_type": "markdown",
      "metadata": {
        "id": "qqq4FSZTSEGm"
      },
      "source": [
        "# Casting int() float() str()"
      ]
    },
    {
      "cell_type": "code",
      "metadata": {
        "id": "LWE3y7M0SFkp"
      },
      "source": [
        "print(variable_x)\n",
        "print(int(variable_x))"
      ],
      "execution_count": null,
      "outputs": []
    },
    {
      "cell_type": "code",
      "metadata": {
        "id": "VvDhc9RsSGoC"
      },
      "source": [
        "\n",
        "print(str(variable_x))"
      ],
      "execution_count": null,
      "outputs": []
    },
    {
      "cell_type": "code",
      "metadata": {
        "id": "N-pxJCHLSHu_"
      },
      "source": [
        "print(float(variable_x))"
      ],
      "execution_count": null,
      "outputs": []
    },
    {
      "cell_type": "code",
      "metadata": {
        "id": "TErFO58bSJEY"
      },
      "source": [
        "V_X = (str(variable_x))\n",
        "print(V_X)"
      ],
      "execution_count": null,
      "outputs": []
    },
    {
      "cell_type": "code",
      "metadata": {
        "id": "1qCb_LCDSKQC"
      },
      "source": [
        "\n",
        "V_X"
      ],
      "execution_count": null,
      "outputs": []
    },
    {
      "cell_type": "code",
      "metadata": {
        "id": "9I0v78aRSLMo"
      },
      "source": [
        "\n",
        "float(V_X)"
      ],
      "execution_count": null,
      "outputs": []
    },
    {
      "cell_type": "markdown",
      "metadata": {
        "id": "tdI8rY83SMs2"
      },
      "source": [
        "# Data structure\n",
        "\n",
        "## list()"
      ]
    },
    {
      "cell_type": "code",
      "metadata": {
        "id": "GvZZZu9XSSwQ"
      },
      "source": [
        "list_a = [1,2,0.2,'abs',] # [] square brackets\n",
        "list_b = [2,'xyz',list_a,[1,2,0.0]]"
      ],
      "execution_count": null,
      "outputs": []
    },
    {
      "cell_type": "code",
      "metadata": {
        "id": "cDTAeCMjST5Y"
      },
      "source": [
        "list_a"
      ],
      "execution_count": null,
      "outputs": []
    },
    {
      "cell_type": "code",
      "metadata": {
        "id": "ztGYizLGSU6i"
      },
      "source": [
        "list_b"
      ],
      "execution_count": null,
      "outputs": []
    },
    {
      "cell_type": "code",
      "metadata": {
        "id": "9ZBtEW5eSWHy"
      },
      "source": [
        "\n",
        "len(list_b) # len() คือจำนวนสมาชิก"
      ],
      "execution_count": null,
      "outputs": []
    },
    {
      "cell_type": "code",
      "metadata": {
        "id": "SaxlmD3PSXax"
      },
      "source": [
        "list_b[3]"
      ],
      "execution_count": null,
      "outputs": []
    },
    {
      "cell_type": "code",
      "metadata": {
        "id": "XfmXSza5SYZ_"
      },
      "source": [
        "list_b[3][1]"
      ],
      "execution_count": null,
      "outputs": []
    },
    {
      "cell_type": "markdown",
      "metadata": {
        "id": "VSPPOynvSZlw"
      },
      "source": [
        "\n",
        "string คือ list ของตัวหนังสือ"
      ]
    },
    {
      "cell_type": "code",
      "metadata": {
        "id": "JC8cGJyySam5"
      },
      "source": [
        "a = 'Stat KKU'"
      ],
      "execution_count": null,
      "outputs": []
    },
    {
      "cell_type": "code",
      "metadata": {
        "id": "LO4Cu2yDSbwQ"
      },
      "source": [
        "a[4]"
      ],
      "execution_count": null,
      "outputs": []
    },
    {
      "cell_type": "markdown",
      "metadata": {
        "id": "vaKPi38BSdEf"
      },
      "source": [
        "\n",
        "วิธีสร้าง list ว่าง"
      ]
    },
    {
      "cell_type": "code",
      "metadata": {
        "id": "Jq526ZCWSeGh"
      },
      "source": [
        "list_c = list() # แบบที่1\n",
        "list_d = [] # แบบที่2"
      ],
      "execution_count": null,
      "outputs": []
    },
    {
      "cell_type": "code",
      "metadata": {
        "id": "l3TfmpcTSfCH"
      },
      "source": [
        "list_c"
      ],
      "execution_count": null,
      "outputs": []
    },
    {
      "cell_type": "code",
      "metadata": {
        "id": "jQcxCzicSf9B"
      },
      "source": [
        "\n",
        "list_d"
      ],
      "execution_count": null,
      "outputs": []
    },
    {
      "cell_type": "markdown",
      "metadata": {
        "id": "OPquWPZ8ShGX"
      },
      "source": [
        "\n",
        "เติมค่าลงไปใน list (.append())"
      ]
    },
    {
      "cell_type": "code",
      "metadata": {
        "id": "i1RJYLXcSiO_"
      },
      "source": [
        "\n",
        "list_d.append('a')"
      ],
      "execution_count": null,
      "outputs": []
    },
    {
      "cell_type": "code",
      "metadata": {
        "id": "bWIi83UBSjaY"
      },
      "source": [
        "\n",
        "list_d"
      ],
      "execution_count": null,
      "outputs": []
    },
    {
      "cell_type": "code",
      "metadata": {
        "id": "fCdltcQ0Skqg"
      },
      "source": [
        "list_d.append('56')"
      ],
      "execution_count": null,
      "outputs": []
    },
    {
      "cell_type": "code",
      "metadata": {
        "id": "U9HcF-hiSl-4"
      },
      "source": [
        "list_d"
      ],
      "execution_count": null,
      "outputs": []
    },
    {
      "cell_type": "markdown",
      "metadata": {
        "id": "Zdo-BhA-Sn6i"
      },
      "source": [
        "## การชี้ค่าใน list (indexing)\n",
        "\n",
        "ลำดับบในการชี้\n",
        "\n",
        "ลำดับเริ่มจาก 0\n",
        "\n",
        "สามารถชี้จากข้างหลังได้โดยใช้ negative index"
      ]
    },
    {
      "cell_type": "code",
      "metadata": {
        "id": "oll8qeDmSnUK"
      },
      "source": [
        "list_b"
      ],
      "execution_count": null,
      "outputs": []
    },
    {
      "cell_type": "code",
      "metadata": {
        "id": "zNsEjlnySt8i"
      },
      "source": [
        "list_b[-1]"
      ],
      "execution_count": null,
      "outputs": []
    },
    {
      "cell_type": "markdown",
      "metadata": {
        "id": "OIAPo5kcSwX6"
      },
      "source": [
        "## list slicing"
      ]
    },
    {
      "cell_type": "code",
      "metadata": {
        "id": "7lf_JuF0Sx56"
      },
      "source": [
        "# วิธีการตัด list"
      ],
      "execution_count": null,
      "outputs": []
    },
    {
      "cell_type": "code",
      "metadata": {
        "id": "i7TTSxxQSzA_"
      },
      "source": [
        "list_ex = [1,2,3,5,6,8,-1,20,50,0]"
      ],
      "execution_count": null,
      "outputs": []
    },
    {
      "cell_type": "markdown",
      "metadata": {
        "id": "eFW4vhWSS0If"
      },
      "source": [
        "เราจะตัด list โดยเอาตั้งแต่ [ตัวหน้า:ตัวก่อนตัวหลัง]\n",
        "\n",
        "ถ้าเป็นสัยลักษณ์คณิตศาสตร์ [ตัวหน้า,ตัวหลัง] -> [ตัวหน้า,ตัวหลัง)"
      ]
    },
    {
      "cell_type": "code",
      "metadata": {
        "id": "8EBMvDm-S32Q"
      },
      "source": [
        "list_ex[1:6] # เราจะตัด list โดยเอาตั้งแต่ [ตัวหน้า:ตัวก่อนตัวหลัง]"
      ],
      "execution_count": null,
      "outputs": []
    },
    {
      "cell_type": "code",
      "metadata": {
        "id": "cJzRfEprS5Bv"
      },
      "source": [
        "list_ex[4:]"
      ],
      "execution_count": null,
      "outputs": []
    },
    {
      "cell_type": "code",
      "metadata": {
        "id": "JBfb_O4BS6Gv"
      },
      "source": [
        "list_ex[:6]"
      ],
      "execution_count": null,
      "outputs": []
    },
    {
      "cell_type": "markdown",
      "metadata": {
        "id": "7NvpmVQGS7IZ"
      },
      "source": [
        "\n",
        "[จุดเริ่มต้น:จุดสุดท้ายขอบเขต:step]"
      ]
    },
    {
      "cell_type": "code",
      "metadata": {
        "id": "Dhb2v6BrS8pA"
      },
      "source": [
        "list_ex"
      ],
      "execution_count": null,
      "outputs": []
    },
    {
      "cell_type": "code",
      "metadata": {
        "id": "Zqrd-IggS9rQ"
      },
      "source": [
        "list_ex[::2]"
      ],
      "execution_count": null,
      "outputs": []
    },
    {
      "cell_type": "code",
      "metadata": {
        "id": "zn6IOaniS-5v"
      },
      "source": [
        "list_ex[::-1] # การกลับ list"
      ],
      "execution_count": null,
      "outputs": []
    },
    {
      "cell_type": "code",
      "metadata": {
        "id": "67iKMIwwTADf"
      },
      "source": [
        "a"
      ],
      "execution_count": null,
      "outputs": []
    },
    {
      "cell_type": "code",
      "metadata": {
        "id": "VkI3texiTBD3"
      },
      "source": [
        "a[5:]"
      ],
      "execution_count": null,
      "outputs": []
    },
    {
      "cell_type": "code",
      "metadata": {
        "id": "of0upnKpTCDH"
      },
      "source": [
        "a[5::]"
      ],
      "execution_count": null,
      "outputs": []
    },
    {
      "cell_type": "code",
      "metadata": {
        "id": "W2vu7qzTTC5y"
      },
      "source": [
        "a[-3:]"
      ],
      "execution_count": null,
      "outputs": []
    },
    {
      "cell_type": "code",
      "metadata": {
        "id": "UigvSGgqTD7q"
      },
      "source": [
        "\n",
        "a[5:8]"
      ],
      "execution_count": null,
      "outputs": []
    },
    {
      "cell_type": "markdown",
      "metadata": {
        "id": "HNW2yWkkTFb5"
      },
      "source": [
        "list + list"
      ]
    },
    {
      "cell_type": "code",
      "metadata": {
        "id": "y7afCiAATGZi"
      },
      "source": [
        "\n",
        "print(list_a)\n",
        "print(list_b)"
      ],
      "execution_count": null,
      "outputs": []
    },
    {
      "cell_type": "code",
      "metadata": {
        "id": "n31o0299THhz"
      },
      "source": [
        "\n",
        "list_a + list_b"
      ],
      "execution_count": null,
      "outputs": []
    },
    {
      "cell_type": "code",
      "metadata": {
        "id": "ZC_Pr3tlTId6"
      },
      "source": [
        "\n",
        "list_b + list_a"
      ],
      "execution_count": null,
      "outputs": []
    },
    {
      "cell_type": "markdown",
      "metadata": {
        "id": "yQs8BYm6TX7A"
      },
      "source": [
        "format string\n",
        "\n",
        "f 'string{ตัวแปร}'\n",
        "\n",
        "{} เรียกว่า curly bracket"
      ]
    },
    {
      "cell_type": "code",
      "metadata": {
        "id": "yjNIXyY2TPNH"
      },
      "source": [
        "f'ตัวแปร list_a มีค่าคือ {list_a}'"
      ],
      "execution_count": null,
      "outputs": []
    },
    {
      "cell_type": "markdown",
      "metadata": {
        "id": "nWZ__shXCzlf"
      },
      "source": [
        "# Loop"
      ]
    },
    {
      "cell_type": "markdown",
      "metadata": {
        "id": "_9_BcihSTdoo"
      },
      "source": [
        "\n",
        "```python\n",
        "for ตัวแปรที่จะรับค่าจากลิสต์ in ลิสต์ที่จะนำมาวนลูป:\n",
        "    do something\n",
        "    do another thing # in loop\n",
        "```"
      ]
    },
    {
      "cell_type": "code",
      "metadata": {
        "id": "MfwhdRnPTa1o",
        "colab": {
          "base_uri": "https://localhost:8080/"
        },
        "outputId": "d07b2a7c-556f-49fc-c2de-d88ed91b1999"
      },
      "source": [
        "for i in [1,2,3,4,5]:\n",
        "    print(i+1)"
      ],
      "execution_count": 12,
      "outputs": [
        {
          "output_type": "stream",
          "text": [
            "2\n",
            "3\n",
            "4\n",
            "5\n",
            "6\n"
          ],
          "name": "stdout"
        }
      ]
    },
    {
      "cell_type": "code",
      "metadata": {
        "id": "yxcXW8GFTkqD",
        "colab": {
          "base_uri": "https://localhost:8080/"
        },
        "outputId": "3d1017d8-cfda-4604-ee70-6212a83b693b"
      },
      "source": [
        "for x in [1,2,3,4,5]:\n",
        "  print(f'ค่าตัวแปร x คือ {x} และ x+2={x+2}')"
      ],
      "execution_count": 13,
      "outputs": [
        {
          "output_type": "stream",
          "text": [
            "ค่าตัวแปร x คือ 1 และ x+2=3\n",
            "ค่าตัวแปร x คือ 2 และ x+2=4\n",
            "ค่าตัวแปร x คือ 3 และ x+2=5\n",
            "ค่าตัวแปร x คือ 4 และ x+2=6\n",
            "ค่าตัวแปร x คือ 5 และ x+2=7\n"
          ],
          "name": "stdout"
        }
      ]
    },
    {
      "cell_type": "code",
      "metadata": {
        "id": "XecC7fV9TlrF",
        "colab": {
          "base_uri": "https://localhost:8080/"
        },
        "outputId": "06f88cd1-34fb-49d4-efc5-efb8ec29ba05"
      },
      "source": [
        "list5=[1,2,3,4,5]\n",
        "for x in list5:\n",
        "  print(f'ค่าตัวแปรx คือ {x} และ x+2={x+2}')"
      ],
      "execution_count": 14,
      "outputs": [
        {
          "output_type": "stream",
          "text": [
            "ค่าตัวแปรx คือ 1 และ x+2=3\n",
            "ค่าตัวแปรx คือ 2 และ x+2=4\n",
            "ค่าตัวแปรx คือ 3 และ x+2=5\n",
            "ค่าตัวแปรx คือ 4 และ x+2=6\n",
            "ค่าตัวแปรx คือ 5 และ x+2=7\n"
          ],
          "name": "stdout"
        }
      ]
    },
    {
      "cell_type": "code",
      "metadata": {
        "id": "-WVbom4gTnEP",
        "colab": {
          "base_uri": "https://localhost:8080/"
        },
        "outputId": "215cbca4-1b93-4d22-86c0-7b7b88e81386"
      },
      "source": [
        "list(range(10))\n"
      ],
      "execution_count": 15,
      "outputs": [
        {
          "output_type": "execute_result",
          "data": {
            "text/plain": [
              "[0, 1, 2, 3, 4, 5, 6, 7, 8, 9]"
            ]
          },
          "metadata": {
            "tags": []
          },
          "execution_count": 15
        }
      ]
    },
    {
      "cell_type": "code",
      "metadata": {
        "id": "_xm0OpwZToP3",
        "colab": {
          "base_uri": "https://localhost:8080/"
        },
        "outputId": "537777e5-7532-4037-d68e-87b6661d90a0"
      },
      "source": [
        "\n",
        "for i in range(2,7):\n",
        "  print(i)"
      ],
      "execution_count": 16,
      "outputs": [
        {
          "output_type": "stream",
          "text": [
            "2\n",
            "3\n",
            "4\n",
            "5\n",
            "6\n"
          ],
          "name": "stdout"
        }
      ]
    },
    {
      "cell_type": "code",
      "metadata": {
        "id": "2E8kuAkPTpOo",
        "colab": {
          "base_uri": "https://localhost:8080/"
        },
        "outputId": "0fecb61d-222f-41a2-ab73-ebff1d04605b"
      },
      "source": [
        "for i in range(2,7,2):\n",
        "  print(i)"
      ],
      "execution_count": 17,
      "outputs": [
        {
          "output_type": "stream",
          "text": [
            "2\n",
            "4\n",
            "6\n"
          ],
          "name": "stdout"
        }
      ]
    },
    {
      "cell_type": "code",
      "metadata": {
        "id": "Lqsu9My1TqDP",
        "colab": {
          "base_uri": "https://localhost:8080/"
        },
        "outputId": "bad15ff1-1de1-4cfe-9904-5a0face1315b"
      },
      "source": [
        "for i in range(5):\n",
        "  print('hahaha')"
      ],
      "execution_count": 18,
      "outputs": [
        {
          "output_type": "stream",
          "text": [
            "hahaha\n",
            "hahaha\n",
            "hahaha\n",
            "hahaha\n",
            "hahaha\n"
          ],
          "name": "stdout"
        }
      ]
    },
    {
      "cell_type": "code",
      "metadata": {
        "id": "H1iWaDHmTrOa",
        "colab": {
          "base_uri": "https://localhost:8080/"
        },
        "outputId": "5572f5f1-b209-4324-89af-8794c84e3ea6"
      },
      "source": [
        "for i in range(5):\n",
        "  print('hahaha')\n",
        "  x = i + 3\n",
        "  print(f'i={i} x={x}')"
      ],
      "execution_count": 19,
      "outputs": [
        {
          "output_type": "stream",
          "text": [
            "hahaha\n",
            "i=0 x=3\n",
            "hahaha\n",
            "i=1 x=4\n",
            "hahaha\n",
            "i=2 x=5\n",
            "hahaha\n",
            "i=3 x=6\n",
            "hahaha\n",
            "i=4 x=7\n"
          ],
          "name": "stdout"
        }
      ]
    },
    {
      "cell_type": "markdown",
      "metadata": {
        "id": "8W1x7RD1Tsa7"
      },
      "source": [
        "# Nested loop"
      ]
    },
    {
      "cell_type": "code",
      "metadata": {
        "id": "I4bz999ITtkN",
        "colab": {
          "base_uri": "https://localhost:8080/"
        },
        "outputId": "07c00e7a-de87-48c6-c0ee-dad803b05c5d"
      },
      "source": [
        "for i in range(3):\n",
        "  print(f'now i = {i}')\n",
        "  print('start j loop')\n",
        "  for j in range(4):\n",
        "    print(f'i ={i}  j ={j}  i+j ={i+j}')\n",
        "  print('end j loop')"
      ],
      "execution_count": 20,
      "outputs": [
        {
          "output_type": "stream",
          "text": [
            "now i = 0\n",
            "start j loop\n",
            "i =0  j =0  i+j =0\n",
            "i =0  j =1  i+j =1\n",
            "i =0  j =2  i+j =2\n",
            "i =0  j =3  i+j =3\n",
            "end j loop\n",
            "now i = 1\n",
            "start j loop\n",
            "i =1  j =0  i+j =1\n",
            "i =1  j =1  i+j =2\n",
            "i =1  j =2  i+j =3\n",
            "i =1  j =3  i+j =4\n",
            "end j loop\n",
            "now i = 2\n",
            "start j loop\n",
            "i =2  j =0  i+j =2\n",
            "i =2  j =1  i+j =3\n",
            "i =2  j =2  i+j =4\n",
            "i =2  j =3  i+j =5\n",
            "end j loop\n"
          ],
          "name": "stdout"
        }
      ]
    },
    {
      "cell_type": "markdown",
      "metadata": {
        "id": "jq0jQJcTTvNT"
      },
      "source": [
        "\n",
        "# Condition (if statement)\n"
      ]
    },
    {
      "cell_type": "markdown",
      "metadata": {
        "id": "gZPQeeuKJtaW"
      },
      "source": [
        "``` python\n",
        "if เงื่อนไขที่จะตรวจสอบ\n",
        "    ถ้าเงื่อนไขเป็นจริง ทำงานที่ 1\n",
        "    ถ้าเงื่อนไขเป็นจริง ทำงานที่ 2\n",
        "\n",
        "```"
      ]
    },
    {
      "cell_type": "code",
      "metadata": {
        "colab": {
          "base_uri": "https://localhost:8080/"
        },
        "id": "0qokkR4AGUs8",
        "outputId": "f6c32a74-d382-43b2-f843-486e5cabb128"
      },
      "source": [
        "stringx = 'abcdefghijasdasdasdsasadaklmnop'\n",
        "\n",
        "if len(stringx) > 30:\n",
        "    print(f'{stringx} is longer than 30 characters')"
      ],
      "execution_count": 21,
      "outputs": [
        {
          "output_type": "stream",
          "text": [
            "abcdefghijasdasdasdsasadaklmnop is longer than 30 characters\n"
          ],
          "name": "stdout"
        }
      ]
    },
    {
      "cell_type": "code",
      "metadata": {
        "id": "liwc4B_zHNkW"
      },
      "source": [
        "stringx = 'abcdefghijasdasdasdsasadaklmnop'\n",
        "\n",
        "if len(stringx) > 100:\n",
        "    print(f'{stringx} is longer than 30 characters')"
      ],
      "execution_count": 22,
      "outputs": []
    },
    {
      "cell_type": "markdown",
      "metadata": {
        "id": "jNorRMhTH77k"
      },
      "source": [
        "``` python\n",
        "if เงื่อนไขที่จะตรวจสอบ (โดยใช้สัญลักษณ์ ==,!=,<,>,<=,>=):\n",
        "    ถ้าเงื่อนไขเป็นจริง ทำงานที่ 1\n",
        "    ถ้าเงื่อนไขเป็นจริง ทำงานที่ 2\n",
        "else: #ตรวจสอบเงื่อนไขข้างบนแล้วไม่เป็นจริง\n",
        "    ทำงานที่ X \n",
        "```"
      ]
    },
    {
      "cell_type": "code",
      "metadata": {
        "colab": {
          "base_uri": "https://localhost:8080/"
        },
        "id": "nfAcrs2QIAMP",
        "outputId": "254f40d8-f72c-4fd3-fdbd-c53193657f8a"
      },
      "source": [
        "stringx = 'abcdefghijasdasdasdsasadaklmnop'\n",
        "\n",
        "if len(stringx) > 100:\n",
        "    print(f'{stringx} is longer than 30 characters')\n",
        "else:\n",
        "    print(f'{stringx} in {len(stringx)} characters longer')"
      ],
      "execution_count": 23,
      "outputs": [
        {
          "output_type": "stream",
          "text": [
            "abcdefghijasdasdasdsasadaklmnop in 31 characters longer\n"
          ],
          "name": "stdout"
        }
      ]
    },
    {
      "cell_type": "markdown",
      "metadata": {
        "id": "CYu7q302JQJH"
      },
      "source": [
        "``` python\n",
        "if เงื่อนไขที่จะตรวจสอบ (โดยใช้สัญลักษณ์ ==,!=,<,>,<=,>=):\n",
        "    ถ้าเงื่อนไขเป็นจริง ทำงานที่ 1\n",
        "    ถ้าเงื่อนไขเป็นจริง ทำงานที่ 2\n",
        "elif: #เงื่อนไขที่จะตรวจสอบต่อไปถ้าเงื่อนไขข้างบนไม่เป็นจริง\n",
        "    ถ้าเงื่อนไขเป็นจริง ทำงานที่ a1\n",
        "    ถ้าเงื่อนไขเป็นจริง ทำงานที่ a2\n",
        "elif: #เงื่อนไขที่จะตรวจสอบต่อไปถ้าเงื่อนไขข้างบนไม่เป็นจริง\n",
        "    ถ้าเงื่อนไขเป็นจริง ทำงานที่ b1\n",
        "    ถ้าเงื่อนไขเป็นจริง ทำงานที่ b2\n",
        "else: #ตรวจสอบเงื่อนไขข้างบนแล้วไม่เป็นจริง\n",
        "    ทำงานที่ X \n",
        "```"
      ]
    },
    {
      "cell_type": "code",
      "metadata": {
        "colab": {
          "base_uri": "https://localhost:8080/"
        },
        "id": "GErbKFJaLEsf",
        "outputId": "9fd58d14-71b2-459d-c454-5db0361fc9cb"
      },
      "source": [
        "password = '12345'\n",
        "\n",
        "input_pass = '123'\n",
        "if input_pass == password:\n",
        "    print('Welcome !')\n",
        "elif len(input_pass) > len(password):\n",
        "    print('Too long, Try again!')\n",
        "elif len(input_pass) < len(password):\n",
        "    print('Too long, Try again!')\n",
        "else:\n",
        "    print('Wrong password, Try again!')"
      ],
      "execution_count": 24,
      "outputs": [
        {
          "output_type": "stream",
          "text": [
            "Too long, Try again!\n"
          ],
          "name": "stdout"
        }
      ]
    },
    {
      "cell_type": "markdown",
      "metadata": {
        "id": "JCG8VEa4K8wJ"
      },
      "source": [
        "Quiz 1 หา min"
      ]
    },
    {
      "cell_type": "code",
      "metadata": {
        "id": "5ci2GAh0NhJo"
      },
      "source": [
        "list_ex = [1,5,9,-19,-2,0] #หาค่าน้อยที่สุดใน list_ex โดยไม่ใช้ function min (commit ก่อน 10:30 :Quiz1)"
      ],
      "execution_count": 25,
      "outputs": []
    },
    {
      "cell_type": "code",
      "metadata": {
        "colab": {
          "base_uri": "https://localhost:8080/"
        },
        "id": "a3K6H1izO-Uz",
        "outputId": "f7a2657e-5867-4620-fe1e-786068f18572"
      },
      "source": [
        "list_ex = [1,5,9,-19,-2,0]\n",
        "pp = list_ex[0] \n",
        "i = 0\n",
        "for m in list_ex: \n",
        "    if(m<pp): \n",
        "        pp = m \n",
        "        imin = i \n",
        "    i += 1\n",
        "print(min(list_ex))"
      ],
      "execution_count": 26,
      "outputs": [
        {
          "output_type": "stream",
          "text": [
            "-19\n"
          ],
          "name": "stdout"
        }
      ]
    },
    {
      "cell_type": "code",
      "metadata": {
        "colab": {
          "base_uri": "https://localhost:8080/"
        },
        "id": "8bgOZS0zTKXc",
        "outputId": "11cd06e1-449a-44b9-8ee3-23faeb8cf759"
      },
      "source": [
        "min = 10000000 #เฉลยของอาจารย์\n",
        "for i in list_ex:\n",
        "    if i < min:\n",
        "      min = i\n",
        "print(min)"
      ],
      "execution_count": 27,
      "outputs": [
        {
          "output_type": "stream",
          "text": [
            "-19\n"
          ],
          "name": "stdout"
        }
      ]
    },
    {
      "cell_type": "markdown",
      "metadata": {
        "id": "J3FWshQQV0RC"
      },
      "source": [
        "HW3 ตัดเกรด"
      ]
    },
    {
      "cell_type": "code",
      "metadata": {
        "id": "OKnNGrpRGTt9"
      },
      "source": [
        "score = [49,65,70,95,82,55,89,20,77,77,81,59,10] #ตัดเกรด คะแนนใน list score (ใช้ if กับ for)"
      ],
      "execution_count": 28,
      "outputs": []
    },
    {
      "cell_type": "code",
      "metadata": {
        "colab": {
          "base_uri": "https://localhost:8080/"
        },
        "id": "eH0771jzrrHw",
        "outputId": "58c94aa8-768f-480c-f395-b77d56756cf0"
      },
      "source": [
        "score = [49,65,70,95,82,55,89,20,77,77,81,59,10]\n",
        "for i in score:\n",
        "  if i >= 80:\n",
        "     print('เกรด A') #เกรดA\n",
        "  elif i >= 75:\n",
        "      print('เกรด B+') #เกรดB+\n",
        "  elif i >= 70:\n",
        "      print('เกรด B') #เกรดB\n",
        "  elif i >= 65:\n",
        "      print('เกรด C+') #เกรดC+\n",
        "  elif i >= 60:\n",
        "      print('เกรด C') #เกรดC\n",
        "  elif i >= 55:\n",
        "      print('เกรด D+') #เกรดD+\n",
        "  elif i >= 50:\n",
        "      print('เกรด D') #เกรดD\n",
        "  else:\n",
        "      print('เกรด F') #เกรดF"
      ],
      "execution_count": 29,
      "outputs": [
        {
          "output_type": "stream",
          "text": [
            "เกรด F\n",
            "เกรด C+\n",
            "เกรด B\n",
            "เกรด A\n",
            "เกรด A\n",
            "เกรด D+\n",
            "เกรด A\n",
            "เกรด F\n",
            "เกรด B+\n",
            "เกรด B+\n",
            "เกรด A\n",
            "เกรด D+\n",
            "เกรด F\n"
          ],
          "name": "stdout"
        }
      ]
    },
    {
      "cell_type": "markdown",
      "metadata": {
        "id": "qPEBlhw8IV4x"
      },
      "source": [
        "# Function\n",
        "\n",
        "\n",
        "```\n",
        "def ชื่อฟังก์ชั่น(input1,input2,...):\n",
        "    งานxxx\n",
        "    งานyyy\n",
        "  return output\n",
        "\n",
        "ส่วนประกอบสำคัญ\n",
        "*   input\n",
        "*   process ไม่มีไม่ได้\n",
        "*   output\n",
        "```\n",
        "\n",
        "\n",
        "\n",
        "\n"
      ]
    },
    {
      "cell_type": "code",
      "metadata": {
        "id": "ur-gj0n5JDBt"
      },
      "source": [
        "def grading(score):  #คีย์ลัดในการย่อหน้าบรรทัด คือ Ctrl+[, Ctrl+]\n",
        "  if score >= 90:\n",
        "      grade = 'A'\n",
        "  elif score >= 85:\n",
        "      grade = 'B+'\n",
        "  elif score >= 75:\n",
        "      grade = 'B'\n",
        "  elif score >= 70:\n",
        "      grade = 'C+'\n",
        "  elif score >= 60:\n",
        "      grade = 'C'\n",
        "  elif score >= 55:\n",
        "      grade = 'D+'\n",
        "  elif score >= 50:\n",
        "      grade = 'D'\n",
        "  else:\n",
        "      grade = 'F'\n",
        "  return grade"
      ],
      "execution_count": 32,
      "outputs": []
    },
    {
      "cell_type": "code",
      "metadata": {
        "colab": {
          "base_uri": "https://localhost:8080/"
        },
        "id": "LYsRWNQTJGZx",
        "outputId": "8fda8ad4-33a3-458c-cda4-e5e3def79f75"
      },
      "source": [
        "score = [49,65,70,95,82,55,89,20,77,77,81,59,10]\n",
        "for i in score:\n",
        "    print(f'คะแนน {i} ได้เกรด {grading(i)}')"
      ],
      "execution_count": 33,
      "outputs": [
        {
          "output_type": "stream",
          "text": [
            "คะแนน 49 ได้เกรด F\n",
            "คะแนน 65 ได้เกรด C\n",
            "คะแนน 70 ได้เกรด C+\n",
            "คะแนน 95 ได้เกรด A\n",
            "คะแนน 82 ได้เกรด B\n",
            "คะแนน 55 ได้เกรด D+\n",
            "คะแนน 89 ได้เกรด B+\n",
            "คะแนน 20 ได้เกรด F\n",
            "คะแนน 77 ได้เกรด B\n",
            "คะแนน 77 ได้เกรด B\n",
            "คะแนน 81 ได้เกรด B\n",
            "คะแนน 59 ได้เกรด D+\n",
            "คะแนน 10 ได้เกรด F\n"
          ],
          "name": "stdout"
        }
      ]
    },
    {
      "cell_type": "code",
      "metadata": {
        "id": "lZIM4GyNJHqr"
      },
      "source": [
        "def grading_list(list_score):\n",
        "  grade_list = []\n",
        "  for score in list_score:\n",
        "    if score >= 90:\n",
        "       grade = 'A'\n",
        "    elif score >= 85:\n",
        "       grade = 'B+'\n",
        "    elif score >= 75:\n",
        "       grade = 'B'\n",
        "    elif score >= 70:\n",
        "       grade = 'C+'\n",
        "    elif score >= 60:\n",
        "       grade = 'C'\n",
        "    elif score >= 55:\n",
        "       grade = 'D+'\n",
        "    elif score >= 50:\n",
        "       grade = 'D'\n",
        "    else:\n",
        "      grade = 'F'\n",
        "    grade_list.append([score,grade])\n",
        "  return grade_list"
      ],
      "execution_count": 34,
      "outputs": []
    },
    {
      "cell_type": "code",
      "metadata": {
        "colab": {
          "base_uri": "https://localhost:8080/"
        },
        "id": "JviZW5dHJI6z",
        "outputId": "0cc862fd-802a-4443-aed3-3cb0ffd66019"
      },
      "source": [
        "g = grading_list(score)\n",
        "g"
      ],
      "execution_count": 35,
      "outputs": [
        {
          "output_type": "execute_result",
          "data": {
            "text/plain": [
              "[[49, 'F'],\n",
              " [65, 'C'],\n",
              " [70, 'C+'],\n",
              " [95, 'A'],\n",
              " [82, 'B'],\n",
              " [55, 'D+'],\n",
              " [89, 'B+'],\n",
              " [20, 'F'],\n",
              " [77, 'B'],\n",
              " [77, 'B'],\n",
              " [81, 'B'],\n",
              " [59, 'D+'],\n",
              " [10, 'F']]"
            ]
          },
          "metadata": {
            "tags": []
          },
          "execution_count": 35
        }
      ]
    },
    {
      "cell_type": "code",
      "metadata": {
        "id": "yeSoSangJL2a"
      },
      "source": [
        "def drawH():\n",
        "    print('        /\\         ')\n",
        "    print('       /  \\        ')\n",
        "    print('      /    \\       ')\n",
        "    print('     /      \\      ')\n",
        "    print('     ========      ')\n",
        "    print('      |    |       ***** ')\n",
        "    print('      |    |     ********** ')\n",
        "    print('      ======      *******  ')\n",
        "    print('                    | | ')\n",
        "    print('                    | |  ')\n",
        "    print('                    | |  ')"
      ],
      "execution_count": 41,
      "outputs": []
    },
    {
      "cell_type": "code",
      "metadata": {
        "colab": {
          "base_uri": "https://localhost:8080/"
        },
        "id": "UI_fTpHkJb2j",
        "outputId": "c936b732-85e0-4fb9-9a2e-0c03a18f931a"
      },
      "source": [
        "drawH()"
      ],
      "execution_count": 42,
      "outputs": [
        {
          "output_type": "stream",
          "text": [
            "        /\\         \n",
            "       /  \\        \n",
            "      /    \\       \n",
            "     /      \\      \n",
            "     ========      \n",
            "      |    |       ***** \n",
            "      |    |     ********** \n",
            "      ======      *******  \n",
            "                    | | \n",
            "                    | |  \n",
            "                    | |  \n"
          ],
          "name": "stdout"
        }
      ]
    }
  ]
}