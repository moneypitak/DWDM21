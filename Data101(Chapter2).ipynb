{
  "nbformat": 4,
  "nbformat_minor": 0,
  "metadata": {
    "colab": {
      "name": "Data101(Chapter2).ipynb",
      "provenance": [],
      "authorship_tag": "ABX9TyOPcBzhzr7BdJTZe/sW2TG6",
      "include_colab_link": true
    },
    "kernelspec": {
      "name": "python3",
      "display_name": "Python 3"
    },
    "language_info": {
      "name": "python"
    }
  },
  "cells": [
    {
      "cell_type": "markdown",
      "metadata": {
        "id": "view-in-github",
        "colab_type": "text"
      },
      "source": [
        "<a href=\"https://colab.research.google.com/github/moneypitak/DWDM21/blob/main/Data101(Chapter2).ipynb\" target=\"_parent\"><img src=\"https://colab.research.google.com/assets/colab-badge.svg\" alt=\"Open In Colab\"/></a>"
      ]
    },
    {
      "cell_type": "code",
      "metadata": {
        "id": "GTtS5jOysCRI"
      },
      "source": [
        "import pandas #การเรียกใช้ package = import ตามด้วย package"
      ],
      "execution_count": 9,
      "outputs": []
    },
    {
      "cell_type": "code",
      "metadata": {
        "id": "FDPAJ3kls42S"
      },
      "source": [
        "import pandas as pd"
      ],
      "execution_count": 10,
      "outputs": []
    },
    {
      "cell_type": "markdown",
      "metadata": {
        "id": "sY5VqwkWxHbo"
      },
      "source": [
        "ไฟล์ csv จะเน้นใช้งานเป็นหลักในวิชานี้"
      ]
    },
    {
      "cell_type": "code",
      "metadata": {
        "id": "ZfZ5lUEau0tW"
      },
      "source": [
        "data_df = pd.read_csv('data.csv')"
      ],
      "execution_count": 11,
      "outputs": []
    },
    {
      "cell_type": "code",
      "metadata": {
        "id": "xqhGJFuSxvEJ",
        "colab": {
          "base_uri": "https://localhost:8080/",
          "height": 136
        },
        "outputId": "27c9dd18-c12c-4c4a-c2a2-fb21f9a093c0"
      },
      "source": [
        "data_df"
      ],
      "execution_count": 12,
      "outputs": [
        {
          "output_type": "execute_result",
          "data": {
            "text/html": [
              "<div>\n",
              "<style scoped>\n",
              "    .dataframe tbody tr th:only-of-type {\n",
              "        vertical-align: middle;\n",
              "    }\n",
              "\n",
              "    .dataframe tbody tr th {\n",
              "        vertical-align: top;\n",
              "    }\n",
              "\n",
              "    .dataframe thead th {\n",
              "        text-align: right;\n",
              "    }\n",
              "</style>\n",
              "<table border=\"1\" class=\"dataframe\">\n",
              "  <thead>\n",
              "    <tr style=\"text-align: right;\">\n",
              "      <th></th>\n",
              "      <th>name</th>\n",
              "      <th>age</th>\n",
              "      <th>city</th>\n",
              "    </tr>\n",
              "  </thead>\n",
              "  <tbody>\n",
              "    <tr>\n",
              "      <th>0</th>\n",
              "      <td>Tom</td>\n",
              "      <td>27</td>\n",
              "      <td>Khon kae</td>\n",
              "    </tr>\n",
              "    <tr>\n",
              "      <th>1</th>\n",
              "      <td>Paul</td>\n",
              "      <td>15</td>\n",
              "      <td>Bangkok</td>\n",
              "    </tr>\n",
              "    <tr>\n",
              "      <th>2</th>\n",
              "      <td>Sarah</td>\n",
              "      <td>49</td>\n",
              "      <td>London</td>\n",
              "    </tr>\n",
              "  </tbody>\n",
              "</table>\n",
              "</div>"
            ],
            "text/plain": [
              "    name  age      city\n",
              "0    Tom   27  Khon kae\n",
              "1   Paul   15   Bangkok\n",
              "2  Sarah   49    London"
            ]
          },
          "metadata": {
            "tags": []
          },
          "execution_count": 12
        }
      ]
    },
    {
      "cell_type": "markdown",
      "metadata": {
        "id": "wLiYW1b60IVP"
      },
      "source": [
        "# Basic python\n",
        "\n",
        "## Variables\n",
        "\n",
        "\n",
        "### ข้อกำหนดในการตั้งชื่อตัวแปร\n",
        "\n",
        "ชื่อห้ามมีเว้นวรรค\n",
        "\n",
        "(พยายาม)ควรใช้ภาษาอังกฤษ\n",
        "\n",
        "ตัวเล็กกับตัวใหญ่แตกต่างกัน (case sensitive)\n",
        "\n",
        "ห้ามใช้ตัวเลขเป็นตัวหน้า"
      ]
    },
    {
      "cell_type": "code",
      "metadata": {
        "id": "HS2oiUrM0SsB"
      },
      "source": [
        "variable_a = 12 # เป็นค่าตัวเลข\n",
        "variable_b = 'abcde' # เรียกว่า quote\n",
        "variable_c = variable_a\n",
        "variable_d = -41.2\n",
        "variable_4 = \"KKU\" # \" เรียกว่า double quote"
      ],
      "execution_count": 13,
      "outputs": []
    },
    {
      "cell_type": "code",
      "metadata": {
        "id": "Y1eEaD4v0VXA",
        "colab": {
          "base_uri": "https://localhost:8080/"
        },
        "outputId": "8defa161-429b-4709-edac-f1bb26ecb7d3"
      },
      "source": [
        "variable_a"
      ],
      "execution_count": 14,
      "outputs": [
        {
          "output_type": "execute_result",
          "data": {
            "text/plain": [
              "12"
            ]
          },
          "metadata": {
            "tags": []
          },
          "execution_count": 14
        }
      ]
    },
    {
      "cell_type": "code",
      "metadata": {
        "id": "h-JozYEq1Qvx",
        "colab": {
          "base_uri": "https://localhost:8080/",
          "height": 35
        },
        "outputId": "1f409655-2813-425a-d0a9-93c0a5145f0e"
      },
      "source": [
        "variable_b"
      ],
      "execution_count": 15,
      "outputs": [
        {
          "output_type": "execute_result",
          "data": {
            "application/vnd.google.colaboratory.intrinsic+json": {
              "type": "string"
            },
            "text/plain": [
              "'abcde'"
            ]
          },
          "metadata": {
            "tags": []
          },
          "execution_count": 15
        }
      ]
    },
    {
      "cell_type": "code",
      "metadata": {
        "id": "DNFDYv_u1RTh",
        "colab": {
          "base_uri": "https://localhost:8080/"
        },
        "outputId": "d6716c88-4a25-4f03-fb52-f27f15092c68"
      },
      "source": [
        "variable_c"
      ],
      "execution_count": 16,
      "outputs": [
        {
          "output_type": "execute_result",
          "data": {
            "text/plain": [
              "12"
            ]
          },
          "metadata": {
            "tags": []
          },
          "execution_count": 16
        }
      ]
    },
    {
      "cell_type": "code",
      "metadata": {
        "id": "gOrm-DAkSA-R",
        "colab": {
          "base_uri": "https://localhost:8080/"
        },
        "outputId": "497b08fb-aa76-4fe6-b5a7-f2b44fb28ff8"
      },
      "source": [
        "variable_x = variable_c + variable_d # ตัวเลขกับตัวหนังสือบวกกันไม่ได้\n",
        "print(variable_x)"
      ],
      "execution_count": 17,
      "outputs": [
        {
          "output_type": "stream",
          "text": [
            "-29.200000000000003\n"
          ],
          "name": "stdout"
        }
      ]
    },
    {
      "cell_type": "code",
      "metadata": {
        "id": "iz6nHZjlSCaH",
        "colab": {
          "base_uri": "https://localhost:8080/"
        },
        "outputId": "11f9603e-c063-45a6-b315-d26e07b78637"
      },
      "source": [
        "\n",
        "print(variable_b + variable_4)"
      ],
      "execution_count": 18,
      "outputs": [
        {
          "output_type": "stream",
          "text": [
            "abcdeKKU\n"
          ],
          "name": "stdout"
        }
      ]
    },
    {
      "cell_type": "markdown",
      "metadata": {
        "id": "qqq4FSZTSEGm"
      },
      "source": [
        "# Casting int() float() str()"
      ]
    },
    {
      "cell_type": "code",
      "metadata": {
        "id": "LWE3y7M0SFkp",
        "colab": {
          "base_uri": "https://localhost:8080/"
        },
        "outputId": "989e3cbe-df43-4cc3-9e61-5628f06a8956"
      },
      "source": [
        "print(variable_x)\n",
        "print(int(variable_x))"
      ],
      "execution_count": 19,
      "outputs": [
        {
          "output_type": "stream",
          "text": [
            "-29.200000000000003\n",
            "-29\n"
          ],
          "name": "stdout"
        }
      ]
    },
    {
      "cell_type": "code",
      "metadata": {
        "id": "VvDhc9RsSGoC",
        "colab": {
          "base_uri": "https://localhost:8080/"
        },
        "outputId": "50652932-6708-40ce-becc-26ecc665f0e4"
      },
      "source": [
        "\n",
        "print(str(variable_x))"
      ],
      "execution_count": 20,
      "outputs": [
        {
          "output_type": "stream",
          "text": [
            "-29.200000000000003\n"
          ],
          "name": "stdout"
        }
      ]
    },
    {
      "cell_type": "code",
      "metadata": {
        "id": "N-pxJCHLSHu_",
        "colab": {
          "base_uri": "https://localhost:8080/"
        },
        "outputId": "82f82ab4-16a4-499c-cfcb-99f7303ecf40"
      },
      "source": [
        "print(float(variable_x))"
      ],
      "execution_count": 21,
      "outputs": [
        {
          "output_type": "stream",
          "text": [
            "-29.200000000000003\n"
          ],
          "name": "stdout"
        }
      ]
    },
    {
      "cell_type": "code",
      "metadata": {
        "id": "TErFO58bSJEY",
        "colab": {
          "base_uri": "https://localhost:8080/"
        },
        "outputId": "74085792-a0ea-49ed-a643-6f82663cf164"
      },
      "source": [
        "V_X = (str(variable_x))\n",
        "print(V_X)"
      ],
      "execution_count": 22,
      "outputs": [
        {
          "output_type": "stream",
          "text": [
            "-29.200000000000003\n"
          ],
          "name": "stdout"
        }
      ]
    },
    {
      "cell_type": "code",
      "metadata": {
        "id": "1qCb_LCDSKQC",
        "colab": {
          "base_uri": "https://localhost:8080/",
          "height": 35
        },
        "outputId": "7e5c7711-38ad-428a-efde-b87042c1b546"
      },
      "source": [
        "\n",
        "V_X"
      ],
      "execution_count": 23,
      "outputs": [
        {
          "output_type": "execute_result",
          "data": {
            "application/vnd.google.colaboratory.intrinsic+json": {
              "type": "string"
            },
            "text/plain": [
              "'-29.200000000000003'"
            ]
          },
          "metadata": {
            "tags": []
          },
          "execution_count": 23
        }
      ]
    },
    {
      "cell_type": "code",
      "metadata": {
        "id": "9I0v78aRSLMo",
        "colab": {
          "base_uri": "https://localhost:8080/"
        },
        "outputId": "9d41989f-bee9-453f-8a6a-4c9b6e412c70"
      },
      "source": [
        "\n",
        "float(V_X)"
      ],
      "execution_count": 24,
      "outputs": [
        {
          "output_type": "execute_result",
          "data": {
            "text/plain": [
              "-29.200000000000003"
            ]
          },
          "metadata": {
            "tags": []
          },
          "execution_count": 24
        }
      ]
    },
    {
      "cell_type": "markdown",
      "metadata": {
        "id": "tdI8rY83SMs2"
      },
      "source": [
        "# Data structure\n",
        "\n",
        "## list()"
      ]
    },
    {
      "cell_type": "code",
      "metadata": {
        "id": "GvZZZu9XSSwQ"
      },
      "source": [
        "list_a = [1,2,0.2,'abs',] # [] square brackets\n",
        "list_b = [2,'xyz',list_a,[1,2,0.0]]"
      ],
      "execution_count": 25,
      "outputs": []
    },
    {
      "cell_type": "code",
      "metadata": {
        "id": "cDTAeCMjST5Y",
        "colab": {
          "base_uri": "https://localhost:8080/"
        },
        "outputId": "ffd3ef77-09ae-4d93-ed2e-1bc6248a2ce0"
      },
      "source": [
        "list_a"
      ],
      "execution_count": 26,
      "outputs": [
        {
          "output_type": "execute_result",
          "data": {
            "text/plain": [
              "[1, 2, 0.2, 'abs']"
            ]
          },
          "metadata": {
            "tags": []
          },
          "execution_count": 26
        }
      ]
    },
    {
      "cell_type": "code",
      "metadata": {
        "id": "ztGYizLGSU6i",
        "colab": {
          "base_uri": "https://localhost:8080/"
        },
        "outputId": "0348126a-7e23-4143-dec5-59ee84517b86"
      },
      "source": [
        "list_b"
      ],
      "execution_count": 27,
      "outputs": [
        {
          "output_type": "execute_result",
          "data": {
            "text/plain": [
              "[2, 'xyz', [1, 2, 0.2, 'abs'], [1, 2, 0.0]]"
            ]
          },
          "metadata": {
            "tags": []
          },
          "execution_count": 27
        }
      ]
    },
    {
      "cell_type": "code",
      "metadata": {
        "id": "9ZBtEW5eSWHy",
        "colab": {
          "base_uri": "https://localhost:8080/"
        },
        "outputId": "5a05210d-09f8-44df-dfec-75f6f8e6916e"
      },
      "source": [
        "\n",
        "len(list_b) # len() คือจำนวนสมาชิก"
      ],
      "execution_count": 28,
      "outputs": [
        {
          "output_type": "execute_result",
          "data": {
            "text/plain": [
              "4"
            ]
          },
          "metadata": {
            "tags": []
          },
          "execution_count": 28
        }
      ]
    },
    {
      "cell_type": "code",
      "metadata": {
        "id": "SaxlmD3PSXax",
        "colab": {
          "base_uri": "https://localhost:8080/"
        },
        "outputId": "ba457dd2-30ce-4425-c2c4-bbea7c3b1e66"
      },
      "source": [
        "list_b[3]"
      ],
      "execution_count": 29,
      "outputs": [
        {
          "output_type": "execute_result",
          "data": {
            "text/plain": [
              "[1, 2, 0.0]"
            ]
          },
          "metadata": {
            "tags": []
          },
          "execution_count": 29
        }
      ]
    },
    {
      "cell_type": "code",
      "metadata": {
        "id": "XfmXSza5SYZ_",
        "colab": {
          "base_uri": "https://localhost:8080/"
        },
        "outputId": "3b503307-918c-4862-bbb8-fde5a1216d0f"
      },
      "source": [
        "list_b[3][1]"
      ],
      "execution_count": 30,
      "outputs": [
        {
          "output_type": "execute_result",
          "data": {
            "text/plain": [
              "2"
            ]
          },
          "metadata": {
            "tags": []
          },
          "execution_count": 30
        }
      ]
    },
    {
      "cell_type": "markdown",
      "metadata": {
        "id": "VSPPOynvSZlw"
      },
      "source": [
        "\n",
        "string คือ list ของตัวหนังสือ"
      ]
    },
    {
      "cell_type": "code",
      "metadata": {
        "id": "JC8cGJyySam5"
      },
      "source": [
        "a = 'Stat KKU'"
      ],
      "execution_count": 31,
      "outputs": []
    },
    {
      "cell_type": "code",
      "metadata": {
        "id": "LO4Cu2yDSbwQ",
        "colab": {
          "base_uri": "https://localhost:8080/",
          "height": 35
        },
        "outputId": "489e5278-f89a-4518-a1c8-9e233382fb86"
      },
      "source": [
        "a[4]"
      ],
      "execution_count": 32,
      "outputs": [
        {
          "output_type": "execute_result",
          "data": {
            "application/vnd.google.colaboratory.intrinsic+json": {
              "type": "string"
            },
            "text/plain": [
              "' '"
            ]
          },
          "metadata": {
            "tags": []
          },
          "execution_count": 32
        }
      ]
    },
    {
      "cell_type": "markdown",
      "metadata": {
        "id": "vaKPi38BSdEf"
      },
      "source": [
        "\n",
        "วิธีสร้าง list ว่าง"
      ]
    },
    {
      "cell_type": "code",
      "metadata": {
        "id": "Jq526ZCWSeGh"
      },
      "source": [
        "list_c = list() # แบบที่1\n",
        "list_d = [] # แบบที่2"
      ],
      "execution_count": 33,
      "outputs": []
    },
    {
      "cell_type": "code",
      "metadata": {
        "id": "l3TfmpcTSfCH",
        "colab": {
          "base_uri": "https://localhost:8080/"
        },
        "outputId": "fadcc3d6-498f-454b-905c-c4cbdc4659c0"
      },
      "source": [
        "list_c"
      ],
      "execution_count": 34,
      "outputs": [
        {
          "output_type": "execute_result",
          "data": {
            "text/plain": [
              "[]"
            ]
          },
          "metadata": {
            "tags": []
          },
          "execution_count": 34
        }
      ]
    },
    {
      "cell_type": "code",
      "metadata": {
        "id": "jQcxCzicSf9B",
        "colab": {
          "base_uri": "https://localhost:8080/"
        },
        "outputId": "bedddf5f-9102-4c5e-d007-bd77bdecb5be"
      },
      "source": [
        "\n",
        "list_d"
      ],
      "execution_count": 35,
      "outputs": [
        {
          "output_type": "execute_result",
          "data": {
            "text/plain": [
              "[]"
            ]
          },
          "metadata": {
            "tags": []
          },
          "execution_count": 35
        }
      ]
    },
    {
      "cell_type": "markdown",
      "metadata": {
        "id": "OPquWPZ8ShGX"
      },
      "source": [
        "\n",
        "เติมค่าลงไปใน list (.append())"
      ]
    },
    {
      "cell_type": "code",
      "metadata": {
        "id": "i1RJYLXcSiO_"
      },
      "source": [
        "\n",
        "list_d.append('a')"
      ],
      "execution_count": 36,
      "outputs": []
    },
    {
      "cell_type": "code",
      "metadata": {
        "id": "bWIi83UBSjaY",
        "colab": {
          "base_uri": "https://localhost:8080/"
        },
        "outputId": "31b5932d-63b2-4512-aabc-19cad68054a6"
      },
      "source": [
        "\n",
        "list_d"
      ],
      "execution_count": 37,
      "outputs": [
        {
          "output_type": "execute_result",
          "data": {
            "text/plain": [
              "['a']"
            ]
          },
          "metadata": {
            "tags": []
          },
          "execution_count": 37
        }
      ]
    },
    {
      "cell_type": "code",
      "metadata": {
        "id": "fCdltcQ0Skqg"
      },
      "source": [
        "list_d.append('56')"
      ],
      "execution_count": 38,
      "outputs": []
    },
    {
      "cell_type": "code",
      "metadata": {
        "id": "U9HcF-hiSl-4",
        "colab": {
          "base_uri": "https://localhost:8080/"
        },
        "outputId": "8ef090dc-e9ae-43a7-c98c-cba5c5eaae3b"
      },
      "source": [
        "list_d"
      ],
      "execution_count": 39,
      "outputs": [
        {
          "output_type": "execute_result",
          "data": {
            "text/plain": [
              "['a', '56']"
            ]
          },
          "metadata": {
            "tags": []
          },
          "execution_count": 39
        }
      ]
    },
    {
      "cell_type": "markdown",
      "metadata": {
        "id": "Zdo-BhA-Sn6i"
      },
      "source": [
        "## การชี้ค่าใน list (indexing)\n",
        "\n",
        "ลำดับบในการชี้\n",
        "\n",
        "ลำดับเริ่มจาก 0\n",
        "\n",
        "สามารถชี้จากข้างหลังได้โดยใช้ negative index"
      ]
    },
    {
      "cell_type": "code",
      "metadata": {
        "id": "oll8qeDmSnUK",
        "colab": {
          "base_uri": "https://localhost:8080/"
        },
        "outputId": "c52cb0be-74c3-4ebc-de47-741a28123f9a"
      },
      "source": [
        "list_b"
      ],
      "execution_count": 40,
      "outputs": [
        {
          "output_type": "execute_result",
          "data": {
            "text/plain": [
              "[2, 'xyz', [1, 2, 0.2, 'abs'], [1, 2, 0.0]]"
            ]
          },
          "metadata": {
            "tags": []
          },
          "execution_count": 40
        }
      ]
    },
    {
      "cell_type": "code",
      "metadata": {
        "id": "zNsEjlnySt8i",
        "colab": {
          "base_uri": "https://localhost:8080/"
        },
        "outputId": "b58f4609-359b-468c-bbae-d4526db2335f"
      },
      "source": [
        "list_b[-1]"
      ],
      "execution_count": 41,
      "outputs": [
        {
          "output_type": "execute_result",
          "data": {
            "text/plain": [
              "[1, 2, 0.0]"
            ]
          },
          "metadata": {
            "tags": []
          },
          "execution_count": 41
        }
      ]
    },
    {
      "cell_type": "markdown",
      "metadata": {
        "id": "OIAPo5kcSwX6"
      },
      "source": [
        "## list slicing"
      ]
    },
    {
      "cell_type": "code",
      "metadata": {
        "id": "7lf_JuF0Sx56"
      },
      "source": [
        "# วิธีการตัด list"
      ],
      "execution_count": 42,
      "outputs": []
    },
    {
      "cell_type": "code",
      "metadata": {
        "id": "i7TTSxxQSzA_"
      },
      "source": [
        "list_ex = [1,2,3,5,6,8,-1,20,50,0]"
      ],
      "execution_count": 43,
      "outputs": []
    },
    {
      "cell_type": "markdown",
      "metadata": {
        "id": "eFW4vhWSS0If"
      },
      "source": [
        "เราจะตัด list โดยเอาตั้งแต่ [ตัวหน้า:ตัวก่อนตัวหลัง]\n",
        "\n",
        "ถ้าเป็นสัยลักษณ์คณิตศาสตร์ [ตัวหน้า,ตัวหลัง] -> [ตัวหน้า,ตัวหลัง)"
      ]
    },
    {
      "cell_type": "code",
      "metadata": {
        "id": "8EBMvDm-S32Q",
        "colab": {
          "base_uri": "https://localhost:8080/"
        },
        "outputId": "9b4b9d39-47d0-4785-f0e0-b8dcf700c68e"
      },
      "source": [
        "list_ex[1:6] # เราจะตัด list โดยเอาตั้งแต่ [ตัวหน้า:ตัวก่อนตัวหลัง]"
      ],
      "execution_count": 44,
      "outputs": [
        {
          "output_type": "execute_result",
          "data": {
            "text/plain": [
              "[2, 3, 5, 6, 8]"
            ]
          },
          "metadata": {
            "tags": []
          },
          "execution_count": 44
        }
      ]
    },
    {
      "cell_type": "code",
      "metadata": {
        "id": "cJzRfEprS5Bv",
        "colab": {
          "base_uri": "https://localhost:8080/"
        },
        "outputId": "ea30399c-2c35-4965-d650-5ff9869f38b9"
      },
      "source": [
        "list_ex[4:]"
      ],
      "execution_count": 45,
      "outputs": [
        {
          "output_type": "execute_result",
          "data": {
            "text/plain": [
              "[6, 8, -1, 20, 50, 0]"
            ]
          },
          "metadata": {
            "tags": []
          },
          "execution_count": 45
        }
      ]
    },
    {
      "cell_type": "code",
      "metadata": {
        "id": "JBfb_O4BS6Gv",
        "colab": {
          "base_uri": "https://localhost:8080/"
        },
        "outputId": "e7c763fc-7d7a-4911-8c7b-905a357b45f2"
      },
      "source": [
        "list_ex[:6]"
      ],
      "execution_count": 46,
      "outputs": [
        {
          "output_type": "execute_result",
          "data": {
            "text/plain": [
              "[1, 2, 3, 5, 6, 8]"
            ]
          },
          "metadata": {
            "tags": []
          },
          "execution_count": 46
        }
      ]
    },
    {
      "cell_type": "markdown",
      "metadata": {
        "id": "7NvpmVQGS7IZ"
      },
      "source": [
        "\n",
        "[จุดเริ่มต้น:จุดสุดท้ายขอบเขต:step]"
      ]
    },
    {
      "cell_type": "code",
      "metadata": {
        "id": "Dhb2v6BrS8pA",
        "colab": {
          "base_uri": "https://localhost:8080/"
        },
        "outputId": "e352ced4-f540-483e-95a1-ea72fdfee5ea"
      },
      "source": [
        "list_ex"
      ],
      "execution_count": 47,
      "outputs": [
        {
          "output_type": "execute_result",
          "data": {
            "text/plain": [
              "[1, 2, 3, 5, 6, 8, -1, 20, 50, 0]"
            ]
          },
          "metadata": {
            "tags": []
          },
          "execution_count": 47
        }
      ]
    },
    {
      "cell_type": "code",
      "metadata": {
        "id": "Zqrd-IggS9rQ",
        "colab": {
          "base_uri": "https://localhost:8080/"
        },
        "outputId": "e2bd5134-bf76-4cbf-8c9d-21095d53c02b"
      },
      "source": [
        "list_ex[::2]"
      ],
      "execution_count": 48,
      "outputs": [
        {
          "output_type": "execute_result",
          "data": {
            "text/plain": [
              "[1, 3, 6, -1, 50]"
            ]
          },
          "metadata": {
            "tags": []
          },
          "execution_count": 48
        }
      ]
    },
    {
      "cell_type": "code",
      "metadata": {
        "id": "zn6IOaniS-5v",
        "colab": {
          "base_uri": "https://localhost:8080/"
        },
        "outputId": "bc406a31-496f-4125-8839-18f52f191817"
      },
      "source": [
        "list_ex[::-1] # การกลับ list"
      ],
      "execution_count": 49,
      "outputs": [
        {
          "output_type": "execute_result",
          "data": {
            "text/plain": [
              "[0, 50, 20, -1, 8, 6, 5, 3, 2, 1]"
            ]
          },
          "metadata": {
            "tags": []
          },
          "execution_count": 49
        }
      ]
    },
    {
      "cell_type": "code",
      "metadata": {
        "id": "67iKMIwwTADf",
        "colab": {
          "base_uri": "https://localhost:8080/",
          "height": 35
        },
        "outputId": "ac9a9f34-7c5e-4814-e29d-324bbbfa8046"
      },
      "source": [
        "a"
      ],
      "execution_count": 50,
      "outputs": [
        {
          "output_type": "execute_result",
          "data": {
            "application/vnd.google.colaboratory.intrinsic+json": {
              "type": "string"
            },
            "text/plain": [
              "'Stat KKU'"
            ]
          },
          "metadata": {
            "tags": []
          },
          "execution_count": 50
        }
      ]
    },
    {
      "cell_type": "code",
      "metadata": {
        "id": "VkI3texiTBD3",
        "colab": {
          "base_uri": "https://localhost:8080/",
          "height": 35
        },
        "outputId": "427b15c2-2d2f-428d-a801-bf67b1ef52db"
      },
      "source": [
        "a[5:]"
      ],
      "execution_count": 51,
      "outputs": [
        {
          "output_type": "execute_result",
          "data": {
            "application/vnd.google.colaboratory.intrinsic+json": {
              "type": "string"
            },
            "text/plain": [
              "'KKU'"
            ]
          },
          "metadata": {
            "tags": []
          },
          "execution_count": 51
        }
      ]
    },
    {
      "cell_type": "code",
      "metadata": {
        "id": "of0upnKpTCDH",
        "colab": {
          "base_uri": "https://localhost:8080/",
          "height": 35
        },
        "outputId": "36cd2e2e-77f3-4e64-dba0-1a690bff7767"
      },
      "source": [
        "a[5::]"
      ],
      "execution_count": 52,
      "outputs": [
        {
          "output_type": "execute_result",
          "data": {
            "application/vnd.google.colaboratory.intrinsic+json": {
              "type": "string"
            },
            "text/plain": [
              "'KKU'"
            ]
          },
          "metadata": {
            "tags": []
          },
          "execution_count": 52
        }
      ]
    },
    {
      "cell_type": "code",
      "metadata": {
        "id": "W2vu7qzTTC5y",
        "colab": {
          "base_uri": "https://localhost:8080/",
          "height": 35
        },
        "outputId": "33ba3402-05d4-421d-891f-c571d0a81732"
      },
      "source": [
        "a[-3:]"
      ],
      "execution_count": 53,
      "outputs": [
        {
          "output_type": "execute_result",
          "data": {
            "application/vnd.google.colaboratory.intrinsic+json": {
              "type": "string"
            },
            "text/plain": [
              "'KKU'"
            ]
          },
          "metadata": {
            "tags": []
          },
          "execution_count": 53
        }
      ]
    },
    {
      "cell_type": "code",
      "metadata": {
        "id": "UigvSGgqTD7q",
        "colab": {
          "base_uri": "https://localhost:8080/",
          "height": 35
        },
        "outputId": "4e5143dc-2715-4558-d1a2-b979321b2c06"
      },
      "source": [
        "\n",
        "a[5:8]"
      ],
      "execution_count": 54,
      "outputs": [
        {
          "output_type": "execute_result",
          "data": {
            "application/vnd.google.colaboratory.intrinsic+json": {
              "type": "string"
            },
            "text/plain": [
              "'KKU'"
            ]
          },
          "metadata": {
            "tags": []
          },
          "execution_count": 54
        }
      ]
    },
    {
      "cell_type": "markdown",
      "metadata": {
        "id": "HNW2yWkkTFb5"
      },
      "source": [
        "list + list"
      ]
    },
    {
      "cell_type": "code",
      "metadata": {
        "id": "y7afCiAATGZi",
        "colab": {
          "base_uri": "https://localhost:8080/"
        },
        "outputId": "068d4a92-8c7b-47ec-86fe-b168b8df1cbb"
      },
      "source": [
        "\n",
        "print(list_a)\n",
        "print(list_b)"
      ],
      "execution_count": 55,
      "outputs": [
        {
          "output_type": "stream",
          "text": [
            "[1, 2, 0.2, 'abs']\n",
            "[2, 'xyz', [1, 2, 0.2, 'abs'], [1, 2, 0.0]]\n"
          ],
          "name": "stdout"
        }
      ]
    },
    {
      "cell_type": "code",
      "metadata": {
        "id": "n31o0299THhz",
        "colab": {
          "base_uri": "https://localhost:8080/"
        },
        "outputId": "0aa558bd-041a-4b55-b058-190dceea8084"
      },
      "source": [
        "\n",
        "list_a + list_b"
      ],
      "execution_count": 56,
      "outputs": [
        {
          "output_type": "execute_result",
          "data": {
            "text/plain": [
              "[1, 2, 0.2, 'abs', 2, 'xyz', [1, 2, 0.2, 'abs'], [1, 2, 0.0]]"
            ]
          },
          "metadata": {
            "tags": []
          },
          "execution_count": 56
        }
      ]
    },
    {
      "cell_type": "code",
      "metadata": {
        "id": "ZC_Pr3tlTId6",
        "colab": {
          "base_uri": "https://localhost:8080/"
        },
        "outputId": "872ab2f2-864e-42ad-de25-4097b560da15"
      },
      "source": [
        "\n",
        "list_b + list_a"
      ],
      "execution_count": 57,
      "outputs": [
        {
          "output_type": "execute_result",
          "data": {
            "text/plain": [
              "[2, 'xyz', [1, 2, 0.2, 'abs'], [1, 2, 0.0], 1, 2, 0.2, 'abs']"
            ]
          },
          "metadata": {
            "tags": []
          },
          "execution_count": 57
        }
      ]
    },
    {
      "cell_type": "markdown",
      "metadata": {
        "id": "yQs8BYm6TX7A"
      },
      "source": [
        "format string\n",
        "\n",
        "f 'string{ตัวแปร}'\n",
        "\n",
        "{} เรียกว่า curly bracket"
      ]
    },
    {
      "cell_type": "code",
      "metadata": {
        "id": "yjNIXyY2TPNH",
        "colab": {
          "base_uri": "https://localhost:8080/",
          "height": 35
        },
        "outputId": "265b3fd7-e1a7-40fb-f2c4-3a14933afc51"
      },
      "source": [
        "f'ตัวแปร list_a มีค่าคือ {list_a}'"
      ],
      "execution_count": 58,
      "outputs": [
        {
          "output_type": "execute_result",
          "data": {
            "application/vnd.google.colaboratory.intrinsic+json": {
              "type": "string"
            },
            "text/plain": [
              "\"ตัวแปร list_a มีค่าคือ [1, 2, 0.2, 'abs']\""
            ]
          },
          "metadata": {
            "tags": []
          },
          "execution_count": 58
        }
      ]
    },
    {
      "cell_type": "markdown",
      "metadata": {
        "id": "nWZ__shXCzlf"
      },
      "source": [
        "# Loop"
      ]
    },
    {
      "cell_type": "markdown",
      "metadata": {
        "id": "_9_BcihSTdoo"
      },
      "source": [
        "\n",
        "```python\n",
        "for ตัวแปรที่จะรับค่าจากลิสต์ in ลิสต์ที่จะนำมาวนลูป:\n",
        "    do something\n",
        "    do another thing # in loop\n",
        "```"
      ]
    },
    {
      "cell_type": "code",
      "metadata": {
        "id": "MfwhdRnPTa1o",
        "colab": {
          "base_uri": "https://localhost:8080/"
        },
        "outputId": "2771616f-b966-4ca2-b48a-2d8b0237ddd1"
      },
      "source": [
        "for i in [1,2,3,4,5]:\n",
        "    print(i+1)"
      ],
      "execution_count": 59,
      "outputs": [
        {
          "output_type": "stream",
          "text": [
            "2\n",
            "3\n",
            "4\n",
            "5\n",
            "6\n"
          ],
          "name": "stdout"
        }
      ]
    },
    {
      "cell_type": "code",
      "metadata": {
        "id": "yxcXW8GFTkqD",
        "colab": {
          "base_uri": "https://localhost:8080/"
        },
        "outputId": "0ac476b8-f687-4ed8-a531-229b6a66ce17"
      },
      "source": [
        "for x in [1,2,3,4,5]:\n",
        "  print(f'ค่าตัวแปร x คือ {x} และ x+2={x+2}')"
      ],
      "execution_count": 60,
      "outputs": [
        {
          "output_type": "stream",
          "text": [
            "ค่าตัวแปร x คือ 1 และ x+2=3\n",
            "ค่าตัวแปร x คือ 2 และ x+2=4\n",
            "ค่าตัวแปร x คือ 3 และ x+2=5\n",
            "ค่าตัวแปร x คือ 4 และ x+2=6\n",
            "ค่าตัวแปร x คือ 5 และ x+2=7\n"
          ],
          "name": "stdout"
        }
      ]
    },
    {
      "cell_type": "code",
      "metadata": {
        "id": "XecC7fV9TlrF",
        "colab": {
          "base_uri": "https://localhost:8080/"
        },
        "outputId": "de974382-704b-40f2-a02d-e3d95d219ee2"
      },
      "source": [
        "list5=[1,2,3,4,5]\n",
        "for x in list5:\n",
        "  print(f'ค่าตัวแปรx คือ {x} และ x+2={x+2}')"
      ],
      "execution_count": 61,
      "outputs": [
        {
          "output_type": "stream",
          "text": [
            "ค่าตัวแปรx คือ 1 และ x+2=3\n",
            "ค่าตัวแปรx คือ 2 และ x+2=4\n",
            "ค่าตัวแปรx คือ 3 และ x+2=5\n",
            "ค่าตัวแปรx คือ 4 และ x+2=6\n",
            "ค่าตัวแปรx คือ 5 และ x+2=7\n"
          ],
          "name": "stdout"
        }
      ]
    },
    {
      "cell_type": "code",
      "metadata": {
        "id": "-WVbom4gTnEP",
        "colab": {
          "base_uri": "https://localhost:8080/"
        },
        "outputId": "c8d1afb5-d636-4c6a-d8f3-73d4f190baf0"
      },
      "source": [
        "list(range(10))\n"
      ],
      "execution_count": 62,
      "outputs": [
        {
          "output_type": "execute_result",
          "data": {
            "text/plain": [
              "[0, 1, 2, 3, 4, 5, 6, 7, 8, 9]"
            ]
          },
          "metadata": {
            "tags": []
          },
          "execution_count": 62
        }
      ]
    },
    {
      "cell_type": "code",
      "metadata": {
        "id": "_xm0OpwZToP3",
        "colab": {
          "base_uri": "https://localhost:8080/"
        },
        "outputId": "d6a21196-e6ec-40c7-c830-4e1e84186398"
      },
      "source": [
        "\n",
        "for i in range(2,7):\n",
        "  print(i)"
      ],
      "execution_count": 63,
      "outputs": [
        {
          "output_type": "stream",
          "text": [
            "2\n",
            "3\n",
            "4\n",
            "5\n",
            "6\n"
          ],
          "name": "stdout"
        }
      ]
    },
    {
      "cell_type": "code",
      "metadata": {
        "id": "2E8kuAkPTpOo",
        "colab": {
          "base_uri": "https://localhost:8080/"
        },
        "outputId": "020930bb-dc79-44b7-c09c-d81dadd0ce1a"
      },
      "source": [
        "for i in range(2,7,2):\n",
        "  print(i)"
      ],
      "execution_count": 64,
      "outputs": [
        {
          "output_type": "stream",
          "text": [
            "2\n",
            "4\n",
            "6\n"
          ],
          "name": "stdout"
        }
      ]
    },
    {
      "cell_type": "code",
      "metadata": {
        "id": "Lqsu9My1TqDP",
        "colab": {
          "base_uri": "https://localhost:8080/"
        },
        "outputId": "6b7b66fa-c938-4292-decd-d2ed900e603b"
      },
      "source": [
        "for i in range(5):\n",
        "  print('hahaha')"
      ],
      "execution_count": 65,
      "outputs": [
        {
          "output_type": "stream",
          "text": [
            "hahaha\n",
            "hahaha\n",
            "hahaha\n",
            "hahaha\n",
            "hahaha\n"
          ],
          "name": "stdout"
        }
      ]
    },
    {
      "cell_type": "code",
      "metadata": {
        "id": "H1iWaDHmTrOa",
        "colab": {
          "base_uri": "https://localhost:8080/"
        },
        "outputId": "1e817a7f-2e51-44c2-c598-8e152fa15c4c"
      },
      "source": [
        "for i in range(5):\n",
        "  print('hahaha')\n",
        "  x = i + 3\n",
        "  print(f'i={i} x={x}')"
      ],
      "execution_count": 66,
      "outputs": [
        {
          "output_type": "stream",
          "text": [
            "hahaha\n",
            "i=0 x=3\n",
            "hahaha\n",
            "i=1 x=4\n",
            "hahaha\n",
            "i=2 x=5\n",
            "hahaha\n",
            "i=3 x=6\n",
            "hahaha\n",
            "i=4 x=7\n"
          ],
          "name": "stdout"
        }
      ]
    },
    {
      "cell_type": "markdown",
      "metadata": {
        "id": "8W1x7RD1Tsa7"
      },
      "source": [
        "# Nested loop"
      ]
    },
    {
      "cell_type": "code",
      "metadata": {
        "id": "I4bz999ITtkN",
        "colab": {
          "base_uri": "https://localhost:8080/"
        },
        "outputId": "9605f064-2ed0-429a-c978-22d73d34659c"
      },
      "source": [
        "for i in range(3):\n",
        "  print(f'now i = {i}')\n",
        "  print('start j loop')\n",
        "  for j in range(4):\n",
        "    print(f'i ={i}  j ={j}  i+j ={i+j}')\n",
        "  print('end j loop')"
      ],
      "execution_count": 67,
      "outputs": [
        {
          "output_type": "stream",
          "text": [
            "now i = 0\n",
            "start j loop\n",
            "i =0  j =0  i+j =0\n",
            "i =0  j =1  i+j =1\n",
            "i =0  j =2  i+j =2\n",
            "i =0  j =3  i+j =3\n",
            "end j loop\n",
            "now i = 1\n",
            "start j loop\n",
            "i =1  j =0  i+j =1\n",
            "i =1  j =1  i+j =2\n",
            "i =1  j =2  i+j =3\n",
            "i =1  j =3  i+j =4\n",
            "end j loop\n",
            "now i = 2\n",
            "start j loop\n",
            "i =2  j =0  i+j =2\n",
            "i =2  j =1  i+j =3\n",
            "i =2  j =2  i+j =4\n",
            "i =2  j =3  i+j =5\n",
            "end j loop\n"
          ],
          "name": "stdout"
        }
      ]
    },
    {
      "cell_type": "markdown",
      "metadata": {
        "id": "jq0jQJcTTvNT"
      },
      "source": [
        "\n",
        "# Condition (if statement)\n"
      ]
    },
    {
      "cell_type": "markdown",
      "metadata": {
        "id": "gZPQeeuKJtaW"
      },
      "source": [
        "``` python\n",
        "if เงื่อนไขที่จะตรวจสอบ\n",
        "    ถ้าเงื่อนไขเป็นจริง ทำงานที่ 1\n",
        "    ถ้าเงื่อนไขเป็นจริง ทำงานที่ 2\n",
        "\n",
        "```"
      ]
    },
    {
      "cell_type": "code",
      "metadata": {
        "colab": {
          "base_uri": "https://localhost:8080/"
        },
        "id": "0qokkR4AGUs8",
        "outputId": "0b03edc2-a677-45b3-8045-177ba94a5b16"
      },
      "source": [
        "stringx = 'abcdefghijasdasdasdsasadaklmnop'\n",
        "\n",
        "if len(stringx) > 30:\n",
        "    print(f'{stringx} is longer than 30 characters')"
      ],
      "execution_count": 72,
      "outputs": [
        {
          "output_type": "stream",
          "text": [
            "abcdefghijasdasdasdsasadaklmnop is longer than 30 characters\n"
          ],
          "name": "stdout"
        }
      ]
    },
    {
      "cell_type": "code",
      "metadata": {
        "id": "liwc4B_zHNkW"
      },
      "source": [
        "stringx = 'abcdefghijasdasdasdsasadaklmnop'\n",
        "\n",
        "if len(stringx) > 100:\n",
        "    print(f'{stringx} is longer than 30 characters')"
      ],
      "execution_count": 73,
      "outputs": []
    },
    {
      "cell_type": "markdown",
      "metadata": {
        "id": "jNorRMhTH77k"
      },
      "source": [
        "``` python\n",
        "if เงื่อนไขที่จะตรวจสอบ (โดยใช้สัญลักษณ์ ==,!=,<,>,<=,>=):\n",
        "    ถ้าเงื่อนไขเป็นจริง ทำงานที่ 1\n",
        "    ถ้าเงื่อนไขเป็นจริง ทำงานที่ 2\n",
        "else: #ตรวจสอบเงื่อนไขข้างบนแล้วไม่เป็นจริง\n",
        "    ทำงานที่ X \n",
        "```"
      ]
    },
    {
      "cell_type": "code",
      "metadata": {
        "colab": {
          "base_uri": "https://localhost:8080/"
        },
        "id": "nfAcrs2QIAMP",
        "outputId": "2d06a6bf-1e4b-4a39-a3a6-69a336740c94"
      },
      "source": [
        "stringx = 'abcdefghijasdasdasdsasadaklmnop'\n",
        "\n",
        "if len(stringx) > 100:\n",
        "    print(f'{stringx} is longer than 30 characters')\n",
        "else:\n",
        "    print(f'{stringx} in {len(stringx)} characters longer')"
      ],
      "execution_count": 74,
      "outputs": [
        {
          "output_type": "stream",
          "text": [
            "abcdefghijasdasdasdsasadaklmnop in 31 characters longer\n"
          ],
          "name": "stdout"
        }
      ]
    },
    {
      "cell_type": "markdown",
      "metadata": {
        "id": "CYu7q302JQJH"
      },
      "source": [
        "``` python\n",
        "if เงื่อนไขที่จะตรวจสอบ (โดยใช้สัญลักษณ์ ==,!=,<,>,<=,>=):\n",
        "    ถ้าเงื่อนไขเป็นจริง ทำงานที่ 1\n",
        "    ถ้าเงื่อนไขเป็นจริง ทำงานที่ 2\n",
        "elif: #เงื่อนไขที่จะตรวจสอบต่อไปถ้าเงื่อนไขข้างบนไม่เป็นจริง\n",
        "    ถ้าเงื่อนไขเป็นจริง ทำงานที่ a1\n",
        "    ถ้าเงื่อนไขเป็นจริง ทำงานที่ a2\n",
        "elif: #เงื่อนไขที่จะตรวจสอบต่อไปถ้าเงื่อนไขข้างบนไม่เป็นจริง\n",
        "    ถ้าเงื่อนไขเป็นจริง ทำงานที่ b1\n",
        "    ถ้าเงื่อนไขเป็นจริง ทำงานที่ b2\n",
        "else: #ตรวจสอบเงื่อนไขข้างบนแล้วไม่เป็นจริง\n",
        "    ทำงานที่ X \n",
        "```"
      ]
    },
    {
      "cell_type": "code",
      "metadata": {
        "colab": {
          "base_uri": "https://localhost:8080/"
        },
        "id": "GErbKFJaLEsf",
        "outputId": "d1ce032c-1741-470a-c84a-db3df70879a9"
      },
      "source": [
        "password = '12345'\n",
        "\n",
        "input_pass = '123'\n",
        "if input_pass == password:\n",
        "    print('Welcome !')\n",
        "elif len(input_pass) > len(password):\n",
        "    print('Too long, Try again!')\n",
        "elif len(input_pass) < len(password):\n",
        "    print('Too long, Try again!')\n",
        "else:\n",
        "    print('Wrong password, Try again!')"
      ],
      "execution_count": 76,
      "outputs": [
        {
          "output_type": "stream",
          "text": [
            "Too long, Try again!\n"
          ],
          "name": "stdout"
        }
      ]
    },
    {
      "cell_type": "markdown",
      "metadata": {
        "id": "JCG8VEa4K8wJ"
      },
      "source": [
        "Quiz 1 หา min"
      ]
    },
    {
      "cell_type": "code",
      "metadata": {
        "id": "5ci2GAh0NhJo"
      },
      "source": [
        "list_ex = [1,5,9,-19,-2,0] #หาค่าน้อยที่สุดใน list_ex โดยไม่ใช้ function min (commit ก่อน 10:30 :Quiz1)"
      ],
      "execution_count": 77,
      "outputs": []
    },
    {
      "cell_type": "code",
      "metadata": {
        "colab": {
          "base_uri": "https://localhost:8080/"
        },
        "id": "a3K6H1izO-Uz",
        "outputId": "0e2f6767-7d49-4210-df40-f44e49482ecc"
      },
      "source": [
        "list_ex = [1,5,9,-19,-2,0]\n",
        "pp = list_ex[0] \n",
        "i = 0\n",
        "for m in list_ex: \n",
        "    if(m<pp): \n",
        "        pp = m \n",
        "        imin = i \n",
        "    i += 1\n",
        "print(min(list_ex))"
      ],
      "execution_count": 82,
      "outputs": [
        {
          "output_type": "stream",
          "text": [
            "-19\n"
          ],
          "name": "stdout"
        }
      ]
    },
    {
      "cell_type": "markdown",
      "metadata": {
        "id": "7g8KKMCTLCB2"
      },
      "source": [
        "Quiz 2 ตัดเกรด"
      ]
    },
    {
      "cell_type": "code",
      "metadata": {
        "id": "taP5cgIzQnKr"
      },
      "source": [
        "score = [49,65,70,95,82,55,89,20,77,77,81,59,10] #ตัดเกรด คะแนนใน list score"
      ],
      "execution_count": null,
      "outputs": []
    },
    {
      "cell_type": "code",
      "metadata": {
        "id": "d9aANh3aQzJo"
      },
      "source": [
        ""
      ],
      "execution_count": null,
      "outputs": []
    },
    {
      "cell_type": "markdown",
      "metadata": {
        "id": "0T2C9Wm8GQNs"
      },
      "source": [
        "# Function"
      ]
    },
    {
      "cell_type": "code",
      "metadata": {
        "id": "OKnNGrpRGTt9"
      },
      "source": [
        ""
      ],
      "execution_count": null,
      "outputs": []
    }
  ]
}