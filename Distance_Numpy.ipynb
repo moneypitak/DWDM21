{
  "nbformat": 4,
  "nbformat_minor": 0,
  "metadata": {
    "colab": {
      "name": "Distance_Numpy.ipynb",
      "provenance": [],
      "authorship_tag": "ABX9TyPamputARHSwnG+E7EQjAiW",
      "include_colab_link": true
    },
    "kernelspec": {
      "name": "python3",
      "display_name": "Python 3"
    },
    "language_info": {
      "name": "python"
    }
  },
  "cells": [
    {
      "cell_type": "markdown",
      "metadata": {
        "id": "view-in-github",
        "colab_type": "text"
      },
      "source": [
        "<a href=\"https://colab.research.google.com/github/moneypitak/DWDM21/blob/main/Distance_Numpy.ipynb\" target=\"_parent\"><img src=\"https://colab.research.google.com/assets/colab-badge.svg\" alt=\"Open In Colab\"/></a>"
      ]
    },
    {
      "cell_type": "code",
      "metadata": {
        "id": "oIKsi-e_OvBR"
      },
      "source": [
        "import numpy as np"
      ],
      "execution_count": 1,
      "outputs": []
    },
    {
      "cell_type": "markdown",
      "metadata": {
        "id": "vbaW9173O4Ig"
      },
      "source": [
        "# Numpy\n",
        "\n",
        "   สร้าง Numpy Array"
      ]
    },
    {
      "cell_type": "code",
      "metadata": {
        "id": "kw_gp0-sPD7m"
      },
      "source": [
        "np_a = np.array([[1,2,3],[4,5,6]])  #สร้าง numpy array ที่มี 2 แถว 3 หลัก"
      ],
      "execution_count": 2,
      "outputs": []
    },
    {
      "cell_type": "code",
      "metadata": {
        "colab": {
          "base_uri": "https://localhost:8080/"
        },
        "id": "xO10EKbQPFMU",
        "outputId": "45e7e0d2-36de-41aa-ac8e-8b98fcb175da"
      },
      "source": [
        "np_a"
      ],
      "execution_count": 3,
      "outputs": [
        {
          "output_type": "execute_result",
          "data": {
            "text/plain": [
              "array([[1, 2, 3],\n",
              "       [4, 5, 6]])"
            ]
          },
          "metadata": {},
          "execution_count": 3
        }
      ]
    },
    {
      "cell_type": "code",
      "metadata": {
        "colab": {
          "base_uri": "https://localhost:8080/"
        },
        "id": "J9j3PC0QPGFE",
        "outputId": "92400f02-bf67-42a3-8b3d-291c92b90e2a"
      },
      "source": [
        "np_a.shape"
      ],
      "execution_count": 4,
      "outputs": [
        {
          "output_type": "execute_result",
          "data": {
            "text/plain": [
              "(2, 3)"
            ]
          },
          "metadata": {},
          "execution_count": 4
        }
      ]
    },
    {
      "cell_type": "code",
      "metadata": {
        "id": "P7L0UobDPG6l"
      },
      "source": [
        "np_b = np.array([[1,4],[2,5],[3,6]])"
      ],
      "execution_count": 5,
      "outputs": []
    },
    {
      "cell_type": "code",
      "metadata": {
        "colab": {
          "base_uri": "https://localhost:8080/"
        },
        "id": "cL_NSiXSPHvU",
        "outputId": "807ab671-9d5f-43ed-ad3c-dcbbbc92f104"
      },
      "source": [
        "np_b"
      ],
      "execution_count": 6,
      "outputs": [
        {
          "output_type": "execute_result",
          "data": {
            "text/plain": [
              "array([[1, 4],\n",
              "       [2, 5],\n",
              "       [3, 6]])"
            ]
          },
          "metadata": {},
          "execution_count": 6
        }
      ]
    },
    {
      "cell_type": "markdown",
      "metadata": {
        "id": "iLARH_qePMJ1"
      },
      "source": [
        "# matrix transpose"
      ]
    },
    {
      "cell_type": "code",
      "metadata": {
        "colab": {
          "base_uri": "https://localhost:8080/"
        },
        "id": "prN77O_QPNes",
        "outputId": "0ce78e5f-346c-47ee-9bda-562efd52ec00"
      },
      "source": [
        "np_a.T"
      ],
      "execution_count": 7,
      "outputs": [
        {
          "output_type": "execute_result",
          "data": {
            "text/plain": [
              "array([[1, 4],\n",
              "       [2, 5],\n",
              "       [3, 6]])"
            ]
          },
          "metadata": {},
          "execution_count": 7
        }
      ]
    },
    {
      "cell_type": "markdown",
      "metadata": {
        "id": "k5rdJuhkPOze"
      },
      "source": [
        "# สร้าง Matrix เริ่มต้น (Zeros,one)"
      ]
    },
    {
      "cell_type": "code",
      "metadata": {
        "id": "RJB9Vv3MPQsc"
      },
      "source": [
        "np_z = np.zeros((4,5))"
      ],
      "execution_count": 8,
      "outputs": []
    },
    {
      "cell_type": "code",
      "metadata": {
        "colab": {
          "base_uri": "https://localhost:8080/"
        },
        "id": "hMaEsRWzPSG9",
        "outputId": "968480f9-9115-4911-ce33-e6412b1d9ded"
      },
      "source": [
        "np_z"
      ],
      "execution_count": 9,
      "outputs": [
        {
          "output_type": "execute_result",
          "data": {
            "text/plain": [
              "array([[0., 0., 0., 0., 0.],\n",
              "       [0., 0., 0., 0., 0.],\n",
              "       [0., 0., 0., 0., 0.],\n",
              "       [0., 0., 0., 0., 0.]])"
            ]
          },
          "metadata": {},
          "execution_count": 9
        }
      ]
    },
    {
      "cell_type": "code",
      "metadata": {
        "colab": {
          "base_uri": "https://localhost:8080/"
        },
        "id": "oFpNosrdPTH1",
        "outputId": "700ef3c5-d383-4a21-bde7-9cef82365f54"
      },
      "source": [
        "np_o = np.ones((5,6))\n",
        "np_o"
      ],
      "execution_count": 10,
      "outputs": [
        {
          "output_type": "execute_result",
          "data": {
            "text/plain": [
              "array([[1., 1., 1., 1., 1., 1.],\n",
              "       [1., 1., 1., 1., 1., 1.],\n",
              "       [1., 1., 1., 1., 1., 1.],\n",
              "       [1., 1., 1., 1., 1., 1.],\n",
              "       [1., 1., 1., 1., 1., 1.]])"
            ]
          },
          "metadata": {},
          "execution_count": 10
        }
      ]
    },
    {
      "cell_type": "code",
      "metadata": {
        "colab": {
          "base_uri": "https://localhost:8080/"
        },
        "id": "Ydg7vCPTPUnl",
        "outputId": "c371143b-af2d-466c-e1df-c6f9f78e7f66"
      },
      "source": [
        "np_200 = 200 * np.ones((4,7))\n",
        "np_200"
      ],
      "execution_count": 11,
      "outputs": [
        {
          "output_type": "execute_result",
          "data": {
            "text/plain": [
              "array([[200., 200., 200., 200., 200., 200., 200.],\n",
              "       [200., 200., 200., 200., 200., 200., 200.],\n",
              "       [200., 200., 200., 200., 200., 200., 200.],\n",
              "       [200., 200., 200., 200., 200., 200., 200.]])"
            ]
          },
          "metadata": {},
          "execution_count": 11
        }
      ]
    },
    {
      "cell_type": "markdown",
      "metadata": {
        "id": "RDyWWMTuPVpW"
      },
      "source": [
        "# สร้าง matrix random"
      ]
    },
    {
      "cell_type": "code",
      "metadata": {
        "colab": {
          "base_uri": "https://localhost:8080/"
        },
        "id": "yRJiL_M4PXXn",
        "outputId": "2d158b99-df39-4b62-805c-97a2417acd0a"
      },
      "source": [
        "np_random = np.random.randn(5,5)\n",
        "np_random"
      ],
      "execution_count": 12,
      "outputs": [
        {
          "output_type": "execute_result",
          "data": {
            "text/plain": [
              "array([[ 1.2024326 ,  0.63182434, -2.65407278,  1.35170001,  0.0526945 ],\n",
              "       [-0.35341036, -1.7092851 , -0.41230283,  0.3320282 , -0.07854965],\n",
              "       [ 0.17366025, -1.33725925, -0.031915  , -0.32836088,  0.76970194],\n",
              "       [ 0.70949787, -0.5817975 , -1.60473384, -0.32397797,  0.85492172],\n",
              "       [-0.1466561 , -1.88115591, -2.12080897,  1.28038099, -1.76079641]])"
            ]
          },
          "metadata": {},
          "execution_count": 12
        }
      ]
    },
    {
      "cell_type": "code",
      "metadata": {
        "colab": {
          "base_uri": "https://localhost:8080/"
        },
        "id": "gMTdzegDPY6N",
        "outputId": "4e3d3843-c57b-4b82-ad59-f497bcf3ff5d"
      },
      "source": [
        "2 + (5*np.random.randn(3,3))"
      ],
      "execution_count": 13,
      "outputs": [
        {
          "output_type": "execute_result",
          "data": {
            "text/plain": [
              "array([[ 2.3258459 ,  8.76630364, -8.68093172],\n",
              "       [ 5.24995019, -3.81783751, -4.92043986],\n",
              "       [ 1.74649737, -4.37997296,  3.78840044]])"
            ]
          },
          "metadata": {},
          "execution_count": 13
        }
      ]
    },
    {
      "cell_type": "code",
      "metadata": {
        "colab": {
          "base_uri": "https://localhost:8080/"
        },
        "id": "e9_P33rZPbvk",
        "outputId": "c3473f75-091e-4489-d3fe-95e3eabfe1a2"
      },
      "source": [
        "np.random.randint(5,11,(4,5))"
      ],
      "execution_count": 14,
      "outputs": [
        {
          "output_type": "execute_result",
          "data": {
            "text/plain": [
              "array([[ 7,  9,  6,  7,  5],\n",
              "       [10,  6,  7,  9, 10],\n",
              "       [ 9, 10, 10, 10,  6],\n",
              "       [ 9,  8,  8, 10,  6]])"
            ]
          },
          "metadata": {},
          "execution_count": 14
        }
      ]
    },
    {
      "cell_type": "code",
      "metadata": {
        "colab": {
          "base_uri": "https://localhost:8080/"
        },
        "id": "hGqUvUM5PhSV",
        "outputId": "8319f0ba-e785-4fa2-b3c8-503e7bbc1675"
      },
      "source": [
        "np_a"
      ],
      "execution_count": 15,
      "outputs": [
        {
          "output_type": "execute_result",
          "data": {
            "text/plain": [
              "array([[1, 2, 3],\n",
              "       [4, 5, 6]])"
            ]
          },
          "metadata": {},
          "execution_count": 15
        }
      ]
    },
    {
      "cell_type": "code",
      "metadata": {
        "colab": {
          "base_uri": "https://localhost:8080/"
        },
        "id": "cBC4rD-pPiOt",
        "outputId": "50ae0570-1452-4406-8362-0870d3668112"
      },
      "source": [
        "np_a.T"
      ],
      "execution_count": 16,
      "outputs": [
        {
          "output_type": "execute_result",
          "data": {
            "text/plain": [
              "array([[1, 4],\n",
              "       [2, 5],\n",
              "       [3, 6]])"
            ]
          },
          "metadata": {},
          "execution_count": 16
        }
      ]
    },
    {
      "cell_type": "code",
      "metadata": {
        "colab": {
          "base_uri": "https://localhost:8080/"
        },
        "id": "NS9sCHgCPjI2",
        "outputId": "8d6a1387-7f9d-407d-c3d7-c3c69f896695"
      },
      "source": [
        "1 + np_a"
      ],
      "execution_count": 17,
      "outputs": [
        {
          "output_type": "execute_result",
          "data": {
            "text/plain": [
              "array([[2, 3, 4],\n",
              "       [5, 6, 7]])"
            ]
          },
          "metadata": {},
          "execution_count": 17
        }
      ]
    },
    {
      "cell_type": "code",
      "metadata": {
        "colab": {
          "base_uri": "https://localhost:8080/"
        },
        "id": "W5xF9Zb3PkE_",
        "outputId": "0b04245e-b462-46f1-b948-25d38949143e"
      },
      "source": [
        "2 * np_a"
      ],
      "execution_count": 18,
      "outputs": [
        {
          "output_type": "execute_result",
          "data": {
            "text/plain": [
              "array([[ 2,  4,  6],\n",
              "       [ 8, 10, 12]])"
            ]
          },
          "metadata": {},
          "execution_count": 18
        }
      ]
    },
    {
      "cell_type": "code",
      "metadata": {
        "colab": {
          "base_uri": "https://localhost:8080/"
        },
        "id": "siUzl6vUPlCT",
        "outputId": "81f011ce-a240-4cb0-aa52-5cfc79f0b899"
      },
      "source": [
        "np_c = np.array([[6,5,4],[3,2,1]])\n",
        "np_c"
      ],
      "execution_count": 19,
      "outputs": [
        {
          "output_type": "execute_result",
          "data": {
            "text/plain": [
              "array([[6, 5, 4],\n",
              "       [3, 2, 1]])"
            ]
          },
          "metadata": {},
          "execution_count": 19
        }
      ]
    },
    {
      "cell_type": "code",
      "metadata": {
        "colab": {
          "base_uri": "https://localhost:8080/"
        },
        "id": "BTckypvmPmPc",
        "outputId": "ba757ffd-8c78-4e6a-c5f5-97e2af293746"
      },
      "source": [
        "np_a + np_c"
      ],
      "execution_count": 20,
      "outputs": [
        {
          "output_type": "execute_result",
          "data": {
            "text/plain": [
              "array([[7, 7, 7],\n",
              "       [7, 7, 7]])"
            ]
          },
          "metadata": {},
          "execution_count": 20
        }
      ]
    },
    {
      "cell_type": "code",
      "metadata": {
        "colab": {
          "base_uri": "https://localhost:8080/"
        },
        "id": "Be-cSqZsPnOd",
        "outputId": "d3b70817-a01a-4aa9-e897-f88663c08b1a"
      },
      "source": [
        "np_a.shape"
      ],
      "execution_count": 21,
      "outputs": [
        {
          "output_type": "execute_result",
          "data": {
            "text/plain": [
              "(2, 3)"
            ]
          },
          "metadata": {},
          "execution_count": 21
        }
      ]
    },
    {
      "cell_type": "code",
      "metadata": {
        "colab": {
          "base_uri": "https://localhost:8080/"
        },
        "id": "jd_NpcH3PoBe",
        "outputId": "a7aaaffb-7416-483c-83a9-7d4e7918b3ec"
      },
      "source": [
        "np_c.shape"
      ],
      "execution_count": 22,
      "outputs": [
        {
          "output_type": "execute_result",
          "data": {
            "text/plain": [
              "(2, 3)"
            ]
          },
          "metadata": {},
          "execution_count": 22
        }
      ]
    },
    {
      "cell_type": "code",
      "metadata": {
        "colab": {
          "base_uri": "https://localhost:8080/"
        },
        "id": "lZY4fOEcPo32",
        "outputId": "74cd1f4e-b9f1-468b-b7a5-1cc12f1a4120"
      },
      "source": [
        "np_c.T.shape"
      ],
      "execution_count": 23,
      "outputs": [
        {
          "output_type": "execute_result",
          "data": {
            "text/plain": [
              "(3, 2)"
            ]
          },
          "metadata": {},
          "execution_count": 23
        }
      ]
    },
    {
      "cell_type": "code",
      "metadata": {
        "colab": {
          "base_uri": "https://localhost:8080/"
        },
        "id": "BPPXNWPPPqGF",
        "outputId": "64816bd7-1dc7-4b1a-ace1-3a8416c00f32"
      },
      "source": [
        "np.dot(np_a,np_c.T)\n"
      ],
      "execution_count": 24,
      "outputs": [
        {
          "output_type": "execute_result",
          "data": {
            "text/plain": [
              "array([[28, 10],\n",
              "       [73, 28]])"
            ]
          },
          "metadata": {},
          "execution_count": 24
        }
      ]
    },
    {
      "cell_type": "code",
      "metadata": {
        "colab": {
          "base_uri": "https://localhost:8080/"
        },
        "id": "bQY8-TLGPrfm",
        "outputId": "bd350f1c-0f04-49b2-86b1-08c5c0d70ed1"
      },
      "source": [
        "\n",
        "np_a"
      ],
      "execution_count": 25,
      "outputs": [
        {
          "output_type": "execute_result",
          "data": {
            "text/plain": [
              "array([[1, 2, 3],\n",
              "       [4, 5, 6]])"
            ]
          },
          "metadata": {},
          "execution_count": 25
        }
      ]
    },
    {
      "cell_type": "code",
      "metadata": {
        "colab": {
          "base_uri": "https://localhost:8080/"
        },
        "id": "JutEyQVKPsll",
        "outputId": "04bbdc76-62e7-4edf-d1d6-316d1af6563c"
      },
      "source": [
        "np_a[1,1]"
      ],
      "execution_count": 26,
      "outputs": [
        {
          "output_type": "execute_result",
          "data": {
            "text/plain": [
              "5"
            ]
          },
          "metadata": {},
          "execution_count": 26
        }
      ]
    },
    {
      "cell_type": "code",
      "metadata": {
        "colab": {
          "base_uri": "https://localhost:8080/"
        },
        "id": "PNAdlhJ6PuVt",
        "outputId": "bbc652fd-acff-4844-e790-e06f25300a3b"
      },
      "source": [
        "np_a[:2,:2]"
      ],
      "execution_count": 27,
      "outputs": [
        {
          "output_type": "execute_result",
          "data": {
            "text/plain": [
              "array([[1, 2],\n",
              "       [4, 5]])"
            ]
          },
          "metadata": {},
          "execution_count": 27
        }
      ]
    },
    {
      "cell_type": "code",
      "metadata": {
        "colab": {
          "base_uri": "https://localhost:8080/"
        },
        "id": "0TmQ-IXQP9W1",
        "outputId": "6170f0a7-8f00-4961-9410-1def3f63c57f"
      },
      "source": [
        "np_a[0,:]"
      ],
      "execution_count": 28,
      "outputs": [
        {
          "output_type": "execute_result",
          "data": {
            "text/plain": [
              "array([1, 2, 3])"
            ]
          },
          "metadata": {},
          "execution_count": 28
        }
      ]
    },
    {
      "cell_type": "code",
      "metadata": {
        "colab": {
          "base_uri": "https://localhost:8080/"
        },
        "id": "CXG_8uNsP-hY",
        "outputId": "d930229a-1223-4b83-beea-c361668ad413"
      },
      "source": [
        "np_a"
      ],
      "execution_count": 29,
      "outputs": [
        {
          "output_type": "execute_result",
          "data": {
            "text/plain": [
              "array([[1, 2, 3],\n",
              "       [4, 5, 6]])"
            ]
          },
          "metadata": {},
          "execution_count": 29
        }
      ]
    },
    {
      "cell_type": "code",
      "metadata": {
        "colab": {
          "base_uri": "https://localhost:8080/"
        },
        "id": "K4xgXR0mP_pM",
        "outputId": "23a6d7d4-59e8-4ff7-fac0-67f26266b5a7"
      },
      "source": [
        "np.sum(np_a)"
      ],
      "execution_count": 30,
      "outputs": [
        {
          "output_type": "execute_result",
          "data": {
            "text/plain": [
              "21"
            ]
          },
          "metadata": {},
          "execution_count": 30
        }
      ]
    },
    {
      "cell_type": "code",
      "metadata": {
        "colab": {
          "base_uri": "https://localhost:8080/"
        },
        "id": "8KjymMMrQC_8",
        "outputId": "75745cda-d83c-48ba-aab9-731b84d1207d"
      },
      "source": [
        "np.sum(np_a,axis=0)  # axis 0 ก็คือรวมเลขในแต่ละแถว"
      ],
      "execution_count": 31,
      "outputs": [
        {
          "output_type": "execute_result",
          "data": {
            "text/plain": [
              "array([5, 7, 9])"
            ]
          },
          "metadata": {},
          "execution_count": 31
        }
      ]
    },
    {
      "cell_type": "code",
      "metadata": {
        "colab": {
          "base_uri": "https://localhost:8080/"
        },
        "id": "vy59Mi_sQEGc",
        "outputId": "8289fc2d-8ab7-4b12-a86e-ab3b0f7a7d60"
      },
      "source": [
        "np.sum(np_a,axis=1)  # axis 1 ก็คือรวมเลขในแต่ละหลัก"
      ],
      "execution_count": 32,
      "outputs": [
        {
          "output_type": "execute_result",
          "data": {
            "text/plain": [
              "array([ 6, 15])"
            ]
          },
          "metadata": {},
          "execution_count": 32
        }
      ]
    },
    {
      "cell_type": "code",
      "metadata": {
        "colab": {
          "base_uri": "https://localhost:8080/"
        },
        "id": "5w4a3KE7QFCr",
        "outputId": "53672064-25f7-480b-869e-10e09737c833"
      },
      "source": [
        "np.mean(np_a)"
      ],
      "execution_count": 33,
      "outputs": [
        {
          "output_type": "execute_result",
          "data": {
            "text/plain": [
              "3.5"
            ]
          },
          "metadata": {},
          "execution_count": 33
        }
      ]
    },
    {
      "cell_type": "code",
      "metadata": {
        "colab": {
          "base_uri": "https://localhost:8080/"
        },
        "id": "VZbSNhg8QGFF",
        "outputId": "d3429850-b64d-4173-d02d-17dd935ffe9a"
      },
      "source": [
        "np.mean(np_a,axis=0)  #หา mean ของ column"
      ],
      "execution_count": 34,
      "outputs": [
        {
          "output_type": "execute_result",
          "data": {
            "text/plain": [
              "array([2.5, 3.5, 4.5])"
            ]
          },
          "metadata": {},
          "execution_count": 34
        }
      ]
    },
    {
      "cell_type": "code",
      "metadata": {
        "colab": {
          "base_uri": "https://localhost:8080/"
        },
        "id": "F5lSskD0QHrU",
        "outputId": "3e4439d9-3f9b-4cd8-a49b-81f7e89e4b6d"
      },
      "source": [
        "np_a.shape"
      ],
      "execution_count": 35,
      "outputs": [
        {
          "output_type": "execute_result",
          "data": {
            "text/plain": [
              "(2, 3)"
            ]
          },
          "metadata": {},
          "execution_count": 35
        }
      ]
    },
    {
      "cell_type": "code",
      "metadata": {
        "colab": {
          "base_uri": "https://localhost:8080/"
        },
        "id": "3wnSFN7NQJNL",
        "outputId": "3299329b-b236-4e33-ab34-74e86716b33a"
      },
      "source": [
        "sum_all = 0\n",
        "\n",
        "for row in range(np_a.shape[0]):\n",
        "    for col in range(np_a.shape[1]):\n",
        "        sum_all = sum_all + np_a[row,col]\n",
        "        print(f'we are at row={row},col={col} np_a[{row},{col}]={np_a[row,col]}  sum_all={sum_all}')\n",
        "print(sum_all)"
      ],
      "execution_count": 36,
      "outputs": [
        {
          "output_type": "stream",
          "name": "stdout",
          "text": [
            "we are at row=0,col=0 np_a[0,0]=1  sum_all=1\n",
            "we are at row=0,col=1 np_a[0,1]=2  sum_all=3\n",
            "we are at row=0,col=2 np_a[0,2]=3  sum_all=6\n",
            "we are at row=1,col=0 np_a[1,0]=4  sum_all=10\n",
            "we are at row=1,col=1 np_a[1,1]=5  sum_all=15\n",
            "we are at row=1,col=2 np_a[1,2]=6  sum_all=21\n",
            "21\n"
          ]
        }
      ]
    },
    {
      "cell_type": "code",
      "metadata": {
        "id": "l2qop9QXQKcE",
        "colab": {
          "base_uri": "https://localhost:8080/"
        },
        "outputId": "e2ddd592-e8a1-45a4-c1d6-48fbe8e1ab71"
      },
      "source": [
        "sum_all = np.zeros(np_a.shape[1])\n",
        "\n",
        "for row in range(np_a.shape[0]):\n",
        "    for col in range(np_a.shape[1]):\n",
        "        sum_all[col] = sum_all[col] + np_a[row,col]\n",
        "print(sum_all)"
      ],
      "execution_count": 37,
      "outputs": [
        {
          "output_type": "stream",
          "name": "stdout",
          "text": [
            "[5. 7. 9.]\n"
          ]
        }
      ]
    },
    {
      "cell_type": "markdown",
      "metadata": {
        "id": "c24-UYa7QShj"
      },
      "source": [
        "วากาเมะ ข้อ 9\n",
        "\n",
        "วนลูปหาค่า np.min(np.a,axis=0)"
      ]
    },
    {
      "cell_type": "code",
      "metadata": {
        "colab": {
          "base_uri": "https://localhost:8080/"
        },
        "id": "_7wjdQG0QL40",
        "outputId": "1e102500-c131-440d-ab6a-09a6a40fe10b"
      },
      "source": [
        "np.min(np_a,axis=0)"
      ],
      "execution_count": 38,
      "outputs": [
        {
          "output_type": "execute_result",
          "data": {
            "text/plain": [
              "array([1, 2, 3])"
            ]
          },
          "metadata": {},
          "execution_count": 38
        }
      ]
    },
    {
      "cell_type": "markdown",
      "metadata": {
        "id": "8sA-3veMzqha"
      },
      "source": [
        "# Distance Matrix"
      ]
    },
    {
      "cell_type": "code",
      "metadata": {
        "colab": {
          "base_uri": "https://localhost:8080/"
        },
        "id": "XfNhVr4azsuI",
        "outputId": "cb2808c0-4d57-42d2-8189-53cc3711bd6c"
      },
      "source": [
        "data1 = np.array([[1,2],[3,5],[2,0],[4,5]])\n",
        "data1"
      ],
      "execution_count": 51,
      "outputs": [
        {
          "output_type": "execute_result",
          "data": {
            "text/plain": [
              "array([[1, 2],\n",
              "       [3, 5],\n",
              "       [2, 0],\n",
              "       [4, 5]])"
            ]
          },
          "metadata": {},
          "execution_count": 51
        }
      ]
    },
    {
      "cell_type": "code",
      "metadata": {
        "colab": {
          "base_uri": "https://localhost:8080/",
          "height": 282
        },
        "id": "TPGD8vZTzuMq",
        "outputId": "a9c6c865-b021-4775-ec48-6dfeadeb5ff1"
      },
      "source": [
        "from matplotlib import pyplot as plt\n",
        "plt.scatter(data1[:,0],data1[:,1])"
      ],
      "execution_count": 52,
      "outputs": [
        {
          "output_type": "execute_result",
          "data": {
            "text/plain": [
              "<matplotlib.collections.PathCollection at 0x7faef8bd1f50>"
            ]
          },
          "metadata": {},
          "execution_count": 52
        },
        {
          "output_type": "display_data",
          "data": {
            "image/png": "[encoded data removed]",
            "text/plain": [
              "<Figure size 432x288 with 1 Axes>"
            ]
          },
          "metadata": {
            "needs_background": "light"
          }
        }
      ]
    },
    {
      "cell_type": "markdown",
      "metadata": {
        "id": "iZDEPfj40OUQ"
      },
      "source": [
        "Euclidean Distance (L2-norm)\n",
        "\n",
        "dist(P1,P2)"
      ]
    },
    {
      "cell_type": "code",
      "metadata": {
        "colab": {
          "base_uri": "https://localhost:8080/"
        },
        "id": "8umdLHSozvrF",
        "outputId": "61b72b7c-ef11-4b97-a4d4-2fdd4fe1c798"
      },
      "source": [
        "dist_p1_p2 = np.sqrt(np.power(data1[0,0]-data1[1,0],2) + np.power(data1[0,1]-data1[1,1],2))\n",
        "dist_p1_p2"
      ],
      "execution_count": 53,
      "outputs": [
        {
          "output_type": "execute_result",
          "data": {
            "text/plain": [
              "3.605551275463989"
            ]
          },
          "metadata": {},
          "execution_count": 53
        }
      ]
    },
    {
      "cell_type": "code",
      "metadata": {
        "colab": {
          "base_uri": "https://localhost:8080/"
        },
        "id": "Lo_EN5Mjzxgl",
        "outputId": "96ff85bf-7cc1-4801-f04b-9051033abc07"
      },
      "source": [
        "dist_p1_p2 = np.power(np.power(data1[0,0]-data1[1,0],2) + np.power(data1[0,1]-data1[1,1],2),0.5)\n",
        "dist_p1_p2"
      ],
      "execution_count": 54,
      "outputs": [
        {
          "output_type": "execute_result",
          "data": {
            "text/plain": [
              "3.605551275463989"
            ]
          },
          "metadata": {},
          "execution_count": 54
        }
      ]
    },
    {
      "cell_type": "markdown",
      "metadata": {
        "id": "vFC2sJJh0PsR"
      },
      "source": [
        "dist(P2,P4)"
      ]
    },
    {
      "cell_type": "code",
      "metadata": {
        "colab": {
          "base_uri": "https://localhost:8080/"
        },
        "id": "tA_6vjVjzyr5",
        "outputId": "3a5f0669-db84-4a28-c0d1-0224fdffb47b"
      },
      "source": [
        "dist_p2_p4 = np.sqrt(np.power(data1[1,0]-data1[3,0],2) + np.power(data1[1,1]-data1[3,1],2))\n",
        "dist_p2_p4"
      ],
      "execution_count": 55,
      "outputs": [
        {
          "output_type": "execute_result",
          "data": {
            "text/plain": [
              "1.0"
            ]
          },
          "metadata": {},
          "execution_count": 55
        }
      ]
    },
    {
      "cell_type": "markdown",
      "metadata": {
        "id": "9umpomWRz3G-"
      },
      "source": [
        "Distance function\n",
        "\n",
        "p1 = [x,y]\n",
        "\n",
        "dim = 2"
      ]
    },
    {
      "cell_type": "code",
      "metadata": {
        "id": "Fi3uMeUYz3nY"
      },
      "source": [
        "def dist_l2_2(p1,p2):\n",
        "    return np.sqrt(np.power(p1[0]-p2[0],2) + np.power(p1[1]-p2[1],2))"
      ],
      "execution_count": 56,
      "outputs": []
    },
    {
      "cell_type": "code",
      "metadata": {
        "colab": {
          "base_uri": "https://localhost:8080/"
        },
        "id": "Dyg3OoFiz50t",
        "outputId": "2cdb0030-1dd8-40e5-cefd-450f39b9d590"
      },
      "source": [
        "dist_l2_2(data1[0,:],data1[1,:])"
      ],
      "execution_count": 57,
      "outputs": [
        {
          "output_type": "execute_result",
          "data": {
            "text/plain": [
              "3.605551275463989"
            ]
          },
          "metadata": {},
          "execution_count": 57
        }
      ]
    },
    {
      "cell_type": "code",
      "metadata": {
        "colab": {
          "base_uri": "https://localhost:8080/"
        },
        "id": "8qr-T6X5z6pf",
        "outputId": "0b347cbf-ab91-4132-d4de-5ddc085859a0"
      },
      "source": [
        "dist_l2_2(data1[1,:],data1[3,:])"
      ],
      "execution_count": 58,
      "outputs": [
        {
          "output_type": "execute_result",
          "data": {
            "text/plain": [
              "1.0"
            ]
          },
          "metadata": {},
          "execution_count": 58
        }
      ]
    },
    {
      "cell_type": "markdown",
      "metadata": {
        "id": "E0jXkEREz80s"
      },
      "source": [
        "1.0\n",
        "\n",
        "dim = n"
      ]
    },
    {
      "cell_type": "code",
      "metadata": {
        "id": "dPR5lQ3s0Bj7"
      },
      "source": [
        "def dist_l2_n(p1,p2):\n",
        "    sum = 0\n",
        "    for i in range(len(p1)):\n",
        "        sum = sum + np.power(p1[i]-p2[i],2)\n",
        "    return np.sqrt(sum)"
      ],
      "execution_count": 59,
      "outputs": []
    },
    {
      "cell_type": "code",
      "metadata": {
        "colab": {
          "base_uri": "https://localhost:8080/"
        },
        "id": "T96iC86A0C_T",
        "outputId": "e06fd0ed-da04-4c9c-a4fe-f6bb14ddfae3"
      },
      "source": [
        "dist_l2_n(data1[0,:],data1[1,:])"
      ],
      "execution_count": 60,
      "outputs": [
        {
          "output_type": "execute_result",
          "data": {
            "text/plain": [
              "3.605551275463989"
            ]
          },
          "metadata": {},
          "execution_count": 60
        }
      ]
    },
    {
      "cell_type": "markdown",
      "metadata": {
        "id": "EvmGtSkz0EWn"
      },
      "source": [
        "Manhattan Distance (L1-norm)"
      ]
    },
    {
      "cell_type": "markdown",
      "metadata": {
        "id": "t9DvoD7J0GIr"
      },
      "source": [
        "## quiz6\n",
        "\n",
        "เขียน function คำนวณ manhattan distance ของ ข้อมูล 2 dimensions"
      ]
    },
    {
      "cell_type": "code",
      "metadata": {
        "id": "PfsnrTh50FR8"
      },
      "source": [
        "def dist_l2_q(p1,p2):\n",
        "   return np.abs((p1[1] - p2[1])) + np.abs((p1[1] - p2[0]))"
      ],
      "execution_count": 63,
      "outputs": []
    },
    {
      "cell_type": "code",
      "metadata": {
        "colab": {
          "base_uri": "https://localhost:8080/"
        },
        "id": "0R6Lqq5Q0Jod",
        "outputId": "fc3c8d5c-40c8-4a27-8ea7-90374b1c997e"
      },
      "source": [
        "\n",
        "dist_l2_q(data1[0,:],data1[1,:])"
      ],
      "execution_count": 64,
      "outputs": [
        {
          "output_type": "execute_result",
          "data": {
            "text/plain": [
              "4"
            ]
          },
          "metadata": {},
          "execution_count": 64
        }
      ]
    },
    {
      "cell_type": "markdown",
      "metadata": {
        "id": "SSg8Ta8yWrz2"
      },
      "source": [
        "# HW11\n",
        "\n",
        "Function คำนวณ manhattan distance ของ ข้อมูล N dimensions\n",
        "\n",
        "Function คำนวณ L-$\\infty$ ของ ข้อมูล N dimensions\n",
        "\n",
        "Function คำนวณ Distance Matrix ด้วย Euclidean Distance"
      ]
    },
    {
      "cell_type": "code",
      "metadata": {
        "id": "StZvAnsMWt70"
      },
      "source": [
        "#Question 1\n",
        "def dist_l2_q(p1,p2):\n",
        "    sum = 0\n",
        "    for i in range(len(p1)):\n",
        "        sum =  sum + np.abs(p1[i] - p2[i]) \n",
        "    return np.abs(sum)"
      ],
      "execution_count": 65,
      "outputs": []
    },
    {
      "cell_type": "code",
      "metadata": {
        "colab": {
          "base_uri": "https://localhost:8080/"
        },
        "id": "Tyf1HNhWWwS_",
        "outputId": "4461855a-dccd-4fdd-ae48-b2ece04b853a"
      },
      "source": [
        "dist_l2_q(data1[0,:],data1[1,:])"
      ],
      "execution_count": 66,
      "outputs": [
        {
          "output_type": "execute_result",
          "data": {
            "text/plain": [
              "5"
            ]
          },
          "metadata": {},
          "execution_count": 66
        }
      ]
    }
  ]
}