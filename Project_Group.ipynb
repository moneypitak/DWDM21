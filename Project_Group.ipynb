{
  "nbformat": 4,
  "nbformat_minor": 0,
  "metadata": {
    "colab": {
      "name": "Project Group.ipynb",
      "provenance": [],
      "authorship_tag": "ABX9TyOZ7vlZnBs6cCTnoJd/+EhQ",
      "include_colab_link": true
    },
    "kernelspec": {
      "name": "python3",
      "display_name": "Python 3"
    },
    "language_info": {
      "name": "python"
    }
  },
  "cells": [
    {
      "cell_type": "markdown",
      "metadata": {
        "id": "view-in-github",
        "colab_type": "text"
      },
      "source": [
        "<a href=\"https://colab.research.google.com/github/moneypitak/DWDM21/blob/main/Project_Group.ipynb\" target=\"_parent\"><img src=\"https://colab.research.google.com/assets/colab-badge.svg\" alt=\"Open In Colab\"/></a>"
      ]
    },
    {
      "cell_type": "markdown",
      "metadata": {
        "id": "xgo3X65TdSbk"
      },
      "source": [
        "# กลุ่ม วากาเมะ\n",
        "\n",
        "# ปัญหา : ต้องการพยากรณ์ว่าใช้ประเภทของระบบกำจัดของเสียประเภทใดมีการใช้มากที่สุด\n",
        "\n",
        "# ใช้ข้อมูลทั้งหมด 3 ชุด\n",
        "\n",
        "\n",
        "1.   ข้อมูลระบบกำจัดของเสีย อ้างอิงจาก : https://data.go.th/\n",
        "2.   ข้อมูลค่าเฉลี่ยประชากร อ้างอิงจาก : https://data.go.th/\n",
        "3.   ข้อมูลรายได้ประชากร อ้างอิงจาก : https://data.go.th/\n",
        "\n",
        "ไฟล์ที่ใช้ทั้งหมด https://drive.google.com/drive/u/1/folders/1nETPdrCX90tF_F-4eNZQIacxdAMNrqUQ\n",
        "\n",
        "\n",
        "\n",
        "\n",
        "\n",
        "\n"
      ]
    },
    {
      "cell_type": "code",
      "metadata": {
        "id": "VRaIbtL4cs3D"
      },
      "source": [
        "import pandas as pd #ทำงานกับข้อมูลลักษณะตาราง"
      ],
      "execution_count": null,
      "outputs": []
    },
    {
      "cell_type": "code",
      "metadata": {
        "colab": {
          "base_uri": "https://localhost:8080/"
        },
        "id": "zougLy8XdzSq",
        "outputId": "807d5313-a394-45d5-9b6e-82183c635344"
      },
      "source": [
        "from google.colab import drive #เชื่อม Google drive\n",
        "drive.mount('/content/drive')"
      ],
      "execution_count": null,
      "outputs": [
        {
          "output_type": "stream",
          "name": "stdout",
          "text": [
            "Drive already mounted at /content/drive; to attempt to forcibly remount, call drive.mount(\"/content/drive\", force_remount=True).\n"
          ]
        }
      ]
    },
    {
      "cell_type": "code",
      "metadata": {
        "id": "T0OiVI8kd0ja"
      },
      "source": [
        "import os # os ไว้จัดการไฟล์และพาท พาทคือที่อยู่ของไฟล์"
      ],
      "execution_count": null,
      "outputs": []
    },
    {
      "cell_type": "code",
      "metadata": {
        "id": "B8ioHwtYd14y",
        "colab": {
          "base_uri": "https://localhost:8080/",
          "height": 404
        },
        "outputId": "5bb9f67a-8b3f-4423-fd12-07ea18b710dc"
      },
      "source": [
        "path = '/content/drive/DWDM2021_DATA' #ชื่อ path ชี้ไปไฟล์ที่เราต้องการ\n",
        "data_BB = pd.read_csv(os.path.join(path,'บำบัดของเสีย1.csv'))\n",
        "data_BB #ข้อมูลหลักชุดที่ 1"
      ],
      "execution_count": 297,
      "outputs": [
        {
          "output_type": "error",
          "ename": "FileNotFoundError",
          "evalue": "ignored",
          "traceback": [
            "\u001b[0;31m---------------------------------------------------------------------------\u001b[0m",
            "\u001b[0;31mFileNotFoundError\u001b[0m                         Traceback (most recent call last)",
            "\u001b[0;32m<ipython-input-297-da80d4727940>\u001b[0m in \u001b[0;36m<module>\u001b[0;34m()\u001b[0m\n\u001b[1;32m      1\u001b[0m \u001b[0mpath\u001b[0m \u001b[0;34m=\u001b[0m \u001b[0;34m'/content/drive/DWDM2021_DATA'\u001b[0m \u001b[0;31m#ชื่อ path ชี้ไปไฟล์ที่เราต้องการ\u001b[0m\u001b[0;34m\u001b[0m\u001b[0;34m\u001b[0m\u001b[0m\n\u001b[0;32m----> 2\u001b[0;31m \u001b[0mdata_BB\u001b[0m \u001b[0;34m=\u001b[0m \u001b[0mpd\u001b[0m\u001b[0;34m.\u001b[0m\u001b[0mread_csv\u001b[0m\u001b[0;34m(\u001b[0m\u001b[0mos\u001b[0m\u001b[0;34m.\u001b[0m\u001b[0mpath\u001b[0m\u001b[0;34m.\u001b[0m\u001b[0mjoin\u001b[0m\u001b[0;34m(\u001b[0m\u001b[0mpath\u001b[0m\u001b[0;34m,\u001b[0m\u001b[0;34m'บำบัดของเสีย1.csv'\u001b[0m\u001b[0;34m)\u001b[0m\u001b[0;34m)\u001b[0m\u001b[0;34m\u001b[0m\u001b[0;34m\u001b[0m\u001b[0m\n\u001b[0m\u001b[1;32m      3\u001b[0m \u001b[0mdata_BB\u001b[0m \u001b[0;31m#ข้อมูลหลักชุดที่ 1\u001b[0m\u001b[0;34m\u001b[0m\u001b[0;34m\u001b[0m\u001b[0m\n",
            "\u001b[0;32m/usr/local/lib/python3.7/dist-packages/pandas/io/parsers.py\u001b[0m in \u001b[0;36mread_csv\u001b[0;34m(filepath_or_buffer, sep, delimiter, header, names, index_col, usecols, squeeze, prefix, mangle_dupe_cols, dtype, engine, converters, true_values, false_values, skipinitialspace, skiprows, skipfooter, nrows, na_values, keep_default_na, na_filter, verbose, skip_blank_lines, parse_dates, infer_datetime_format, keep_date_col, date_parser, dayfirst, cache_dates, iterator, chunksize, compression, thousands, decimal, lineterminator, quotechar, quoting, doublequote, escapechar, comment, encoding, dialect, error_bad_lines, warn_bad_lines, delim_whitespace, low_memory, memory_map, float_precision)\u001b[0m\n\u001b[1;32m    686\u001b[0m     )\n\u001b[1;32m    687\u001b[0m \u001b[0;34m\u001b[0m\u001b[0m\n\u001b[0;32m--> 688\u001b[0;31m     \u001b[0;32mreturn\u001b[0m \u001b[0m_read\u001b[0m\u001b[0;34m(\u001b[0m\u001b[0mfilepath_or_buffer\u001b[0m\u001b[0;34m,\u001b[0m \u001b[0mkwds\u001b[0m\u001b[0;34m)\u001b[0m\u001b[0;34m\u001b[0m\u001b[0;34m\u001b[0m\u001b[0m\n\u001b[0m\u001b[1;32m    689\u001b[0m \u001b[0;34m\u001b[0m\u001b[0m\n\u001b[1;32m    690\u001b[0m \u001b[0;34m\u001b[0m\u001b[0m\n",
            "\u001b[0;32m/usr/local/lib/python3.7/dist-packages/pandas/io/parsers.py\u001b[0m in \u001b[0;36m_read\u001b[0;34m(filepath_or_buffer, kwds)\u001b[0m\n\u001b[1;32m    452\u001b[0m \u001b[0;34m\u001b[0m\u001b[0m\n\u001b[1;32m    453\u001b[0m     \u001b[0;31m# Create the parser.\u001b[0m\u001b[0;34m\u001b[0m\u001b[0;34m\u001b[0m\u001b[0;34m\u001b[0m\u001b[0m\n\u001b[0;32m--> 454\u001b[0;31m     \u001b[0mparser\u001b[0m \u001b[0;34m=\u001b[0m \u001b[0mTextFileReader\u001b[0m\u001b[0;34m(\u001b[0m\u001b[0mfp_or_buf\u001b[0m\u001b[0;34m,\u001b[0m \u001b[0;34m**\u001b[0m\u001b[0mkwds\u001b[0m\u001b[0;34m)\u001b[0m\u001b[0;34m\u001b[0m\u001b[0;34m\u001b[0m\u001b[0m\n\u001b[0m\u001b[1;32m    455\u001b[0m \u001b[0;34m\u001b[0m\u001b[0m\n\u001b[1;32m    456\u001b[0m     \u001b[0;32mif\u001b[0m \u001b[0mchunksize\u001b[0m \u001b[0;32mor\u001b[0m \u001b[0miterator\u001b[0m\u001b[0;34m:\u001b[0m\u001b[0;34m\u001b[0m\u001b[0;34m\u001b[0m\u001b[0m\n",
            "\u001b[0;32m/usr/local/lib/python3.7/dist-packages/pandas/io/parsers.py\u001b[0m in \u001b[0;36m__init__\u001b[0;34m(self, f, engine, **kwds)\u001b[0m\n\u001b[1;32m    946\u001b[0m             \u001b[0mself\u001b[0m\u001b[0;34m.\u001b[0m\u001b[0moptions\u001b[0m\u001b[0;34m[\u001b[0m\u001b[0;34m\"has_index_names\"\u001b[0m\u001b[0;34m]\u001b[0m \u001b[0;34m=\u001b[0m \u001b[0mkwds\u001b[0m\u001b[0;34m[\u001b[0m\u001b[0;34m\"has_index_names\"\u001b[0m\u001b[0;34m]\u001b[0m\u001b[0;34m\u001b[0m\u001b[0;34m\u001b[0m\u001b[0m\n\u001b[1;32m    947\u001b[0m \u001b[0;34m\u001b[0m\u001b[0m\n\u001b[0;32m--> 948\u001b[0;31m         \u001b[0mself\u001b[0m\u001b[0;34m.\u001b[0m\u001b[0m_make_engine\u001b[0m\u001b[0;34m(\u001b[0m\u001b[0mself\u001b[0m\u001b[0;34m.\u001b[0m\u001b[0mengine\u001b[0m\u001b[0;34m)\u001b[0m\u001b[0;34m\u001b[0m\u001b[0;34m\u001b[0m\u001b[0m\n\u001b[0m\u001b[1;32m    949\u001b[0m \u001b[0;34m\u001b[0m\u001b[0m\n\u001b[1;32m    950\u001b[0m     \u001b[0;32mdef\u001b[0m \u001b[0mclose\u001b[0m\u001b[0;34m(\u001b[0m\u001b[0mself\u001b[0m\u001b[0;34m)\u001b[0m\u001b[0;34m:\u001b[0m\u001b[0;34m\u001b[0m\u001b[0;34m\u001b[0m\u001b[0m\n",
            "\u001b[0;32m/usr/local/lib/python3.7/dist-packages/pandas/io/parsers.py\u001b[0m in \u001b[0;36m_make_engine\u001b[0;34m(self, engine)\u001b[0m\n\u001b[1;32m   1178\u001b[0m     \u001b[0;32mdef\u001b[0m \u001b[0m_make_engine\u001b[0m\u001b[0;34m(\u001b[0m\u001b[0mself\u001b[0m\u001b[0;34m,\u001b[0m \u001b[0mengine\u001b[0m\u001b[0;34m=\u001b[0m\u001b[0;34m\"c\"\u001b[0m\u001b[0;34m)\u001b[0m\u001b[0;34m:\u001b[0m\u001b[0;34m\u001b[0m\u001b[0;34m\u001b[0m\u001b[0m\n\u001b[1;32m   1179\u001b[0m         \u001b[0;32mif\u001b[0m \u001b[0mengine\u001b[0m \u001b[0;34m==\u001b[0m \u001b[0;34m\"c\"\u001b[0m\u001b[0;34m:\u001b[0m\u001b[0;34m\u001b[0m\u001b[0;34m\u001b[0m\u001b[0m\n\u001b[0;32m-> 1180\u001b[0;31m             \u001b[0mself\u001b[0m\u001b[0;34m.\u001b[0m\u001b[0m_engine\u001b[0m \u001b[0;34m=\u001b[0m \u001b[0mCParserWrapper\u001b[0m\u001b[0;34m(\u001b[0m\u001b[0mself\u001b[0m\u001b[0;34m.\u001b[0m\u001b[0mf\u001b[0m\u001b[0;34m,\u001b[0m \u001b[0;34m**\u001b[0m\u001b[0mself\u001b[0m\u001b[0;34m.\u001b[0m\u001b[0moptions\u001b[0m\u001b[0;34m)\u001b[0m\u001b[0;34m\u001b[0m\u001b[0;34m\u001b[0m\u001b[0m\n\u001b[0m\u001b[1;32m   1181\u001b[0m         \u001b[0;32melse\u001b[0m\u001b[0;34m:\u001b[0m\u001b[0;34m\u001b[0m\u001b[0;34m\u001b[0m\u001b[0m\n\u001b[1;32m   1182\u001b[0m             \u001b[0;32mif\u001b[0m \u001b[0mengine\u001b[0m \u001b[0;34m==\u001b[0m \u001b[0;34m\"python\"\u001b[0m\u001b[0;34m:\u001b[0m\u001b[0;34m\u001b[0m\u001b[0;34m\u001b[0m\u001b[0m\n",
            "\u001b[0;32m/usr/local/lib/python3.7/dist-packages/pandas/io/parsers.py\u001b[0m in \u001b[0;36m__init__\u001b[0;34m(self, src, **kwds)\u001b[0m\n\u001b[1;32m   2008\u001b[0m         \u001b[0mkwds\u001b[0m\u001b[0;34m[\u001b[0m\u001b[0;34m\"usecols\"\u001b[0m\u001b[0;34m]\u001b[0m \u001b[0;34m=\u001b[0m \u001b[0mself\u001b[0m\u001b[0;34m.\u001b[0m\u001b[0musecols\u001b[0m\u001b[0;34m\u001b[0m\u001b[0;34m\u001b[0m\u001b[0m\n\u001b[1;32m   2009\u001b[0m \u001b[0;34m\u001b[0m\u001b[0m\n\u001b[0;32m-> 2010\u001b[0;31m         \u001b[0mself\u001b[0m\u001b[0;34m.\u001b[0m\u001b[0m_reader\u001b[0m \u001b[0;34m=\u001b[0m \u001b[0mparsers\u001b[0m\u001b[0;34m.\u001b[0m\u001b[0mTextReader\u001b[0m\u001b[0;34m(\u001b[0m\u001b[0msrc\u001b[0m\u001b[0;34m,\u001b[0m \u001b[0;34m**\u001b[0m\u001b[0mkwds\u001b[0m\u001b[0;34m)\u001b[0m\u001b[0;34m\u001b[0m\u001b[0;34m\u001b[0m\u001b[0m\n\u001b[0m\u001b[1;32m   2011\u001b[0m         \u001b[0mself\u001b[0m\u001b[0;34m.\u001b[0m\u001b[0munnamed_cols\u001b[0m \u001b[0;34m=\u001b[0m \u001b[0mself\u001b[0m\u001b[0;34m.\u001b[0m\u001b[0m_reader\u001b[0m\u001b[0;34m.\u001b[0m\u001b[0munnamed_cols\u001b[0m\u001b[0;34m\u001b[0m\u001b[0;34m\u001b[0m\u001b[0m\n\u001b[1;32m   2012\u001b[0m \u001b[0;34m\u001b[0m\u001b[0m\n",
            "\u001b[0;32mpandas/_libs/parsers.pyx\u001b[0m in \u001b[0;36mpandas._libs.parsers.TextReader.__cinit__\u001b[0;34m()\u001b[0m\n",
            "\u001b[0;32mpandas/_libs/parsers.pyx\u001b[0m in \u001b[0;36mpandas._libs.parsers.TextReader._setup_parser_source\u001b[0;34m()\u001b[0m\n",
            "\u001b[0;31mFileNotFoundError\u001b[0m: [Errno 2] No such file or directory: '/content/drive/DWDM2021_DATA/บำบัดของเสีย1.csv'"
          ]
        }
      ]
    },
    {
      "cell_type": "code",
      "metadata": {
        "id": "QCZGaWN_d-VS"
      },
      "source": [
        "data_PP = pd.read_csv(os.path.join(path,'ค่าเฉลี่ยประชากร.csv'))\n",
        "data_PP.dropna() #ข้อมูลรองชุดที่ 2"
      ],
      "execution_count": null,
      "outputs": []
    },
    {
      "cell_type": "code",
      "metadata": {
        "id": "LTH-m6Sbd_ou"
      },
      "source": [
        "data_PC = pd.read_csv(os.path.join(path,'รายได้เฉลี่ย.csv'))\n",
        "data_PC.dropna() #ข้อมูลรองชุดที่ 3"
      ],
      "execution_count": null,
      "outputs": []
    },
    {
      "cell_type": "markdown",
      "metadata": {
        "id": "zqQmUbjAeBL7"
      },
      "source": [
        "# ดูว่าข้อมูลมี data missing"
      ]
    },
    {
      "cell_type": "code",
      "metadata": {
        "id": "VH76DHtceClz"
      },
      "source": [
        "data_BB.isnull() #ดูว่าข้อมูลนั้นมี Missing หรือไม่"
      ],
      "execution_count": null,
      "outputs": []
    },
    {
      "cell_type": "code",
      "metadata": {
        "id": "eOZLWxh4eDr0"
      },
      "source": [
        "data_PP.isnull() #ดูว่าข้อมูลนั้นมี Missing หรือไม่"
      ],
      "execution_count": null,
      "outputs": []
    },
    {
      "cell_type": "code",
      "metadata": {
        "id": "-JoLZDqMeE5r"
      },
      "source": [
        "data_PC.isnull() #ดูว่าข้อมูลนั้นมี Missing หรือไม่"
      ],
      "execution_count": null,
      "outputs": []
    },
    {
      "cell_type": "markdown",
      "metadata": {
        "id": "NZKg6wQNeRXk"
      },
      "source": [
        "# สรุปข้อมูลเป็นรายคอลลัมม์ว่ามี missing"
      ]
    },
    {
      "cell_type": "code",
      "metadata": {
        "id": "fmWzvLveeSwC"
      },
      "source": [
        "data_BB.isnull().any() #any สรุปข้อมูลเป็นรายคอลลัมม์ว่ามี missing ไหม"
      ],
      "execution_count": null,
      "outputs": []
    },
    {
      "cell_type": "code",
      "metadata": {
        "id": "D5v-pHUaeXiq"
      },
      "source": [
        "data_PP.isnull().any() #any สรุปข้อมูลเป็นรายคอลลัมม์ว่ามี missing ไหม"
      ],
      "execution_count": null,
      "outputs": []
    },
    {
      "cell_type": "code",
      "metadata": {
        "id": "wG5QGi46eYta"
      },
      "source": [
        "data_PC.isnull().any() #any สรุปข้อมูลเป็นรายคอลลัมม์ว่ามี missing ไหม"
      ],
      "execution_count": null,
      "outputs": []
    },
    {
      "cell_type": "markdown",
      "metadata": {
        "id": "hPtNj7NkeaG7"
      },
      "source": [
        "จากการตรวจสอบค่า missing value ของทั้ง 3 ชุดข้อมูลพบว่ามีค่าเป็น Ture อยู่ 3 colum ในข้อมูลชุดที่ 1 คือ พ.ศ. ที่เปิดใช้งาน และ ปริมาณน้ำเสียที่รองรับได้ (ลบ.ม/วัน)"
      ]
    },
    {
      "cell_type": "markdown",
      "metadata": {
        "id": "TVq4J4fBedus"
      },
      "source": [
        "# Drop missing value\n",
        "\n",
        "เป็นการลบข้อมูลที่มีค่า missing ออกไปจากตาราง"
      ]
    },
    {
      "cell_type": "code",
      "metadata": {
        "id": "4AY5bEbdec3S"
      },
      "source": [
        "data_BB = data_BB.dropna()\n",
        "data_BB"
      ],
      "execution_count": null,
      "outputs": []
    },
    {
      "cell_type": "markdown",
      "metadata": {
        "id": "lnvHcAjfeiHq"
      },
      "source": [
        "# ตรวสจสอบเมื่อลบออกไปแล้วตรวจสอบว่ายังไม่ข้อมูลที่หายไปหรือไม่"
      ]
    },
    {
      "cell_type": "code",
      "metadata": {
        "id": "kMmegPC8ej0s"
      },
      "source": [
        "data_BB.isnull().any()"
      ],
      "execution_count": null,
      "outputs": []
    },
    {
      "cell_type": "markdown",
      "metadata": {
        "id": "N5qqbJ7kelU7"
      },
      "source": [
        "# Percent of missing data from dropna\n",
        "\n",
        "เป็นการตรวจสอบว่าเมื่อลบข้อมูลทิ้งไปแล้วเราสูญเสียข้อมูลไปกี่เปอร์เซ็นต์"
      ]
    },
    {
      "cell_type": "code",
      "metadata": {
        "id": "Ue46ecS_eorT"
      },
      "source": [
        "before = 94\n",
        "after = 85\n",
        "print(f'before = {before} \\nafter = {after}\\nwhich is {100*((before-after)/before)}')"
      ],
      "execution_count": null,
      "outputs": []
    },
    {
      "cell_type": "markdown",
      "metadata": {
        "id": "rNvb1btoeq5c"
      },
      "source": [
        "จะเห็นได้ว่าค่าของข้อมูลที่สูญหายไปคิดเป็น 9.574468085106384 %\n",
        "\n"
      ]
    },
    {
      "cell_type": "markdown",
      "metadata": {
        "id": "BDdclKAnesnL"
      },
      "source": [
        "# รวมตาราง"
      ]
    },
    {
      "cell_type": "code",
      "metadata": {
        "id": "wfIIx-tQet-r"
      },
      "source": [
        "table = pd.merge(data_BB,data_PP,on='จังหวัด') #รวมตารางข้อมูลชุดที่ 1 และ 2\n",
        "table"
      ],
      "execution_count": null,
      "outputs": []
    },
    {
      "cell_type": "code",
      "metadata": {
        "id": "BCSzYQDhex0a"
      },
      "source": [
        "table_3 = pd.merge(table,data_PC,on='จังหวัด') #รวมตารางข้อมูลชุดที่ 1 และ 2 และ 3\n",
        "table_3"
      ],
      "execution_count": null,
      "outputs": []
    },
    {
      "cell_type": "code",
      "metadata": {
        "id": "3GxqfEuwe1ET"
      },
      "source": [
        "table_3.isnull().any()"
      ],
      "execution_count": null,
      "outputs": []
    },
    {
      "cell_type": "code",
      "metadata": {
        "id": "rAQng-dve3ni"
      },
      "source": [
        "table_3.shape #ตาราง table_3 มี 77 แถว 33 colum"
      ],
      "execution_count": null,
      "outputs": []
    },
    {
      "cell_type": "code",
      "metadata": {
        "id": "GqzKFQHEe4k7"
      },
      "source": [
        "table_3.mean() #ตวจสอบค่าเฉลี่ยของแต่ละบริษัท"
      ],
      "execution_count": null,
      "outputs": []
    },
    {
      "cell_type": "markdown",
      "metadata": {
        "id": "vl8AhIECe6Sj"
      },
      "source": [
        "# ตรวจสอบดูการลบข้อมูลที่ซ้ำกัน"
      ]
    },
    {
      "cell_type": "code",
      "metadata": {
        "id": "cvgpD_5-e5uK"
      },
      "source": [
        "table_3_un = table_3.drop_duplicates()\n",
        "table_3_un"
      ],
      "execution_count": null,
      "outputs": []
    },
    {
      "cell_type": "markdown",
      "metadata": {
        "id": "qb8hX489e9n0"
      },
      "source": [
        "จากการตรวจสอบข้อมูลที่ซ้ำ ของ table พบว่าไม่มีค่าข้อมูลที่ซ้ำกัน"
      ]
    },
    {
      "cell_type": "markdown",
      "metadata": {
        "id": "R4w8S1a4fBbC"
      },
      "source": [
        "# Data Mining\n",
        "\n",
        "# สร้างตารางที่ใช้ในการดู challenge"
      ]
    },
    {
      "cell_type": "code",
      "metadata": {
        "id": "aE3seJ6YfC-K"
      },
      "source": [
        "data = table_3[['จังหวัด','ประเภทของระบบ','ผลเฉลี่ย','รวมเฉลี่ย']]\n",
        "data\n"
      ],
      "execution_count": null,
      "outputs": []
    },
    {
      "cell_type": "code",
      "metadata": {
        "id": "uKYEiT6MfFai"
      },
      "source": [
        "data.shape #ข้อมูลนี้มี 74 แถว 3 คอลัม"
      ],
      "execution_count": null,
      "outputs": []
    },
    {
      "cell_type": "code",
      "metadata": {
        "id": "iR3WSeLAfGaq"
      },
      "source": [
        "data.isnull().any() #ตรวจสอบว่าตารางมีค่าว่างหรือไม่ จะเห็นว่าไม่คอลัมน์ที่มีค่าว่าง"
      ],
      "execution_count": null,
      "outputs": []
    },
    {
      "cell_type": "markdown",
      "metadata": {
        "id": "nbuq15hIfHn6"
      },
      "source": [
        "# สร้างตารางที่ค่าเฉลี่ยนประชากรมากกว่า 40"
      ]
    },
    {
      "cell_type": "code",
      "metadata": {
        "id": "fGmCL3Z5fI-6"
      },
      "source": [
        "data = table_3[table_3['ผลเฉลี่ย']>=40]\n",
        "data"
      ],
      "execution_count": null,
      "outputs": []
    },
    {
      "cell_type": "markdown",
      "metadata": {
        "id": "PpEXu2Q7fMyB"
      },
      "source": [
        "# แปลงให้ข้อมูลอยู่ในรูปแบบเป็น transaction"
      ]
    },
    {
      "cell_type": "code",
      "metadata": {
        "id": "aOoMz_z3fN7q"
      },
      "source": [
        "table = data.groupby('จังหวัด')['ประเภทของระบบ'].apply(list)\n",
        "table"
      ],
      "execution_count": null,
      "outputs": []
    },
    {
      "cell_type": "markdown",
      "metadata": {
        "id": "Q-gxp3mSfPdi"
      },
      "source": [
        "# ขั้นตอนติดตั้ง apyori"
      ]
    },
    {
      "cell_type": "code",
      "metadata": {
        "id": "orTQyKwifRVy"
      },
      "source": [
        "!pip install apyori"
      ],
      "execution_count": null,
      "outputs": []
    },
    {
      "cell_type": "markdown",
      "metadata": {
        "id": "O76V76wtfTKF"
      },
      "source": [
        "# เป็นการเรียกใช้ฟังก์ชัน apriori"
      ]
    },
    {
      "cell_type": "code",
      "metadata": {
        "id": "3xEbr-4dfU_j"
      },
      "source": [
        "from apyori import apriori"
      ],
      "execution_count": null,
      "outputs": []
    },
    {
      "cell_type": "markdown",
      "metadata": {
        "id": "chLmSrsXfWPT"
      },
      "source": [
        "# ผลลัพธ์ที่ได้จากการทำ Associantion ซึ่งรายละเอียดจะอยู่ที่ summary"
      ]
    },
    {
      "cell_type": "code",
      "metadata": {
        "id": "8i6LUZW5fXhK"
      },
      "source": [
        "test_1 = list(apriori(table, min_support = 0.05))\n",
        "test_1"
      ],
      "execution_count": null,
      "outputs": []
    },
    {
      "cell_type": "markdown",
      "metadata": {
        "id": "q2cL9f1tfY5L"
      },
      "source": [
        "# สร้างตารางที่ค่าเฉลี่ยนประชากรน้อยกว่า 40"
      ]
    },
    {
      "cell_type": "code",
      "metadata": {
        "id": "BcB_xsIYfZ_6"
      },
      "source": [
        "dataP = table_3[table_3['ผลเฉลี่ย']<=40]\n",
        "dataP"
      ],
      "execution_count": null,
      "outputs": []
    },
    {
      "cell_type": "markdown",
      "metadata": {
        "id": "PwlRWYeqfbqq"
      },
      "source": [
        "# แปลงให้ข้อมูลอยู่ในรูปแบบเป็น transaction"
      ]
    },
    {
      "cell_type": "code",
      "metadata": {
        "id": "AB2PN5LVfc8t"
      },
      "source": [
        "table2 = dataP.groupby('จังหวัด')['ประเภทของระบบ'].apply(list)\n",
        "table2"
      ],
      "execution_count": null,
      "outputs": []
    },
    {
      "cell_type": "markdown",
      "metadata": {
        "id": "BTGuF6_mfe1y"
      },
      "source": [
        "# ผลลัพธ์ที่ได้จากการทำ Associantion ซึ่งรายละเอียดจะอยู่ที่ summary"
      ]
    },
    {
      "cell_type": "code",
      "metadata": {
        "id": "QjPC2Lg8ff6S"
      },
      "source": [
        "test_2 = list(apriori(table2, min_support = 0.06 ))\n",
        "test_2"
      ],
      "execution_count": null,
      "outputs": []
    },
    {
      "cell_type": "markdown",
      "metadata": {
        "id": "0SrghsJ4fhji"
      },
      "source": [
        "# SUMMARY"
      ]
    },
    {
      "cell_type": "code",
      "metadata": {
        "id": "h3BSywcafi2C"
      },
      "source": [
        "summary_1 = pd.read_csv(os.path.join(path,'มากกว่า 40.csv')) #ที่เป็น CSV เนื่องจากกลัวอาจารย์อ่านยากจึงนำข้อมูลที่อ่านได้ไปใส่ excell และแสดงออกมาเพื่อความสะดวกในการตรวจ\n",
        "summary_1"
      ],
      "execution_count": null,
      "outputs": []
    },
    {
      "cell_type": "markdown",
      "metadata": {
        "id": "Vf126TeBfkHs"
      },
      "source": [
        "จะเห็นได้ว่าค่าเฉลี่ยนของประชากรมากกว่า 40 มักจะนิยมใช้ระบบกำจัดของเสียแบบบ่อปรับเสถียรมากที่สุด"
      ]
    },
    {
      "cell_type": "code",
      "metadata": {
        "id": "W4hz3SYWflmq"
      },
      "source": [
        "summary_2 = pd.read_csv(os.path.join(path,'น้อยกว่า 40.csv')) #ที่เป็น CSV เนื่องจากกลัวอาจารย์อ่านยากจึงนำข้อมูลที่อ่านได้ไปใส่ excell และแสดงออกมาเพื่อความสะดวกในการตรวจ\n",
        "summary_2"
      ],
      "execution_count": null,
      "outputs": []
    },
    {
      "cell_type": "markdown",
      "metadata": {
        "id": "vruqjyFgfm2S"
      },
      "source": [
        "จะเห็นได้ว่าค่าเฉลี่ยนของประชากรน้อยกว่า 40 มักจะนิยมใช้ระบบกำจัดของเสียแบบบ่อปรับเสถียรมากที่สุดเช่นเดียวกัน"
      ]
    },
    {
      "cell_type": "code",
      "metadata": {
        "id": "VLqa4b5_ii5T"
      },
      "source": [
        "from pandas.api.types import CategoricalDtype\n"
      ],
      "execution_count": null,
      "outputs": []
    },
    {
      "cell_type": "code",
      "metadata": {
        "id": "PM5BAhqaij6T"
      },
      "source": [
        "table_3.columns #"
      ],
      "execution_count": null,
      "outputs": []
    },
    {
      "cell_type": "markdown",
      "metadata": {
        "id": "DX0Z-5foilZ3"
      },
      "source": [
        "# Plot กราฟ เพื่อดุค่าของข้อมูลผลเฉลี่ยในแต่ละจังหวัด"
      ]
    },
    {
      "cell_type": "code",
      "metadata": {
        "id": "bSZ7-dYgim8F"
      },
      "source": [
        "import matplotlib.pyplot as plt\n",
        "from matplotlib import pyplot as plt\n",
        "import numpy as np\n",
        "import pandas as pd"
      ],
      "execution_count": null,
      "outputs": []
    },
    {
      "cell_type": "code",
      "metadata": {
        "id": "zaO1ShY3ioLb"
      },
      "source": [
        "table_3.iloc[:,17:18]"
      ],
      "execution_count": null,
      "outputs": []
    },
    {
      "cell_type": "code",
      "metadata": {
        "id": "0vpwYAE4ipbT"
      },
      "source": [
        "table_3.plot.scatter('จังหวัด','ผลเฉลี่ย', s = 30)"
      ],
      "execution_count": null,
      "outputs": []
    },
    {
      "cell_type": "markdown",
      "metadata": {
        "id": "mrgOUIHzirN-"
      },
      "source": [
        "# Classification\n",
        "\n",
        "ตรวจสอบพยากรณ์ว่าผลเฉลี่ยและรวมเฉลี่ยมีผลต่อประเภทของระบบอย่างไร\n",
        "\n"
      ]
    },
    {
      "cell_type": "markdown",
      "metadata": {
        "id": "ndL0IhjKgyYV"
      },
      "source": [
        "# ทำการดูว่าประเภทของระบบใดในแต่ละภาคมีการใช้มากสุด"
      ]
    },
    {
      "cell_type": "code",
      "metadata": {
        "id": "WVk7HTeDiqi7"
      },
      "source": [
        "data_1 = table_3[['โซน','ภาค','จังหวัด','ประเภทของระบบ','ผลเฉลี่ย','รวมเฉลี่ย']] #เลือก colum ที่ต้องการจะศึกษา\n",
        "data_1"
      ],
      "execution_count": null,
      "outputs": []
    },
    {
      "cell_type": "code",
      "metadata": {
        "id": "_pTbVX5Xg1PX"
      },
      "source": [
        "Nortdata = data_1[data_1['ภาค']=='เหนือ']\n",
        "Nortdata"
      ],
      "execution_count": null,
      "outputs": []
    },
    {
      "cell_type": "code",
      "metadata": {
        "id": "jlmrCiyWg2hu"
      },
      "source": [
        "Nort = Nortdata.groupby('ประเภทของระบบ').count().sort_values(by=['ภาค'],ascending=False) ##นำข้อมูล จังหวัด_y จากตาราง Data โดยพิจารณาจาก StFinal \n",
        "Nort ##เรียกดูตาราง"
      ],
      "execution_count": null,
      "outputs": []
    },
    {
      "cell_type": "markdown",
      "metadata": {
        "id": "IY7oTF6ug4E9"
      },
      "source": [
        "จะเห็นได้ว่าภาคเหนือมีการใช้ประเภทของระบบกำจัดของเสียที่มากที่สุด คือ ระบบบ่อปรับเสถียร"
      ]
    },
    {
      "cell_type": "code",
      "metadata": {
        "id": "fGGs_TtCg4eC"
      },
      "source": [
        "Southdata = data_1[data_1['ภาค']=='ใต้']\n",
        "Southdata"
      ],
      "execution_count": null,
      "outputs": []
    },
    {
      "cell_type": "code",
      "metadata": {
        "id": "V-VlebV_g7Xc"
      },
      "source": [
        "South = Southdata.groupby('ประเภทของระบบ').count().sort_values(by=['ภาค'],ascending=False) ##นำข้อมูล จังหวัด_y จากตาราง Data โดยพิจารณาจาก StFinal \n",
        "South ##เรียกดูตาราง"
      ],
      "execution_count": null,
      "outputs": []
    },
    {
      "cell_type": "markdown",
      "metadata": {
        "id": "Ey1r_zQMg5qW"
      },
      "source": [
        "จะเห็นได้ว่าภาคใต้มีการใช้ประเภทของระบบกำจัดของเสียที่มากที่สุด คือ ระบบคลองวนเวียน"
      ]
    },
    {
      "cell_type": "code",
      "metadata": {
        "id": "_T3hg8Amg91G"
      },
      "source": [
        "centraldata = data_1[data_1['ภาค']=='กลาง']\n",
        "centraldata"
      ],
      "execution_count": null,
      "outputs": []
    },
    {
      "cell_type": "code",
      "metadata": {
        "id": "p_0y5QX6hAQ_"
      },
      "source": [
        "central = centraldata.groupby('ประเภทของระบบ').count().sort_values(by=['ภาค'],ascending=False) ##นำข้อมูล จังหวัด_y จากตาราง Data โดยพิจารณาจาก StFinal \n",
        "central ##เรียกดูตาราง"
      ],
      "execution_count": null,
      "outputs": []
    },
    {
      "cell_type": "markdown",
      "metadata": {
        "id": "YA9HVE93hCkm"
      },
      "source": [
        "จะเห็นได้ว่าภาคกลางมีการใช้ประเภทของระบบกำจัดของเสียที่มากที่สุด คือ ระบบบ่อปรับเสถียร"
      ]
    },
    {
      "cell_type": "code",
      "metadata": {
        "id": "4mCwmqe0hC2B"
      },
      "source": [
        "Eastdata = data_1[data_1['ภาค']=='ตะวันออก']\n",
        "Eastdata"
      ],
      "execution_count": null,
      "outputs": []
    },
    {
      "cell_type": "code",
      "metadata": {
        "id": "evsLfrXGhFRV"
      },
      "source": [
        "East = Eastdata.groupby('ประเภทของระบบ').count().sort_values(by=['ภาค'],ascending=False) ##นำข้อมูล จังหวัด_y จากตาราง Data โดยพิจารณาจาก StFinal \n",
        "East ##เรียกดูตาราง"
      ],
      "execution_count": null,
      "outputs": []
    },
    {
      "cell_type": "markdown",
      "metadata": {
        "id": "KBfgv4OthGXn"
      },
      "source": [
        "จะเห็นได้ว่าภาคตะวันออกมีการใช้ประเภทของระบบกำจัดของเสียที่มากที่สุด คือ ระบบบ่อปรับเสถียร"
      ]
    },
    {
      "cell_type": "code",
      "metadata": {
        "id": "_180fXHThHaN"
      },
      "source": [
        "Westdata = data_1[data_1['ภาค']=='ตะวันตก']\n",
        "Westdata"
      ],
      "execution_count": null,
      "outputs": []
    },
    {
      "cell_type": "code",
      "metadata": {
        "id": "n2U93mJLhI83"
      },
      "source": [
        "West = Westdata.groupby('ประเภทของระบบ').count().sort_values(by=['ภาค'],ascending=False) ##นำข้อมูล จังหวัด_y จากตาราง Data โดยพิจารณาจาก StFinal \n",
        "West ##เรียกดูตาราง"
      ],
      "execution_count": null,
      "outputs": []
    },
    {
      "cell_type": "markdown",
      "metadata": {
        "id": "SElXXao7hKYP"
      },
      "source": [
        "จะเห็นได้ว่าภาคตะวันตกมีการใช้ประเภทของระบบกำจัดของเสียที่มากที่สุด คือ ระบบบ่อปรับเสถียร"
      ]
    },
    {
      "cell_type": "code",
      "metadata": {
        "id": "l3Kbw9-rhKoF"
      },
      "source": [
        "Northeastdata = data_1[data_1['ภาค']=='ตะวันออกเฉียงเหนือ']\n",
        "Northeastdata"
      ],
      "execution_count": null,
      "outputs": []
    },
    {
      "cell_type": "code",
      "metadata": {
        "id": "GGHazGLahOG8"
      },
      "source": [
        "Northeast = Northeastdata.groupby('ประเภทของระบบ').count().sort_values(by=['ภาค'],ascending=False) ##นำข้อมูล จังหวัด_y จากตาราง Data โดยพิจารณาจาก StFinal \n",
        "Northeast ##เรียกดูตาราง"
      ],
      "execution_count": null,
      "outputs": []
    },
    {
      "cell_type": "markdown",
      "metadata": {
        "id": "gHZ0Oo4UhQHF"
      },
      "source": [
        "จะเห็นได้ว่าภาคตะวันออกเฉียงเหนือมีการใช้ประเภทของระบบกำจัดของเสียที่มากที่สุด คือ ระบบบ่อปรับเสถียร"
      ]
    },
    {
      "cell_type": "markdown",
      "metadata": {
        "id": "bu0ZT6AhhSqu"
      },
      "source": [
        "# กำหนดค่า X และ Y\n",
        "โซน คือ เลขกำกับภาค\n",
        "\n",
        "ผลเฉลี่ย คือ ค่าผลรวมเฉี่ยของประชากรที่จำแนกตามอายุ\n",
        "\n",
        "รวมเฉลี่ย คือ ค่าผลรวมเฉลี่ยจากรายได้จากการท่องเที่ยว"
      ]
    },
    {
      "cell_type": "code",
      "metadata": {
        "id": "Gq0i9TGmivvK"
      },
      "source": [
        "data_1 = table_3[['โซน','ภาค','จังหวัด','ประเภทของระบบ','ผลเฉลี่ย','รวมเฉลี่ย']] #เลือก colum ที่ต้องการจะศึกษา\n",
        "data_1"
      ],
      "execution_count": null,
      "outputs": []
    },
    {
      "cell_type": "code",
      "metadata": {
        "id": "mK3Y2YjviwiK"
      },
      "source": [
        "X"
      ],
      "execution_count": null,
      "outputs": []
    },
    {
      "cell_type": "code",
      "metadata": {
        "id": "hRmMueb7ixlE"
      },
      "source": [
        "from sklearn.model_selection import  train_test_split"
      ],
      "execution_count": null,
      "outputs": []
    },
    {
      "cell_type": "code",
      "metadata": {
        "id": "lthJ3JTZizCK"
      },
      "source": [
        "# train-test\n",
        "X_train, X_test, y_train, y_test = train_test_split(X, y, test_size=0.5, random_state=8)"
      ],
      "execution_count": null,
      "outputs": []
    },
    {
      "cell_type": "code",
      "metadata": {
        "id": "SP7iYttgi0Dj"
      },
      "source": [
        "# train-validation\n",
        "X_train2, X_val, y_train2, y_val = train_test_split(X_train, y_train, test_size=0.5, random_state=8)"
      ],
      "execution_count": null,
      "outputs": []
    },
    {
      "cell_type": "code",
      "metadata": {
        "id": "m11mbxF-i04K"
      },
      "source": [
        "X.shape #เช็คขนาด colum ของ X.shape"
      ],
      "execution_count": null,
      "outputs": []
    },
    {
      "cell_type": "code",
      "metadata": {
        "id": "bsCcyT3Di11N"
      },
      "source": [
        "X_train.shape #เช็คขนาด colum ของ X_train.shape"
      ],
      "execution_count": null,
      "outputs": []
    },
    {
      "cell_type": "code",
      "metadata": {
        "id": "kfCOZKX4i2yS"
      },
      "source": [
        "X_test.shape #เช็คขนาด colum ของ X_test.shape"
      ],
      "execution_count": null,
      "outputs": []
    },
    {
      "cell_type": "markdown",
      "metadata": {
        "id": "RfAMHu7Xi32V"
      },
      "source": [
        "# Decision Tree"
      ]
    },
    {
      "cell_type": "code",
      "metadata": {
        "id": "B1B9bazyi5Vt"
      },
      "source": [
        "from sklearn.tree import DecisionTreeClassifier #Import\n",
        "from sklearn.metrics import accuracy_score"
      ],
      "execution_count": null,
      "outputs": []
    },
    {
      "cell_type": "code",
      "metadata": {
        "id": "lDJBjyPFi6oi"
      },
      "source": [
        "#define\n",
        "mytree = DecisionTreeClassifier(splitter='random',random_state=13)\n",
        "#train\n",
        "mytree.fit(X_train2,y_train2)\n",
        "#test\n",
        "mytree_result2 = mytree.predict(X_val)\n",
        "#accuracy_score\n",
        "accuracy_score(y_val, mytree_result2)"
      ],
      "execution_count": null,
      "outputs": []
    },
    {
      "cell_type": "markdown",
      "metadata": {
        "id": "uAmNSgQFi8C5"
      },
      "source": [
        "ใช้เกณฑ์ min_samples_leaf=3,splitter='random',random_state=13"
      ]
    },
    {
      "cell_type": "code",
      "metadata": {
        "id": "dUfpoG5xi9GE"
      },
      "source": [
        "# Define\n",
        "mytree2 = DecisionTreeClassifier(min_samples_leaf=3,splitter='random',random_state=13)\n",
        "#train\n",
        "mytree2.fit(X_train2,y_train2)\n",
        "#test\n",
        "mytree_result = mytree2.predict(X_val)\n",
        "#accuracy_score\n",
        "accuracy_score(y_val, mytree_result)"
      ],
      "execution_count": null,
      "outputs": []
    },
    {
      "cell_type": "markdown",
      "metadata": {
        "id": "KZjpb3nTi-Oj"
      },
      "source": [
        "ใช้เกณฑ์ min_samples_leaf=3,splitter='random',random_state=13"
      ]
    },
    {
      "cell_type": "code",
      "metadata": {
        "id": "9kQaRL63i_gr"
      },
      "source": [
        "#define\n",
        "mytree3 = DecisionTreeClassifier(criterion='entropy',splitter='random',random_state=13)\n",
        "#train\n",
        "mytree3.fit(X_train2,y_train2)\n",
        "#test\n",
        "mytree_result3 = mytree3.predict(X_val)\n",
        "#accuracy_score\n",
        "accuracy_score(y_val, mytree_result3)"
      ],
      "execution_count": null,
      "outputs": []
    },
    {
      "cell_type": "markdown",
      "metadata": {
        "id": "RG3C82YgjAcz"
      },
      "source": [
        "\n",
        "ใช้ค่าเริ่มต้นทดสอบ"
      ]
    },
    {
      "cell_type": "code",
      "metadata": {
        "id": "VVMIp_KbjBVr"
      },
      "source": [
        "\n",
        "#define\n",
        "mytree4 = DecisionTreeClassifier()\n",
        "#train\n",
        "mytree4.fit(X_train2,y_train2)\n",
        "#test\n",
        "mytree_result = mytree4.predict(X_val)\n",
        "#accuracy_score\n",
        "accuracy_score(y_val, mytree_result)"
      ],
      "execution_count": null,
      "outputs": []
    },
    {
      "cell_type": "markdown",
      "metadata": {
        "id": "kyESYYB_jCnr"
      },
      "source": [
        "\n",
        "# Retrain & Evaluate"
      ]
    },
    {
      "cell_type": "code",
      "metadata": {
        "id": "rvF1d0CyjEIe"
      },
      "source": [
        "#import\n",
        "from sklearn.metrics import classification_report, confusion_matrix, accuracy_score"
      ],
      "execution_count": null,
      "outputs": []
    },
    {
      "cell_type": "code",
      "metadata": {
        "id": "GRLeKEUEjFKD"
      },
      "source": [
        "#Define\n",
        "mytree3_final = DecisionTreeClassifier(splitter='random',random_state=13)\n",
        "#Train\n",
        "mytree3_final.fit(X_train,y_train)\n",
        "#Predict\n",
        "mytree3_final_result = mytree3_final.predict(X_test)\n",
        "accuracy_score(y_test, mytree3_final_result)"
      ],
      "execution_count": null,
      "outputs": []
    },
    {
      "cell_type": "code",
      "metadata": {
        "id": "kHcyhYZYjGLV"
      },
      "source": [
        "#Evaluate\n",
        "acc_decision_tree = accuracy_score(y_test, mytree3_final_result)\n",
        "acc_decision_tree"
      ],
      "execution_count": null,
      "outputs": []
    },
    {
      "cell_type": "code",
      "metadata": {
        "id": "PBjO-4kXjHgF"
      },
      "source": [
        "#หา Confusion Matrix\n",
        "confusion_matrix(y_test, mytree3_final_result)"
      ],
      "execution_count": null,
      "outputs": []
    },
    {
      "cell_type": "code",
      "metadata": {
        "id": "WemgT9cjjIrm"
      },
      "source": [
        "\n",
        "#ดูตารางที่ได้จาก confusion matrix\n",
        "con_mat_tree = classification_report(y_test, mytree3_final_result)\n",
        "print(con_mat_tree)"
      ],
      "execution_count": null,
      "outputs": []
    },
    {
      "cell_type": "markdown",
      "metadata": {
        "id": "wb_-Zs19jJ8H"
      },
      "source": [
        "# KNN\n",
        "\n",
        "Train Model"
      ]
    },
    {
      "cell_type": "code",
      "metadata": {
        "id": "ij2cnNDqjL-9"
      },
      "source": [
        "from sklearn.neighbors import KNeighborsClassifier\n",
        "from sklearn.metrics import accuracy_score"
      ],
      "execution_count": null,
      "outputs": []
    },
    {
      "cell_type": "markdown",
      "metadata": {
        "id": "-KlUFlG9jM56"
      },
      "source": [
        "# Knn1"
      ]
    },
    {
      "cell_type": "code",
      "metadata": {
        "id": "XZ5WF97GjOQS"
      },
      "source": [
        "# Define\n",
        "neigh1 = KNeighborsClassifier(n_neighbors=3, weights='uniform') #ถามเพื่อนบ้านที่ใกล้สุด 3 คน และเชื่อทุกๆคนเท่ากัน\n",
        "# Train\n",
        "neigh1.fit(X_train2,y_train2)\n",
        "# Test\n",
        "knn1_result = neigh1.predict(X_val)\n",
        "accuracy_score(y_val, knn1_result)"
      ],
      "execution_count": null,
      "outputs": []
    },
    {
      "cell_type": "markdown",
      "metadata": {
        "id": "6c9RS5J5jPl9"
      },
      "source": [
        "# Knn2"
      ]
    },
    {
      "cell_type": "code",
      "metadata": {
        "id": "Ckq0rGV6jQ27"
      },
      "source": [
        "# Define\n",
        "neigh2 = KNeighborsClassifier(n_neighbors=10, weights='distance') #ถามเพื่อนบ้านที่ใกล้สุด 10 คน และเชื่อคนที่อยู่ใกล้มากกว่าไกล\n",
        "# Train\n",
        "neigh2.fit(X_train2,y_train2)\n",
        "# Test\n",
        "knn2_result = neigh2.predict(X_val)\n",
        "accuracy_score(y_val, knn2_result"
      ],
      "execution_count": null,
      "outputs": []
    },
    {
      "cell_type": "markdown",
      "metadata": {
        "id": "3Ffw-FgTjSI8"
      },
      "source": [
        "# Knn3"
      ]
    },
    {
      "cell_type": "code",
      "metadata": {
        "id": "HEULuOxpjTaW"
      },
      "source": [
        "# Define\n",
        "neigh3 = KNeighborsClassifier(n_neighbors=1) #เชื่อเพื่อนบ้านที่ใกล้ที่สุดคนเดียว\n",
        "# Train\n",
        "neigh3.fit(X_train2,y_train2)\n",
        "# Test\n",
        "knn3_result = neigh3.predict(X_val)\n",
        "accuracy_score(y_val, knn3_result)"
      ],
      "execution_count": null,
      "outputs": []
    },
    {
      "cell_type": "markdown",
      "metadata": {
        "id": "MFasTnYgjU2q"
      },
      "source": [
        "# Retrain & Evaluate"
      ]
    },
    {
      "cell_type": "code",
      "metadata": {
        "id": "NIzsOFlMjWV1"
      },
      "source": [
        "#import\n",
        "from sklearn.metrics import classification_report, confusion_matrix, accuracy_score"
      ],
      "execution_count": null,
      "outputs": []
    },
    {
      "cell_type": "code",
      "metadata": {
        "id": "0imvmuwBjXZO"
      },
      "source": [
        "#Define\n",
        "mytree3_final = DecisionTreeClassifier(splitter='random',random_state=13)\n",
        "#Train\n",
        "mytree3_final.fit(X_train,y_train)\n",
        "#Predict\n",
        "mytree3_final_result = mytree3_final.predict(X_test)\n",
        "accuracy_score(y_test, mytree3_final_result)"
      ],
      "execution_count": null,
      "outputs": []
    },
    {
      "cell_type": "code",
      "metadata": {
        "id": "Jmp8Fnl3jYre"
      },
      "source": [
        "#Evaluate\n",
        "acc_decision_tree = accuracy_score(y_test, mytree3_final_result)\n",
        "acc_decision_tree"
      ],
      "execution_count": null,
      "outputs": []
    },
    {
      "cell_type": "markdown",
      "metadata": {
        "id": "JGWxXjTkjZ2f"
      },
      "source": [
        "# Neural Network"
      ]
    },
    {
      "cell_type": "code",
      "metadata": {
        "id": "zz5F2l-wjbJW"
      },
      "source": [
        "from sklearn.neural_network import MLPClassifier"
      ],
      "execution_count": null,
      "outputs": []
    },
    {
      "cell_type": "code",
      "metadata": {
        "id": "urp9u3LxjcOd"
      },
      "source": [
        "perceptron1 = MLPClassifier(random_state=13,max_iter=2000,hidden_layer_sizes=1,learning_rate_init=0.05)"
      ],
      "execution_count": null,
      "outputs": []
    },
    {
      "cell_type": "markdown",
      "metadata": {
        "id": "Q2CVMZO7jdHN"
      },
      "source": [
        "\n",
        "# Train - Test"
      ]
    },
    {
      "cell_type": "code",
      "metadata": {
        "id": "XzclsW_Qjee7"
      },
      "source": [
        "# Train\n",
        "perceptron1.fit(X_train2,y_train2)\n",
        "# Test\n",
        "ann1_result = perceptron1.predict(X_val)\n",
        "accuracy_score(y_val, ann1_result)"
      ],
      "execution_count": null,
      "outputs": []
    },
    {
      "cell_type": "markdown",
      "metadata": {
        "id": "QQH7RcnLjfsX"
      },
      "source": [
        "# Ann2"
      ]
    },
    {
      "cell_type": "code",
      "metadata": {
        "id": "g7lA5UhWjhDb"
      },
      "source": [
        "perceptron2 = MLPClassifier(random_state=13,max_iter=2000,hidden_layer_sizes=10,learning_rate_init=0.05) \n",
        "# Train\n",
        "perceptron2.fit(X_train2,y_train2)\n",
        "# Test\n",
        "ann2_result = perceptron2.predict(X_val)\n",
        "accuracy_score(y_val, ann2_result)"
      ],
      "execution_count": null,
      "outputs": []
    },
    {
      "cell_type": "markdown",
      "metadata": {
        "id": "9KjJVl82jiS7"
      },
      "source": [
        "# ANN 3"
      ]
    },
    {
      "cell_type": "code",
      "metadata": {
        "id": "S7wPvQQBjjoj"
      },
      "source": [
        "perceptron3 = MLPClassifier(random_state=13,max_iter=20000,hidden_layer_sizes=10,learning_rate_init=0.01) \n",
        "# Train\n",
        "perceptron3.fit(X_train2,y_train2)\n",
        "# Test\n",
        "ann3_result = perceptron3.predict(X_val)\n",
        "accuracy_score(y_val, ann3_result)"
      ],
      "execution_count": null,
      "outputs": []
    },
    {
      "cell_type": "markdown",
      "metadata": {
        "id": "TUSQXHomjk_z"
      },
      "source": [
        "# Retrain & Evaluate"
      ]
    },
    {
      "cell_type": "code",
      "metadata": {
        "id": "WTUOm_GjjmOr"
      },
      "source": [
        "#define\n",
        "perceptron3_final = MLPClassifier(random_state=13, max_iter=20000, hidden_layer_sizes=10,learning_rate_init=0.001)\n",
        "#train\n",
        "perceptron3_final.fit(X_train2,y_train2)\n",
        "#test\n",
        "perceptron3_final_result = perceptron3_final.predict(X_test)\n",
        "accuracy_score(y_test, perceptron3_final_result)"
      ],
      "execution_count": null,
      "outputs": []
    },
    {
      "cell_type": "code",
      "metadata": {
        "id": "w3NJ6oFijnZX"
      },
      "source": [
        "#Evaluate\n",
        "acc_NN = accuracy_score(y_test, perceptron3_final_result)\n",
        "acc_NN"
      ],
      "execution_count": null,
      "outputs": []
    },
    {
      "cell_type": "markdown",
      "metadata": {
        "id": "Cj4ob4QAjokn"
      },
      "source": [
        "Retrain & Evaluate"
      ]
    },
    {
      "cell_type": "code",
      "metadata": {
        "id": "-bvTQ1j_jpl-"
      },
      "source": [
        "#define\n",
        "perceptron3_final = MLPClassifier(random_state=13, max_iter=20000, hidden_layer_sizes=10,learning_rate_init=0.001)\n",
        "#train\n",
        "perceptron3_final.fit(X_train2,y_train2)\n",
        "#test\n",
        "perceptron3_final_result = perceptron3_final.predict(X_test)"
      ],
      "execution_count": null,
      "outputs": []
    },
    {
      "cell_type": "code",
      "metadata": {
        "id": "jyP2wiE7jqmE"
      },
      "source": [
        "#Evaluate\n",
        "acc_NN = accuracy_score(y_test, perceptron3_final_result)\n",
        "acc_NN"
      ],
      "execution_count": null,
      "outputs": []
    },
    {
      "cell_type": "markdown",
      "metadata": {
        "id": "Q4dy3GiTjrgO"
      },
      "source": [
        "# วาดกราฟต้นไม้"
      ]
    },
    {
      "cell_type": "code",
      "metadata": {
        "id": "wpy7H-Sqjs6L"
      },
      "source": [
        "from sklearn.tree import plot_tree"
      ],
      "execution_count": null,
      "outputs": []
    },
    {
      "cell_type": "code",
      "metadata": {
        "id": "A85DF7RBjuBD"
      },
      "source": [
        "plot_tree(mytree);"
      ],
      "execution_count": null,
      "outputs": []
    },
    {
      "cell_type": "markdown",
      "metadata": {
        "id": "hbiw9FyPjvR_"
      },
      "source": [
        "## สรุป\n",
        "\n",
        "model ที่เหมาะสมที่สุดกับข้อมูลชุดนี้ คือ Decision Tree ซึ่งมีความแม่นยำ 42.10%"
      ]
    },
    {
      "cell_type": "markdown",
      "metadata": {
        "id": "sIzmJivxjyks"
      },
      "source": [
        "# Visulization"
      ]
    },
    {
      "cell_type": "code",
      "metadata": {
        "id": "GXXTOQNPjwNH"
      },
      "source": [
        "\n",
        "import matplotlib as matplotlib # ทำการเช็ค version ของตัว library ดู ซึ่งเข้าใจว่าต้องเป็น version 3.2 ขึ้นไปเท่านั้นถึงจะใช้ได้ ถ้า version ต่ำกว่านี้ก็อาจจะต้องทำการอัพเดต version ก่อน\n",
        "matplotlib.__version__"
      ],
      "execution_count": null,
      "outputs": []
    },
    {
      "cell_type": "code",
      "metadata": {
        "id": "rhs6Ytd8j1WH"
      },
      "source": [
        "# ทำการดาวน์โหลด font ในที่นี้ก็จะใช้โค้ดด้านล่างนี้ โหลด font ที่ชื่อว่า thsarabunnew\n",
        "!wget -q https://github.com/Phonbopit/sarabun-webfont/raw/master/fonts/thsarabunnew-webfont.ttf"
      ],
      "execution_count": null,
      "outputs": []
    },
    {
      "cell_type": "code",
      "metadata": {
        "id": "vQQhh0n0j2TT"
      },
      "source": [
        "matplotlib.font_manager.fontManager.addfont('thsarabunnew-webfont.ttf')  #เพื่ม font ที่เรา download มาเข้าไปใน font manager ของ matplotlib พร้อมกับเซ็ตค่า font ที่จะใช้งานแสดงบนกราฟที่เราจะพล็อต\n",
        "matplotlib.rc('font', family='TH Sarabun New')"
      ],
      "execution_count": null,
      "outputs": []
    },
    {
      "cell_type": "code",
      "metadata": {
        "id": "7R77Ry5ij3YN"
      },
      "source": [
        "from matplotlib import pyplot as plt\n",
        "\n",
        "labels = ['Decision Tree', 'KNN', 'Neural Network']\n",
        "accuracy_Y = [acc_decision_tree,acc_decision_tree,acc_NN]\n",
        "#plot\n",
        "plt.bar(labels,accuracy_Y)\n",
        "plt.ylabel('Accuracy_Score')\n",
        "plt.title('Compare Acuuracy_score')\n",
        "plt.legend();"
      ],
      "execution_count": null,
      "outputs": []
    },
    {
      "cell_type": "code",
      "metadata": {
        "id": "23GS0lSVj5-O"
      },
      "source": [
        "#ใช้ข้อมูล product_category_name จัดกลุ่ม แล้วหาค่าเฉลี่ยของ freight_value\n",
        "category_mean = data_1.groupby('ประเภทของระบบ')[['ผลเฉลี่ย']].mean().reset_index()\n",
        "category_mean"
      ],
      "execution_count": null,
      "outputs": []
    },
    {
      "cell_type": "code",
      "metadata": {
        "id": "ouZHfKMjj7lM"
      },
      "source": [
        "plt.bar(np.arange(len(category_mean.iloc[:,1])), category_mean.iloc[:,1])\n",
        "\n",
        "plt.ylabel('ผลเฉลี่ย')\n",
        "plt.title('Compare ผลเฉลี่ย')\n",
        "plt.xticks(np.arange(len(category_mean.iloc[:,0]))-1.5, category_mean.iloc[:,0],rotation=55)\n",
        "plt.legend();\n"
      ],
      "execution_count": null,
      "outputs": []
    },
    {
      "cell_type": "code",
      "metadata": {
        "id": "YqTN6PBTj8vj"
      },
      "source": [
        "change = category_mean['ผลเฉลี่ย'] > 40\n",
        "mean_over40 = category_mean[change]\n",
        "mean_over40"
      ],
      "execution_count": null,
      "outputs": []
    },
    {
      "cell_type": "code",
      "metadata": {
        "id": "lK4W7ATGj-E7"
      },
      "source": [
        "\n",
        "plt.bar(np.arange(len(mean_over40.iloc[:,1])), mean_over40.iloc[:,1])\n",
        "\n",
        "plt.ylabel('freight_value')\n",
        "plt.title('Compare freight_value')\n",
        "plt.xticks(np.arange(len(mean_over40.iloc[:,0]))-1.5, mean_over40.iloc[:,0],rotation=55)\n",
        "plt.legend();"
      ],
      "execution_count": null,
      "outputs": []
    },
    {
      "cell_type": "code",
      "metadata": {
        "id": "fgmiTFT9j_UW"
      },
      "source": [
        "plt.scatter(range(len(data_1['ประเภทของระบบ'])),data_1['ผลเฉลี่ย'],s=100,c='B')\n",
        "plt.xlabel('ผลเฉลี่ย')\n",
        "plt.ylabel('ผลเฉลี่ย')\n",
        "plt.title('ผลเฉลี่ยที่ส่งผลต่อประเภทของระบบ')\n",
        "plt.show()"
      ],
      "execution_count": null,
      "outputs": []
    },
    {
      "cell_type": "code",
      "metadata": {
        "id": "-NIljnobkAVd"
      },
      "source": [
        "plt.plot(range(len(data_1['ประเภทของระบบ'])),data_1['ผลเฉลี่ย'],marker='+')\n",
        "plt.xlabel('ผลเฉลี่ย')\n",
        "plt.ylabel('ผลเฉลี่ย')\n",
        "plt.title('ผลเฉลี่ยที่ส่งผลต่อประเภทของระบบ')\n",
        "plt.show()"
      ],
      "execution_count": null,
      "outputs": []
    },
    {
      "cell_type": "code",
      "metadata": {
        "id": "2P2Rc1EIkBcb"
      },
      "source": [
        "change2 = category_mean['ผลเฉลี่ย'] <= 40\n",
        "mean_least40 = category_mean[change2]\n",
        "mean_least40"
      ],
      "execution_count": null,
      "outputs": []
    },
    {
      "cell_type": "code",
      "metadata": {
        "id": "kLPKctAIkC5F"
      },
      "source": [
        "plt.bar(np.arange(len(mean_least40.iloc[:,1])), mean_least40.iloc[:,1])\n",
        "\n",
        "plt.ylabel('freight_value')\n",
        "plt.title('Compare freight_value')\n",
        "plt.xticks(np.arange(len(mean_least40.iloc[:,0]))-1.5, mean_least40.iloc[:,0],rotation=55)\n",
        "plt.legend();"
      ],
      "execution_count": null,
      "outputs": []
    },
    {
      "cell_type": "markdown",
      "metadata": {
        "id": "gzCxx4F4kEhk"
      },
      "source": [
        "ดูค่าของ y หรือผลการทำนายประเภทระบบกำจัดของเสียที่ได้จาก Training Model ผลลัพธ์ที่ได้เป็นดังนี้"
      ]
    },
    {
      "cell_type": "code",
      "metadata": {
        "id": "ZMub0e4KkF2M"
      },
      "source": [
        "perceptron3_final_result"
      ],
      "execution_count": null,
      "outputs": []
    },
    {
      "cell_type": "markdown",
      "metadata": {
        "id": "J3pYzcfdkHgq"
      },
      "source": [
        "\n",
        "จากนั้นดูค่าของ X หรือข้อมูลที่เรานำมาใช้ในการทำนายหาประเภทระบบกำจัดของเสีย"
      ]
    },
    {
      "cell_type": "code",
      "metadata": {
        "id": "UXzosAwjkIWk"
      },
      "source": [
        "X_test"
      ],
      "execution_count": null,
      "outputs": []
    },
    {
      "cell_type": "markdown",
      "metadata": {
        "id": "c8SgM3WXkJnv"
      },
      "source": [
        "\n",
        "จากนั้นทำกราฟแสดงผลการทำนายระหว่างประเภทของระบบกับผลเฉลี่ยและรวมเฉลี่ยได้ดังนี้"
      ]
    },
    {
      "cell_type": "code",
      "metadata": {
        "id": "d5AYjO6WkKxK"
      },
      "source": [
        "plt.plot(X_test['ผลเฉลี่ย'],perceptron3_final_result,'Pb',alpha =0.2) \n",
        "plt.plot(X_test['รวมเฉลี่ย'],perceptron3_final_result,'Pr',alpha = 0.8) \n",
        "plt.xlabel('ผลเฉลี่ยและรวมเฉลี่ย')\n",
        "plt.ylabel('ประเภทของระบบ')\n",
        "plt.title('ผลการทำนายระหว่างชนิดระบบกับผลเฉลี่ยและรวมเฉลี่ย')"
      ],
      "execution_count": null,
      "outputs": []
    },
    {
      "cell_type": "markdown",
      "metadata": {
        "id": "E5j9oU9AkMLs"
      },
      "source": [
        "เพื่อให้อธิบยได้ชัดเจนขึ้นเราจะทำกราฟทั้ง 2 กราฟได้แก่\n",
        "\n",
        "ทำกราฟแสดงผลการทำนายระหว่างประเภทของระบบกับผลเฉลี่ย"
      ]
    },
    {
      "cell_type": "code",
      "metadata": {
        "id": "aAZG0qRukNRy"
      },
      "source": [
        "plt.plot(X_test['ผลเฉลี่ย'],perceptron3_final_result,'Pb',alpha =0.2) \n",
        "plt.xlabel('ผลเฉลี่ย')\n",
        "plt.ylabel('ประเภทของระบบ')\n",
        "plt.title('ผลการทำนายระหว่างชนิดระบบกับผลเฉลี่ย')"
      ],
      "execution_count": null,
      "outputs": []
    },
    {
      "cell_type": "markdown",
      "metadata": {
        "id": "HMxl_-0CkOn0"
      },
      "source": [
        "พบว่า จากกราฟผลการทำนายระหว่างชนิดระบบกับผลเฉลี่ย ระบบบ่อปรับเสถียรจะมีผลเฉลี่ยอยู่ที่ 40.5 - 42.5 โดยประมาณ\n",
        "\n",
        "ทำกราฟแสดงผลการทำนายระหว่างประเภทของระบบกับรวมเฉลี่ย"
      ]
    },
    {
      "cell_type": "code",
      "metadata": {
        "id": "gS_bds_tkPpL"
      },
      "source": [
        "plt.plot(X_test['รวมเฉลี่ย'],perceptron3_final_result,'Pr',alpha = 0.8) \n",
        "plt.xlabel('รวมเฉลี่ย')\n",
        "plt.ylabel('ประเภทของระบบ')\n",
        "plt.title('ผลการทำนายระหว่างชนิดระบบกับรวมเฉลี่ย')"
      ],
      "execution_count": null,
      "outputs": []
    },
    {
      "cell_type": "markdown",
      "metadata": {
        "id": "SmI8VrZ3kQ4D"
      },
      "source": [
        "พบว่า จากกราฟผลการทำนายระหว่างชนิดระบบกับรวมเฉลี่ย ระบบบ่อปรับเสถียรจะมีผลเฉลี่ยอยู่ที่ 0 - 20000 โดยประมาณ"
      ]
    }
  ]
}