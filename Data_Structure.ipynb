{
  "nbformat": 4,
  "nbformat_minor": 0,
  "metadata": {
    "colab": {
      "name": "Data_Structure.ipynb",
      "provenance": [],
      "authorship_tag": "ABX9TyPRTJ/2obDBgvxrKy9RHZMt",
      "include_colab_link": true
    },
    "kernelspec": {
      "name": "python3",
      "display_name": "Python 3"
    },
    "language_info": {
      "name": "python"
    }
  },
  "cells": [
    {
      "cell_type": "markdown",
      "metadata": {
        "id": "view-in-github",
        "colab_type": "text"
      },
      "source": [
        "<a href=\"https://colab.research.google.com/github/moneypitak/DWDM21/blob/main/Data_Structure.ipynb\" target=\"_parent\"><img src=\"https://colab.research.google.com/assets/colab-badge.svg\" alt=\"Open In Colab\"/></a>"
      ]
    },
    {
      "cell_type": "markdown",
      "source": [
        "# Data Structure (โครงสร้างข้อมูล)\n",
        "การเก็บข้อมูลหลาย ๆ ตัวไว้ด้วยกันอย่างเป็นระเบียบ\n",
        "\n",
        "List()\n",
        "เก็บอะไรก็ได้\n",
        "\n",
        "*   ลำดับในการเก็บ\n",
        "*   มีความสำคัญ\n",
        "\n",
        "\n"
      ],
      "metadata": {
        "id": "V4tPKgsELPBJ"
      }
    },
    {
      "cell_type": "code",
      "execution_count": 10,
      "metadata": {
        "id": "t4SlxzlFLJW9"
      },
      "outputs": [],
      "source": [
        "list_a = [1,2,3,4,5,6] #เก็บข้อมูลไว้ใน list_a    # [  ] มีชื่อว่า Square brackets"
      ]
    },
    {
      "cell_type": "code",
      "source": [
        "list_a #รันค่าออกมาดู"
      ],
      "metadata": {
        "colab": {
          "base_uri": "https://localhost:8080/"
        },
        "id": "13l04b3rLX2n",
        "outputId": "54befc24-1213-4aa4-d1fd-36ba2994e635"
      },
      "execution_count": 11,
      "outputs": [
        {
          "output_type": "execute_result",
          "data": {
            "text/plain": [
              "[1, 2, 3, 4, 5, 6]"
            ]
          },
          "metadata": {},
          "execution_count": 11
        }
      ]
    },
    {
      "cell_type": "code",
      "source": [
        "list_b = ['ab',2,3.14,list_a] #list สามารถเก็บได้ทุกชนิดได้หมด"
      ],
      "metadata": {
        "id": "SlL3zzKPLYvX"
      },
      "execution_count": 12,
      "outputs": []
    },
    {
      "cell_type": "code",
      "source": [
        "list_b #รันค่าออกมาดู"
      ],
      "metadata": {
        "colab": {
          "base_uri": "https://localhost:8080/"
        },
        "id": "MucajAYiLZk3",
        "outputId": "152a86c4-092c-409b-94ae-0af07e730e6f"
      },
      "execution_count": 13,
      "outputs": [
        {
          "output_type": "execute_result",
          "data": {
            "text/plain": [
              "['ab', 2, 3.14, [1, 2, 3, 4, 5, 6]]"
            ]
          },
          "metadata": {},
          "execution_count": 13
        }
      ]
    },
    {
      "cell_type": "code",
      "source": [
        "list_a[3] #ในคอมจะนับตัวแรกคือตัวที่ 0"
      ],
      "metadata": {
        "colab": {
          "base_uri": "https://localhost:8080/"
        },
        "id": "1w6IP7OxLaaX",
        "outputId": "ea180850-e170-40a1-fd38-c233cd5f31fa"
      },
      "execution_count": 14,
      "outputs": [
        {
          "output_type": "execute_result",
          "data": {
            "text/plain": [
              "4"
            ]
          },
          "metadata": {},
          "execution_count": 14
        }
      ]
    },
    {
      "cell_type": "markdown",
      "source": [
        "## indecing การชี้สมาชิกใน list ด้วย เลขลำดับของ list"
      ],
      "metadata": {
        "id": "CpaFH0hnLcQ-"
      }
    },
    {
      "cell_type": "code",
      "source": [
        "list_b[3] #list ตัวที่ 3 ใน list b"
      ],
      "metadata": {
        "colab": {
          "base_uri": "https://localhost:8080/"
        },
        "id": "m0hXU9wiLbUf",
        "outputId": "cadf0970-8152-4fa0-851c-990f6d76508a"
      },
      "execution_count": 15,
      "outputs": [
        {
          "output_type": "execute_result",
          "data": {
            "text/plain": [
              "[1, 2, 3, 4, 5, 6]"
            ]
          },
          "metadata": {},
          "execution_count": 15
        }
      ]
    },
    {
      "cell_type": "code",
      "source": [
        "list_b[3][3]  #list ตัวที่ 3 ใน list b แล้วก็ตัวที่ 3 ใน [ ] อีกที"
      ],
      "metadata": {
        "colab": {
          "base_uri": "https://localhost:8080/"
        },
        "id": "XESYP85ZLezf",
        "outputId": "d581fabd-0a70-4bdd-d2e0-60fb0bd4029d"
      },
      "execution_count": 16,
      "outputs": [
        {
          "output_type": "execute_result",
          "data": {
            "text/plain": [
              "4"
            ]
          },
          "metadata": {},
          "execution_count": 16
        }
      ]
    },
    {
      "cell_type": "code",
      "source": [
        "list_b[3][4]  #list ตัวที่ 3 ใน list b แล้วก็ตัวที่ 4 ใน [ ] อีกที"
      ],
      "metadata": {
        "colab": {
          "base_uri": "https://localhost:8080/"
        },
        "id": "GqDlFM2dLgYn",
        "outputId": "25c59c85-1234-4cdf-c859-7953e09a4c69"
      },
      "execution_count": 17,
      "outputs": [
        {
          "output_type": "execute_result",
          "data": {
            "text/plain": [
              "5"
            ]
          },
          "metadata": {},
          "execution_count": 17
        }
      ]
    },
    {
      "cell_type": "code",
      "source": [
        "list_a[6] #เรียก list ตัวที่ไม่ได้อยู่ใน [] จะเอ่อเร่อ"
      ],
      "metadata": {
        "colab": {
          "base_uri": "https://localhost:8080/",
          "height": 165
        },
        "id": "T9MFD5c6LhUP",
        "outputId": "abedfd4d-7436-4b1b-ad6b-3ee8ca65dd99"
      },
      "execution_count": 9,
      "outputs": [
        {
          "output_type": "error",
          "ename": "IndexError",
          "evalue": "ignored",
          "traceback": [
            "\u001b[0;31m---------------------------------------------------------------------------\u001b[0m",
            "\u001b[0;31mIndexError\u001b[0m                                Traceback (most recent call last)",
            "\u001b[0;32m<ipython-input-9-cbb255fd68c2>\u001b[0m in \u001b[0;36m<module>\u001b[0;34m()\u001b[0m\n\u001b[0;32m----> 1\u001b[0;31m \u001b[0mlist_a\u001b[0m\u001b[0;34m[\u001b[0m\u001b[0;36m6\u001b[0m\u001b[0;34m]\u001b[0m \u001b[0;31m#เรียก list ตัวที่ไม่ได้อยู่ใน [] จะเอ่อเร่อ\u001b[0m\u001b[0;34m\u001b[0m\u001b[0;34m\u001b[0m\u001b[0m\n\u001b[0m",
            "\u001b[0;31mIndexError\u001b[0m: list index out of range"
          ]
        }
      ]
    },
    {
      "cell_type": "code",
      "source": [
        "list_a[-1] #index จากตัวด้านหลังตัวสุดท้ายของ list"
      ],
      "metadata": {
        "colab": {
          "base_uri": "https://localhost:8080/"
        },
        "id": "hakTkDVdLihf",
        "outputId": "de1d468b-759a-4707-e68f-318d2b722d88"
      },
      "execution_count": 18,
      "outputs": [
        {
          "output_type": "execute_result",
          "data": {
            "text/plain": [
              "6"
            ]
          },
          "metadata": {},
          "execution_count": 18
        }
      ]
    },
    {
      "cell_type": "code",
      "source": [
        "list_a[-4] #index นับจากหลังมาหน้าตัวที่ 4"
      ],
      "metadata": {
        "colab": {
          "base_uri": "https://localhost:8080/"
        },
        "id": "AOhC-S73LjvP",
        "outputId": "79481439-ce29-4a34-cd31-e98a8df9ecb1"
      },
      "execution_count": 19,
      "outputs": [
        {
          "output_type": "execute_result",
          "data": {
            "text/plain": [
              "3"
            ]
          },
          "metadata": {},
          "execution_count": 19
        }
      ]
    },
    {
      "cell_type": "markdown",
      "source": [
        "## การสร้าง list()"
      ],
      "metadata": {
        "id": "alVAkeV8LsRI"
      }
    },
    {
      "cell_type": "code",
      "source": [
        "list_x1 = []  #การสร้าง list แบบที่ 1 \n",
        "list_x2 = list() #การสร้าง list แบบที่ 2"
      ],
      "metadata": {
        "id": "RyPVYeUILqWX"
      },
      "execution_count": 20,
      "outputs": []
    },
    {
      "cell_type": "code",
      "source": [
        "print(list_x1) #print ทั้ง 2 list จะได้ list ว่าง\n",
        "print(list_x2)"
      ],
      "metadata": {
        "colab": {
          "base_uri": "https://localhost:8080/"
        },
        "id": "Osg8VBe6LuZ_",
        "outputId": "9f4b2365-470e-4898-a4b4-9d0476086db6"
      },
      "execution_count": 21,
      "outputs": [
        {
          "output_type": "stream",
          "name": "stdout",
          "text": [
            "[]\n",
            "[]\n"
          ]
        }
      ]
    },
    {
      "cell_type": "markdown",
      "source": [
        "## เพิ่มสมาชิกเข้าไปใน list ด้วย append()"
      ],
      "metadata": {
        "id": "uWzmdHD8LvGf"
      }
    },
    {
      "cell_type": "code",
      "source": [
        "list_x1.append(2) #ไม่มีอะไรเกิดขึ้นแสดงว่า 2 มันต้องไปปรากฎที่ไหนสักที่หนึ่ง มันถูกแทรกเข้าไปใน list_x1 แล้ว"
      ],
      "metadata": {
        "id": "l9gz98JvLxeY"
      },
      "execution_count": 22,
      "outputs": []
    },
    {
      "cell_type": "code",
      "source": [
        "list_x1 #จะได้ผลออกมา"
      ],
      "metadata": {
        "colab": {
          "base_uri": "https://localhost:8080/"
        },
        "id": "qgdIcWt8Lybf",
        "outputId": "69192ad4-c15b-4760-8c74-fe6e75f3a220"
      },
      "execution_count": 23,
      "outputs": [
        {
          "output_type": "execute_result",
          "data": {
            "text/plain": [
              "[2]"
            ]
          },
          "metadata": {},
          "execution_count": 23
        }
      ]
    },
    {
      "cell_type": "code",
      "source": [
        "list_x1.append(4) #เอา 4 มาแทนใน list_x1\n",
        "print(list_x1) #ปริ้นค่า list_x1"
      ],
      "metadata": {
        "colab": {
          "base_uri": "https://localhost:8080/"
        },
        "id": "jKftWE8bLzlB",
        "outputId": "4276098e-e695-4a31-8b7c-653f6acccb57"
      },
      "execution_count": 24,
      "outputs": [
        {
          "output_type": "stream",
          "name": "stdout",
          "text": [
            "[2, 4]\n"
          ]
        }
      ]
    },
    {
      "cell_type": "code",
      "source": [
        "list_x1[0] #ตัวที่ 0 คือเลข 2"
      ],
      "metadata": {
        "colab": {
          "base_uri": "https://localhost:8080/"
        },
        "id": "T3E5Ob2xL0do",
        "outputId": "248ea9c6-e474-45e8-9b83-0383fd791cca"
      },
      "execution_count": 29,
      "outputs": [
        {
          "output_type": "execute_result",
          "data": {
            "text/plain": [
              "2"
            ]
          },
          "metadata": {},
          "execution_count": 29
        }
      ]
    },
    {
      "cell_type": "code",
      "source": [
        "list_x1[-1] #-1 คือดึงตัวให้แสดงออกมาคือตัวหลังตัวแรก"
      ],
      "metadata": {
        "colab": {
          "base_uri": "https://localhost:8080/"
        },
        "id": "ihCxc1f8L1dA",
        "outputId": "98e06d36-d9f0-4dc6-80f9-2d984d5b3e84"
      },
      "execution_count": 28,
      "outputs": [
        {
          "output_type": "execute_result",
          "data": {
            "text/plain": [
              "4"
            ]
          },
          "metadata": {},
          "execution_count": 28
        }
      ]
    },
    {
      "cell_type": "code",
      "source": [
        "list_x2 #จะเป็นช่องว่าง"
      ],
      "metadata": {
        "colab": {
          "base_uri": "https://localhost:8080/"
        },
        "id": "unTB65u3L2ph",
        "outputId": "d06faf75-4176-4095-dbf5-fb86c011faab"
      },
      "execution_count": 27,
      "outputs": [
        {
          "output_type": "execute_result",
          "data": {
            "text/plain": [
              "['ha']"
            ]
          },
          "metadata": {},
          "execution_count": 27
        }
      ]
    },
    {
      "cell_type": "code",
      "source": [
        "list_x2.append('ha')  #แทนค่า ha ใน list_x2"
      ],
      "metadata": {
        "id": "ko3X-u4xL3b3"
      },
      "execution_count": 26,
      "outputs": []
    },
    {
      "cell_type": "code",
      "source": [
        "list_x2 #แสดงค่า list_x2 ออกมา #ที่ผลรันออกมา 2 ตัวเพราะรัน 2 ครั้ง"
      ],
      "metadata": {
        "colab": {
          "base_uri": "https://localhost:8080/"
        },
        "id": "ZL6kSQdAL4Sn",
        "outputId": "49528626-f121-4b45-ef4f-884b0d3919db"
      },
      "execution_count": 25,
      "outputs": [
        {
          "output_type": "execute_result",
          "data": {
            "text/plain": [
              "[]"
            ]
          },
          "metadata": {},
          "execution_count": 25
        }
      ]
    },
    {
      "cell_type": "markdown",
      "source": [
        "## ลบสมาชิกจาก list"
      ],
      "metadata": {
        "id": "yo13OvU5L5Gw"
      }
    },
    {
      "cell_type": "code",
      "source": [
        "list_x1.append('ha') # ลบคำว่า ha ออกครั้งนึง"
      ],
      "metadata": {
        "id": "E7yug-O7L6In"
      },
      "execution_count": 33,
      "outputs": []
    },
    {
      "cell_type": "code",
      "source": [
        "list_x1 #ลองแสดงค่าออกมาดู"
      ],
      "metadata": {
        "colab": {
          "base_uri": "https://localhost:8080/"
        },
        "id": "Ir2ZSr9mL60P",
        "outputId": "939939d0-4a74-4847-9110-066b04cb45d3"
      },
      "execution_count": 32,
      "outputs": [
        {
          "output_type": "execute_result",
          "data": {
            "text/plain": [
              "[]"
            ]
          },
          "metadata": {},
          "execution_count": 32
        }
      ]
    },
    {
      "cell_type": "code",
      "source": [
        "list_x1.pop() #ลบค่า x1 ครั้งที่ 1"
      ],
      "metadata": {
        "colab": {
          "base_uri": "https://localhost:8080/"
        },
        "id": "jvBXiS7aL7jg",
        "outputId": "64e84cc7-5550-4d32-ae9d-04641d1743b4"
      },
      "execution_count": 31,
      "outputs": [
        {
          "output_type": "execute_result",
          "data": {
            "text/plain": [
              "2"
            ]
          },
          "metadata": {},
          "execution_count": 31
        }
      ]
    },
    {
      "cell_type": "code",
      "source": [
        "list_x1.pop() #ลบคำว่า ha ออก\n",
        "print(list_x1) #ผลรันออกมาก็ตะได้แค่ 2 กับ 4"
      ],
      "metadata": {
        "colab": {
          "base_uri": "https://localhost:8080/"
        },
        "id": "9JnGaahgL8iv",
        "outputId": "d83aa53a-e598-4874-d330-90b55a95d7f1"
      },
      "execution_count": 30,
      "outputs": [
        {
          "output_type": "stream",
          "name": "stdout",
          "text": [
            "[2]\n"
          ]
        }
      ]
    },
    {
      "cell_type": "markdown",
      "source": [
        "## len() ตรวจสอบจำนวนสมาชิกของ list"
      ],
      "metadata": {
        "id": "wB8mSN5KL9ky"
      }
    },
    {
      "cell_type": "code",
      "source": [
        "print(list_b) #ปริ้นค่าที่อยู่ใน list_b ออกมา\n",
        "print(len(list_b)) #ปริ้นจำนวนใน list_b ออกมา"
      ],
      "metadata": {
        "colab": {
          "base_uri": "https://localhost:8080/"
        },
        "id": "t-npaezwL-6P",
        "outputId": "77f9511e-928e-4143-bdf5-dde45a45a2be"
      },
      "execution_count": 34,
      "outputs": [
        {
          "output_type": "stream",
          "name": "stdout",
          "text": [
            "['ab', 2, 3.14, [1, 2, 3, 4, 5, 6]]\n",
            "4\n"
          ]
        }
      ]
    },
    {
      "cell_type": "code",
      "source": [
        "len(list_a) #ปริ้นจำนวนใน list_a ออกมา"
      ],
      "metadata": {
        "colab": {
          "base_uri": "https://localhost:8080/"
        },
        "id": "lKjgngqKL_6o",
        "outputId": "9836fd31-a993-46b0-8b18-ce9d5fe8a5ce"
      },
      "execution_count": 35,
      "outputs": [
        {
          "output_type": "execute_result",
          "data": {
            "text/plain": [
              "6"
            ]
          },
          "metadata": {},
          "execution_count": 35
        }
      ]
    },
    {
      "cell_type": "markdown",
      "source": [
        "## String is a list of charactesrs"
      ],
      "metadata": {
        "id": "O8pKM7GNMBqv"
      }
    },
    {
      "cell_type": "code",
      "source": [
        "st_stat = 'Department od Statistics, Faclty od Science ' #เก็บข้อมูลไว้ใน st_stat"
      ],
      "metadata": {
        "id": "C_fyI-4-MAuR"
      },
      "execution_count": 36,
      "outputs": []
    },
    {
      "cell_type": "code",
      "source": [
        "st_stat[10] #ดูตัวที่ 10"
      ],
      "metadata": {
        "colab": {
          "base_uri": "https://localhost:8080/",
          "height": 35
        },
        "id": "mYFNpuBXMEDf",
        "outputId": "47687ae9-f5b9-4486-a11e-10b5d6aa639d"
      },
      "execution_count": 37,
      "outputs": [
        {
          "output_type": "execute_result",
          "data": {
            "application/vnd.google.colaboratory.intrinsic+json": {
              "type": "string"
            },
            "text/plain": [
              "' '"
            ]
          },
          "metadata": {},
          "execution_count": 37
        }
      ]
    },
    {
      "cell_type": "code",
      "source": [
        "len(st_stat) #ดูว่ามีความยาวเท่าไหร่"
      ],
      "metadata": {
        "colab": {
          "base_uri": "https://localhost:8080/"
        },
        "id": "ua9McbMkMEwP",
        "outputId": "88e768f3-e1ff-4a7c-9b4c-a9b7561fc301"
      },
      "execution_count": 38,
      "outputs": [
        {
          "output_type": "execute_result",
          "data": {
            "text/plain": [
              "44"
            ]
          },
          "metadata": {},
          "execution_count": 38
        }
      ]
    },
    {
      "cell_type": "markdown",
      "source": [
        "List Slicing การเฉือน list :\n",
        "\n",
        "list [จุดเริ่มต้น(ทึบ) : จุดสุดท้าย (โปร่ง)]\n",
        "\n",
        "list [ จุดเริ่มต้น (ทึบ) : จุดสุดท้าย (โปร่ง) : step)]"
      ],
      "metadata": {
        "id": "Tqy6HU8rMFr_"
      }
    },
    {
      "cell_type": "code",
      "source": [
        "list_a #แสดงค่า list_a"
      ],
      "metadata": {
        "colab": {
          "base_uri": "https://localhost:8080/"
        },
        "id": "AumdYVnWMINf",
        "outputId": "b557f629-cb06-416a-9451-adee36eef2cd"
      },
      "execution_count": 39,
      "outputs": [
        {
          "output_type": "execute_result",
          "data": {
            "text/plain": [
              "[1, 2, 3, 4, 5, 6]"
            ]
          },
          "metadata": {},
          "execution_count": 39
        }
      ]
    },
    {
      "cell_type": "code",
      "source": [
        "list_a[2] #แสดงค่าตัวที่ 2 ใน list คือ 3"
      ],
      "metadata": {
        "colab": {
          "base_uri": "https://localhost:8080/"
        },
        "id": "aeVSDDbSMLHw",
        "outputId": "fcd785f7-cebe-40e2-d8cf-94447f0ee1ac"
      },
      "execution_count": 40,
      "outputs": [
        {
          "output_type": "execute_result",
          "data": {
            "text/plain": [
              "3"
            ]
          },
          "metadata": {},
          "execution_count": 40
        }
      ]
    },
    {
      "cell_type": "code",
      "source": [
        "list_a[-3:]  # : เรียกว่า Colon #เอา 3 ตัวสรุดท้ายจากด้านหลัง เพราะมี -"
      ],
      "metadata": {
        "colab": {
          "base_uri": "https://localhost:8080/"
        },
        "id": "HETkKwS0MMU6",
        "outputId": "e8beb23f-6b11-4258-9509-79c908a718c2"
      },
      "execution_count": 41,
      "outputs": [
        {
          "output_type": "execute_result",
          "data": {
            "text/plain": [
              "[4, 5, 6]"
            ]
          },
          "metadata": {},
          "execution_count": 41
        }
      ]
    },
    {
      "cell_type": "code",
      "source": [
        "list_a[1:4] #เริ่มต้นตัวที่ 1 นับไปถึงตัวที่ 4 แต่ไม่เอาตัวที่ 4 เอาแค่ตัวที่ 3 พอ #หลัง colon ไม่ใส่ละไว้ในฐานที่เข้าใจ"
      ],
      "metadata": {
        "colab": {
          "base_uri": "https://localhost:8080/"
        },
        "id": "z_6oocuUMNfg",
        "outputId": "cada386f-f911-4ffe-facd-268da49ea9f3"
      },
      "execution_count": 42,
      "outputs": [
        {
          "output_type": "execute_result",
          "data": {
            "text/plain": [
              "[2, 3, 4]"
            ]
          },
          "metadata": {},
          "execution_count": 42
        }
      ]
    },
    {
      "cell_type": "code",
      "source": [
        "list_a[:4] #เอาคั้งแต่ตัวที่ 0 ถึงตัวที่ 3"
      ],
      "metadata": {
        "colab": {
          "base_uri": "https://localhost:8080/"
        },
        "id": "BkvyLFcoMOlq",
        "outputId": "c21db22e-4b82-4311-9e86-1a2f0fe47569"
      },
      "execution_count": 43,
      "outputs": [
        {
          "output_type": "execute_result",
          "data": {
            "text/plain": [
              "[1, 2, 3, 4]"
            ]
          },
          "metadata": {},
          "execution_count": 43
        }
      ]
    },
    {
      "cell_type": "code",
      "source": [
        "list_a[:] #เอาทุกตัว"
      ],
      "metadata": {
        "colab": {
          "base_uri": "https://localhost:8080/"
        },
        "id": "fuQApVStMPTY",
        "outputId": "db7a04e0-b508-464c-d260-a5200d9472d8"
      },
      "execution_count": 44,
      "outputs": [
        {
          "output_type": "execute_result",
          "data": {
            "text/plain": [
              "[1, 2, 3, 4, 5, 6]"
            ]
          },
          "metadata": {},
          "execution_count": 44
        }
      ]
    },
    {
      "cell_type": "markdown",
      "source": [
        "## Step"
      ],
      "metadata": {
        "id": "HOlJ39nqMP_o"
      }
    },
    {
      "cell_type": "code",
      "source": [
        "list_c = [1,2,3,4,5,6,7,8,9,10,11,12,13,] #เก็บค่าไว้ในตัวแปร list_c"
      ],
      "metadata": {
        "id": "f6qTiXL0MRD4"
      },
      "execution_count": 45,
      "outputs": []
    },
    {
      "cell_type": "code",
      "source": [
        "list_c[:10:] #เอา 10 ตัวแรก"
      ],
      "metadata": {
        "colab": {
          "base_uri": "https://localhost:8080/"
        },
        "id": "daSphKj7MSJI",
        "outputId": "5d451f98-dd18-4b77-b9af-9e0cdb5d9a85"
      },
      "execution_count": 48,
      "outputs": [
        {
          "output_type": "execute_result",
          "data": {
            "text/plain": [
              "[1, 2, 3, 4, 5, 6, 7, 8, 9, 10]"
            ]
          },
          "metadata": {},
          "execution_count": 48
        }
      ]
    },
    {
      "cell_type": "code",
      "source": [
        "list_c[:10:2] #กระโดนทีละ 2 ขั้น"
      ],
      "metadata": {
        "colab": {
          "base_uri": "https://localhost:8080/"
        },
        "id": "b7FFEGe9MS65",
        "outputId": "9588f2d1-a537-47b2-ccc6-b0cfaddf4d6e"
      },
      "execution_count": 46,
      "outputs": [
        {
          "output_type": "execute_result",
          "data": {
            "text/plain": [
              "[1, 3, 5, 7, 9]"
            ]
          },
          "metadata": {},
          "execution_count": 46
        }
      ]
    },
    {
      "cell_type": "code",
      "source": [
        "list_c[::-1] #วิ่งมาจากด้านหลัง"
      ],
      "metadata": {
        "colab": {
          "base_uri": "https://localhost:8080/"
        },
        "id": "OGhBK4dwMTzQ",
        "outputId": "1e6328d2-19fd-4fd9-b062-19c8b0890ffb"
      },
      "execution_count": 47,
      "outputs": [
        {
          "output_type": "execute_result",
          "data": {
            "text/plain": [
              "[13, 12, 11, 10, 9, 8, 7, 6, 5, 4, 3, 2, 1]"
            ]
          },
          "metadata": {},
          "execution_count": 47
        }
      ]
    },
    {
      "cell_type": "markdown",
      "source": [
        "## range()"
      ],
      "metadata": {
        "id": "6il3geNrMUmI"
      }
    },
    {
      "cell_type": "code",
      "source": [
        "range(21) #ในลักษณะ list เริ่ม 0 โปร่งค้าที่ 21 จะได้แค่ 20 ตัว #อาจจะเป็นการวนลูบก็ได้"
      ],
      "metadata": {
        "colab": {
          "base_uri": "https://localhost:8080/"
        },
        "id": "kA5YglQRMV0Y",
        "outputId": "468df896-a10e-43bb-ca46-b1f5871b843e"
      },
      "execution_count": 49,
      "outputs": [
        {
          "output_type": "execute_result",
          "data": {
            "text/plain": [
              "range(0, 21)"
            ]
          },
          "metadata": {},
          "execution_count": 49
        }
      ]
    },
    {
      "cell_type": "code",
      "source": [
        "a = list(range(21)) # เก็บตัวแปรไว้ใน a"
      ],
      "metadata": {
        "id": "6Vf2nvfvMWoc"
      },
      "execution_count": 50,
      "outputs": []
    },
    {
      "cell_type": "code",
      "source": [
        "a #รับค่าออกมาดู"
      ],
      "metadata": {
        "colab": {
          "base_uri": "https://localhost:8080/"
        },
        "id": "jLfue9zqMXUY",
        "outputId": "848faae6-d899-4746-d660-af8a19b74588"
      },
      "execution_count": 52,
      "outputs": [
        {
          "output_type": "execute_result",
          "data": {
            "text/plain": [
              "[0, 1, 2, 3, 4, 5, 6, 7, 8, 9, 10, 11, 12, 13, 14, 15, 16, 17, 18, 19, 20]"
            ]
          },
          "metadata": {},
          "execution_count": 52
        }
      ]
    },
    {
      "cell_type": "code",
      "source": [
        "list(range(1,21)) #รันค่าออกดู"
      ],
      "metadata": {
        "colab": {
          "base_uri": "https://localhost:8080/"
        },
        "id": "T-KgxwLZMYII",
        "outputId": "3cf35c6b-f13d-4af9-eb23-68a8bf99b556"
      },
      "execution_count": 51,
      "outputs": [
        {
          "output_type": "execute_result",
          "data": {
            "text/plain": [
              "[1, 2, 3, 4, 5, 6, 7, 8, 9, 10, 11, 12, 13, 14, 15, 16, 17, 18, 19, 20]"
            ]
          },
          "metadata": {},
          "execution_count": 51
        }
      ]
    },
    {
      "cell_type": "markdown",
      "source": [
        "การบ้านครั้งที่ 2 (เดี่ยว) คำนวณเวลาเป็นวินาทีของเวลาต่อไปนี้โดยใช้คำสั่ง split() ช่วย (print ออกมาให้สวยงาม)\n",
        "*   12:30:15\n",
        "*   13:41:07\n",
        "*   09:11:50\n",
        "*   21:30:15\n",
        "*   03:10:15\n",
        "\n",
        "\n",
        "\n"
      ],
      "metadata": {
        "id": "ObAUvMdBMaPI"
      }
    },
    {
      "cell_type": "code",
      "source": [
        "#01:02:03 \n",
        "\n",
        "a = (1*60*60) + (2*60) + 3\n",
        "print(f'01:02:03 แปลงเป็นวินาทีได้ {a} วินาที')"
      ],
      "metadata": {
        "colab": {
          "base_uri": "https://localhost:8080/"
        },
        "id": "n5bhqUnMMjt4",
        "outputId": "fb9d3724-6a66-4e69-df6e-3ea8114263b4"
      },
      "execution_count": 53,
      "outputs": [
        {
          "output_type": "stream",
          "name": "stdout",
          "text": [
            "01:02:03 แปลงเป็นวินาทีได้ 3723 วินาที\n"
          ]
        }
      ]
    },
    {
      "cell_type": "markdown",
      "source": [
        "### ข้อที่ 1 --> 12:30:15"
      ],
      "metadata": {
        "id": "vugkbDmCMmN7"
      }
    },
    {
      "cell_type": "code",
      "source": [
        "ex_1 = (12*60*60) + (30*60) + 15\n",
        "print(f'12 นาฬิกา 2 นาที กับอีก 3 วินาที สามารถแปลงเป็นวินาทีได้เท่ากับ -->  {ex_1} วินาที')"
      ],
      "metadata": {
        "colab": {
          "base_uri": "https://localhost:8080/"
        },
        "id": "IFf4_8KoMnlg",
        "outputId": "3b1ac7e4-ec80-423b-9c3b-e962caf2e9b8"
      },
      "execution_count": 54,
      "outputs": [
        {
          "output_type": "stream",
          "name": "stdout",
          "text": [
            "12 นาฬิกา 2 นาที กับอีก 3 วินาที สามารถแปลงเป็นวินาทีได้เท่ากับ -->  45015 วินาที\n"
          ]
        }
      ]
    },
    {
      "cell_type": "markdown",
      "source": [
        "### ข้อที่ 2 --> 13:41:07"
      ],
      "metadata": {
        "id": "HcsEx6ATMq2C"
      }
    },
    {
      "cell_type": "code",
      "source": [
        "ex_2 = (13*60*60) + (41*60) + 7\n",
        "print(f'13 นาฬิกา 41 นาที กับอีก 7 วินาที สามารถแปลงเป็นวินาทีได้เท่ากับ -->  {ex_2} วินาที')"
      ],
      "metadata": {
        "colab": {
          "base_uri": "https://localhost:8080/"
        },
        "id": "fPAmy97VMqao",
        "outputId": "ce41092d-e9f7-4ab0-8e51-0134354b50ee"
      },
      "execution_count": 55,
      "outputs": [
        {
          "output_type": "stream",
          "name": "stdout",
          "text": [
            "13 นาฬิกา 41 นาที กับอีก 7 วินาที สามารถแปลงเป็นวินาทีได้เท่ากับ -->  49267 วินาที\n"
          ]
        }
      ]
    },
    {
      "cell_type": "markdown",
      "source": [
        "### ข้อที่ 3 --> 09:11:50"
      ],
      "metadata": {
        "id": "L4O91BWoMslE"
      }
    },
    {
      "cell_type": "code",
      "source": [
        "ex_3 = (9*60*60) + (11*60) + 50\n",
        "print(f'9 นาฬิกา 11 นาที กับอีก 50 วินาที สามารถแปลงเป็นวินาทีได้เท่ากับ -->  {ex_3} วินาที')"
      ],
      "metadata": {
        "colab": {
          "base_uri": "https://localhost:8080/"
        },
        "id": "FZTOl7ZFMu_I",
        "outputId": "acf61b2f-e96e-4994-a18d-2329b38c355e"
      },
      "execution_count": 56,
      "outputs": [
        {
          "output_type": "stream",
          "name": "stdout",
          "text": [
            "9 นาฬิกา 11 นาที กับอีก 50 วินาที สามารถแปลงเป็นวินาทีได้เท่ากับ -->  33110 วินาที\n"
          ]
        }
      ]
    },
    {
      "cell_type": "markdown",
      "source": [
        "### ข้อที่ 4 --> 21:30:15"
      ],
      "metadata": {
        "id": "3UAqEti8MvhI"
      }
    },
    {
      "cell_type": "code",
      "source": [
        "ex_4 = (21*60*60) + (30*60) + 15\n",
        "print(f'21 นาฬิกา 30 นาที กับอีก 15 วินาที สามารถแปลงเป็นวินาทีได้เท่ากับ -->  {ex_4} วินาที')"
      ],
      "metadata": {
        "colab": {
          "base_uri": "https://localhost:8080/"
        },
        "id": "KuJM6DrpMySS",
        "outputId": "5b378c9a-c41a-45e8-e24b-1d9a1b808acd"
      },
      "execution_count": 57,
      "outputs": [
        {
          "output_type": "stream",
          "name": "stdout",
          "text": [
            "21 นาฬิกา 30 นาที กับอีก 15 วินาที สามารถแปลงเป็นวินาทีได้เท่ากับ -->  77415 วินาที\n"
          ]
        }
      ]
    },
    {
      "cell_type": "markdown",
      "source": [
        "### ข้อที่ 5 --> 03:10:15"
      ],
      "metadata": {
        "id": "81Ia3blIMzOL"
      }
    },
    {
      "cell_type": "code",
      "source": [
        "ex_5 = (3*60*60) + (10*60) + 15\n",
        "print(f' 3 นาฬิกา 10 นาที กับอีก 15 วินาที สามารถแปลงเป็นวินาทีได้เท่ากับ -->  {ex_5} วินาที')"
      ],
      "metadata": {
        "colab": {
          "base_uri": "https://localhost:8080/"
        },
        "id": "dPfiuUSQM0kI",
        "outputId": "28377cc8-1b3f-4c96-95bb-bb9d6a627a45"
      },
      "execution_count": 58,
      "outputs": [
        {
          "output_type": "stream",
          "name": "stdout",
          "text": [
            " 3 นาฬิกา 10 นาที กับอีก 15 วินาที สามารถแปลงเป็นวินาทีได้เท่ากับ -->  11415 วินาที\n"
          ]
        }
      ]
    }
  ]
}